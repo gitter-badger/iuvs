{
 "cells": [
  {
   "cell_type": "code",
   "execution_count": 17,
   "metadata": {
    "collapsed": false
   },
   "outputs": [
    {
     "data": {
      "text/plain": [
       "1"
      ]
     },
     "execution_count": 17,
     "metadata": {},
     "output_type": "execute_result"
    }
   ],
   "source": [
    "fnames = pd.Series(io.l1a_filenames(\"mvn_iuv_l1a_APP2-orbit00256-mode0001-muvdark_20141115T222516_v02_s01\", iterator=False, stage=True))\n",
    "fnames.size"
   ]
  },
  {
   "cell_type": "code",
   "execution_count": 2,
   "metadata": {
    "collapsed": false
   },
   "outputs": [],
   "source": [
    "pd.options.display.max_columns = 100"
   ]
  },
  {
   "cell_type": "code",
   "execution_count": 38,
   "metadata": {
    "collapsed": false
   },
   "outputs": [],
   "source": [
    "from IPython.parallel import Client\n",
    "c = Client()"
   ]
  },
  {
   "cell_type": "code",
   "execution_count": 39,
   "metadata": {
    "collapsed": true
   },
   "outputs": [],
   "source": [
    "dview = c.direct_view()\n",
    "lview = c.load_balanced_view()"
   ]
  },
  {
   "cell_type": "code",
   "execution_count": 18,
   "metadata": {
    "collapsed": false
   },
   "outputs": [],
   "source": [
    "l1a = io.L1AReader(fnames[0])"
   ]
  },
  {
   "cell_type": "code",
   "execution_count": 19,
   "metadata": {
    "collapsed": false
   },
   "outputs": [
    {
     "data": {
      "text/plain": [
       "SIMPLE  =                    T /Primary Header created by MWRFITS v1.11         \n",
       "BITPIX  =                   32 /                                                \n",
       "NAXIS   =                    2 /                                                \n",
       "NAXIS1  =                  256 /                                                \n",
       "NAXIS2  =                    7 /                                                \n",
       "EXTEND  =                    T /Extensions may be present                       \n",
       "COMMENT MAVEN IUVS Level 1A Data Product                                        \n",
       "COMMENT IUVS Principal Investigator N. Schneider                                \n",
       "COMMENT Laboratory for Atmospheric and Space Physics                            \n",
       "COMMENT University of Colorado Boulder                                          \n",
       "COMMENT 1234 Innovation Drive, Boulder CO 80303                                 \n",
       "COMMENT MAVEN Mission scientific and model results are open to all.             \n",
       "COMMENT Users should contact the PI or designated IUVS team member early in an  \n",
       "COMMENT analysis project to discuss appropriate use of instrument data results. \n",
       "COMMENT Appropriate acknowledgement to institutions, personnel, and funding     \n",
       "COMMENT agencies should be given. Version numbers should also be specified.     \n",
       "BLANK   = -1 /fill value for data in integer format                             \n",
       "FILENAME= 'mvn_iuv_l1a_APP2-orbit00256-mode0001-muvdark_20141115T222516_v02_s01'\n",
       "CAPTURE = '2014/319 Nov 15 22:25:16.99981UTC' /Start of integration SCET        \n",
       "PROCESS = '2015/109 Apr 19 02:15:05.00000UTC' /File processing time             \n",
       "SW_VER  = '929' /SVN revision of processing code                                \n",
       "XUV     = 'MUV'                                                                 \n",
       "OBS_ID  =                    1                                                  \n",
       "INT_TIME=    4.200 /Integration time in seconds                                 \n",
       "MCP_VOLT=   -1.830 /MCP voltage in volts                                        \n",
       "MIR_DEG =   11.689 /Mirror position in deg                                      \n",
       "N_FILL  =            0 //Number of absent bins in observation                   \n",
       "BIN_TBL = 'LINEAR 7,8 APPCal2_orbit3'                                           \n",
       "SPA_OFS =       96 //Spatial linear bin offset                                  \n",
       "SPA_SIZE=      115 //Number of pixels per spatial bin                           \n",
       "SPE_OFS =        0 //Spectral linear bin offset                                 \n",
       "SPE_SIZE=        4 //Number of pixels per spectral bin                          \n",
       "COMMENT Raw data for this observation                                           "
      ]
     },
     "execution_count": 19,
     "metadata": {},
     "output_type": "execute_result"
    }
   ],
   "source": [
    "l1a.img_header"
   ]
  },
  {
   "cell_type": "code",
   "execution_count": 24,
   "metadata": {
    "collapsed": false
   },
   "outputs": [
    {
     "data": {
      "text/plain": [
       "chararray(['mvn_iuv_l1a_APP2-orbit00256-mode0001-muvdark_20141115T222516_v02_s01'], \n",
       "      dtype='<U68')"
      ]
     },
     "execution_count": 24,
     "metadata": {},
     "output_type": "execute_result"
    }
   ],
   "source": [
    "l1a.Observation['PRODUCT_ID']"
   ]
  },
  {
   "cell_type": "code",
   "execution_count": 13,
   "metadata": {
    "collapsed": false
   },
   "outputs": [
    {
     "data": {
      "text/plain": [
       "2"
      ]
     },
     "execution_count": 13,
     "metadata": {},
     "output_type": "execute_result"
    }
   ],
   "source": [
    "l1a.n_integrations"
   ]
  },
  {
   "cell_type": "code",
   "execution_count": 15,
   "metadata": {
    "collapsed": false
   },
   "outputs": [
    {
     "data": {
      "text/plain": [
       "3"
      ]
     },
     "execution_count": 15,
     "metadata": {},
     "output_type": "execute_result"
    }
   ],
   "source": [
    "l1a.n_dims"
   ]
  },
  {
   "cell_type": "code",
   "execution_count": 16,
   "metadata": {
    "collapsed": false
   },
   "outputs": [
    {
     "data": {
      "text/html": [
       "<div>\n",
       "<table border=\"1\" class=\"dataframe\">\n",
       "  <thead>\n",
       "    <tr style=\"text-align: right;\">\n",
       "      <th></th>\n",
       "      <th>TIMESTAMP</th>\n",
       "      <th>ET</th>\n",
       "      <th>UTC</th>\n",
       "      <th>MIRROR_DN</th>\n",
       "      <th>MIRROR_DEG</th>\n",
       "      <th>FOV_DEG</th>\n",
       "      <th>LYA_CENTROID</th>\n",
       "      <th>CASE_TEMP</th>\n",
       "      <th>DET_TEMP</th>\n",
       "    </tr>\n",
       "  </thead>\n",
       "  <tbody>\n",
       "    <tr>\n",
       "      <th>0</th>\n",
       "      <td>4.740133e+08</td>\n",
       "      <td>4.740134e+08</td>\n",
       "      <td>2015/008 Jan 08 18:21:38.42850UTC</td>\n",
       "      <td>16087</td>\n",
       "      <td>8.64624</td>\n",
       "      <td>17.29248</td>\n",
       "      <td>1</td>\n",
       "      <td>15964</td>\n",
       "      <td>2600</td>\n",
       "    </tr>\n",
       "    <tr>\n",
       "      <th>1</th>\n",
       "      <td>4.740133e+08</td>\n",
       "      <td>4.740134e+08</td>\n",
       "      <td>2015/008 Jan 08 18:21:43.22849UTC</td>\n",
       "      <td>16087</td>\n",
       "      <td>8.64624</td>\n",
       "      <td>17.29248</td>\n",
       "      <td>1</td>\n",
       "      <td>15964</td>\n",
       "      <td>2604</td>\n",
       "    </tr>\n",
       "  </tbody>\n",
       "</table>\n",
       "</div>"
      ],
      "text/plain": [
       "      TIMESTAMP            ET                                UTC  MIRROR_DN  \\\n",
       "0  4.740133e+08  4.740134e+08  2015/008 Jan 08 18:21:38.42850UTC      16087   \n",
       "1  4.740133e+08  4.740134e+08  2015/008 Jan 08 18:21:43.22849UTC      16087   \n",
       "\n",
       "   MIRROR_DEG   FOV_DEG  LYA_CENTROID  CASE_TEMP  DET_TEMP  \n",
       "0     8.64624  17.29248             1      15964      2600  \n",
       "1     8.64624  17.29248             1      15964      2604  "
      ]
     },
     "execution_count": 16,
     "metadata": {},
     "output_type": "execute_result"
    }
   ],
   "source": [
    "l1a.Integration"
   ]
  },
  {
   "cell_type": "markdown",
   "metadata": {},
   "source": [
    "## When I only scan for darks, len(fnames) < 10000, so I can keep the dataframes in memory.\n",
    "\n",
    "### If that is a problem, don't return the dataframe at the end!"
   ]
  },
  {
   "cell_type": "code",
   "execution_count": 40,
   "metadata": {
    "collapsed": true
   },
   "outputs": [],
   "source": [
    "def process_fname(fname):\n",
    "    import numpy as np\n",
    "    l1a = io.L1AReader(fname)\n",
    "    if l1a.n_dims ==2 and l1a.n_integrations > 1:\n",
    "        return fname, 2\n",
    "    main_header = io.get_header_df(l1a.hdulist[0]).convert_objects()\n",
    "    integration = l1a.Integration.T.convert_objects()\n",
    "    if main_header['NAXIS'] == 2:\n",
    "        main_header['NAXIS3'] = np.nan\n",
    "        avgtuple = None\n",
    "    elif main_header['NAXIS'] == 3:\n",
    "        avgtuple = (1,2)\n",
    "    else:\n",
    "        return fname, 1\n",
    "    integration['mean'] = l1a.img.mean(axis=avgtuple)\n",
    "    integration['median'] = np.median(l1a.img, axis=avgtuple)\n",
    "    integration['std'] = l1a.img.std(axis=avgtuple)\n",
    "    joined = integration.join(pd.concat([pd.DataFrame(main_header).T] * len(integration),\n",
    "                                        ignore_index=True))\n",
    "    for col in l1a.Observation.names[:-3]:\n",
    "        val = l1a.Observation[col][0]\n",
    "        if col == 'COLLECTION_ID':\n",
    "            val = val[0]\n",
    "        joined[col] = val\n",
    "    joined = joined.convert_objects()\n",
    "    savepath = io.save_to_hdf(joined, fname, 'l1a_dark_scans')\n",
    "    return joined, 0"
   ]
  },
  {
   "cell_type": "code",
   "execution_count": 41,
   "metadata": {
    "collapsed": false
   },
   "outputs": [],
   "source": [
    "results = lview.map_async(process_fname, fnames)"
   ]
  },
  {
   "cell_type": "code",
   "execution_count": 42,
   "metadata": {
    "collapsed": false
   },
   "outputs": [],
   "source": [
    "from iuvs.multitools import nb_progress_display"
   ]
  },
  {
   "cell_type": "code",
   "execution_count": 43,
   "metadata": {
    "collapsed": false
   },
   "outputs": [],
   "source": [
    "nb_progress_display(results, fnames)"
   ]
  },
  {
   "cell_type": "code",
   "execution_count": 44,
   "metadata": {
    "collapsed": false,
    "scrolled": true
   },
   "outputs": [],
   "source": [
    "naxis_not_2_or_3 = []\n",
    "good_ones = []\n",
    "n_ints_larger1 = []\n",
    "for res in results:\n",
    "    if res[1] == 1:\n",
    "        naxis_not_2_or_3.append(res[0])\n",
    "    elif res[1] == 2:\n",
    "        n_ints_larger1.append(res[0])\n",
    "    else:\n",
    "        good_ones.append(res[0])"
   ]
  },
  {
   "cell_type": "code",
   "execution_count": 45,
   "metadata": {
    "collapsed": false
   },
   "outputs": [
    {
     "data": {
      "text/plain": [
       "6"
      ]
     },
     "execution_count": 45,
     "metadata": {},
     "output_type": "execute_result"
    }
   ],
   "source": [
    "len(n_ints_larger1)"
   ]
  },
  {
   "cell_type": "code",
   "execution_count": 46,
   "metadata": {
    "collapsed": false
   },
   "outputs": [
    {
     "data": {
      "text/plain": [
       "5"
      ]
     },
     "execution_count": 46,
     "metadata": {},
     "output_type": "execute_result"
    }
   ],
   "source": [
    "len(naxis_not_2_or_3)"
   ]
  },
  {
   "cell_type": "code",
   "execution_count": 47,
   "metadata": {
    "collapsed": false
   },
   "outputs": [
    {
     "data": {
      "text/plain": [
       "['/maven_iuvs/stage/products/level1a/mvn_iuv_l1a_apoapse-orbit01243-muvdark_20150521T095658_v02_s01.fits.gz',\n",
       " '/maven_iuvs/stage/products/level1a/mvn_iuv_l1a_apoapse-orbit01236-muvdark_20150520T035347_v02_s01.fits.gz',\n",
       " '/maven_iuvs/stage/products/level1a/mvn_iuv_l1a_apoapse-orbit01236-fuvdark_20150520T035347_v02_s01.fits.gz',\n",
       " '/maven_iuvs/stage/products/level1a/mvn_iuv_l1a_apoapse-orbit01243-fuvdark_20150521T095658_v02_s01.fits.gz',\n",
       " '/maven_iuvs/stage/products/level1a/mvn_iuv_l1a_apoapse-orbit01243-fuvdark_20150521T104548_v02_s01.fits.gz',\n",
       " '/maven_iuvs/stage/products/level1a/mvn_iuv_l1a_apoapse-orbit01243-fuvdark_20150521T120507_v02_s01.fits.gz']"
      ]
     },
     "execution_count": 47,
     "metadata": {},
     "output_type": "execute_result"
    }
   ],
   "source": [
    "n_ints_larger1"
   ]
  },
  {
   "cell_type": "code",
   "execution_count": 59,
   "metadata": {
    "collapsed": false
   },
   "outputs": [],
   "source": [
    "results_df = pd.concat(good_ones, ignore_index=True)"
   ]
  },
  {
   "cell_type": "code",
   "execution_count": 60,
   "metadata": {
    "collapsed": false
   },
   "outputs": [
    {
     "data": {
      "text/html": [
       "<div>\n",
       "<table border=\"1\" class=\"dataframe\">\n",
       "  <thead>\n",
       "    <tr style=\"text-align: right;\">\n",
       "      <th></th>\n",
       "      <th>ANC_SVN_REVISION</th>\n",
       "      <th>BIN_PATTERN_INDEX</th>\n",
       "      <th>BIN_TBL</th>\n",
       "      <th>BITPIX</th>\n",
       "      <th>BLANK</th>\n",
       "      <th>BUNDLE_ID</th>\n",
       "      <th>CADENCE</th>\n",
       "      <th>CAPTURE</th>\n",
       "      <th>CASE_TEMP</th>\n",
       "      <th>CHANNEL</th>\n",
       "      <th>CODE_SVN_REVISION</th>\n",
       "      <th>COLLECTION_ID</th>\n",
       "      <th>DET_TEMP</th>\n",
       "      <th>DUTY_CYCLE</th>\n",
       "      <th>ET</th>\n",
       "      <th>EXTEND</th>\n",
       "      <th>FILENAME</th>\n",
       "      <th>FOV_DEG</th>\n",
       "      <th>GRATING_SELECT</th>\n",
       "      <th>INT_TIME</th>\n",
       "      <th>KEYHOLE_SELECT</th>\n",
       "      <th>LYA_CENTROID</th>\n",
       "      <th>MCP_VOLT</th>\n",
       "      <th>MIRROR_DEG</th>\n",
       "      <th>MIRROR_DN</th>\n",
       "      <th>MIR_DEG</th>\n",
       "      <th>MISSION_PHASE</th>\n",
       "      <th>NAXIS</th>\n",
       "      <th>NAXIS1</th>\n",
       "      <th>NAXIS2</th>\n",
       "      <th>NAXIS3</th>\n",
       "      <th>N_FILL</th>\n",
       "      <th>OBSERVATION_TYPE</th>\n",
       "      <th>OBS_ID</th>\n",
       "      <th>ORBIT_NUMBER</th>\n",
       "      <th>ORBIT_SEGMENT</th>\n",
       "      <th>PROCESS</th>\n",
       "      <th>PRODUCT_CREATION_DATE</th>\n",
       "      <th>PRODUCT_ID</th>\n",
       "      <th>SIMPLE</th>\n",
       "      <th>SOLAR_LONGITUDE</th>\n",
       "      <th>SPA_OFS</th>\n",
       "      <th>SPA_SIZE</th>\n",
       "      <th>SPE_OFS</th>\n",
       "      <th>SPE_SIZE</th>\n",
       "      <th>SW_VER</th>\n",
       "      <th>TARGET_NAME</th>\n",
       "      <th>TIMESTAMP</th>\n",
       "      <th>UTC</th>\n",
       "      <th>XUV</th>\n",
       "      <th>mean</th>\n",
       "      <th>median</th>\n",
       "      <th>std</th>\n",
       "    </tr>\n",
       "  </thead>\n",
       "  <tbody>\n",
       "    <tr>\n",
       "      <th>0</th>\n",
       "      <td>929</td>\n",
       "      <td>LINEAR linear_0004</td>\n",
       "      <td>LINEAR 5,6 linear_0004</td>\n",
       "      <td>32</td>\n",
       "      <td>-1</td>\n",
       "      <td>raw</td>\n",
       "      <td>4.8</td>\n",
       "      <td>2014/338 Dec 04 02:03:22.79468UTC</td>\n",
       "      <td>15972</td>\n",
       "      <td>FUV</td>\n",
       "      <td>929</td>\n",
       "      <td>limb</td>\n",
       "      <td>2594</td>\n",
       "      <td>1.000000</td>\n",
       "      <td>4.709307e+08</td>\n",
       "      <td>True</td>\n",
       "      <td>mvn_iuv_l1a_periapse-orbit00351-fuvdark_201412...</td>\n",
       "      <td>23.373413</td>\n",
       "      <td>LOWRES</td>\n",
       "      <td>4.2</td>\n",
       "      <td>NEITHER</td>\n",
       "      <td>1</td>\n",
       "      <td>-1.83</td>\n",
       "      <td>11.686707</td>\n",
       "      <td>17194</td>\n",
       "      <td>11.689</td>\n",
       "      <td>PRIME</td>\n",
       "      <td>2</td>\n",
       "      <td>256</td>\n",
       "      <td>7</td>\n",
       "      <td>NaN</td>\n",
       "      <td>0</td>\n",
       "      <td>CDS</td>\n",
       "      <td>4</td>\n",
       "      <td>351</td>\n",
       "      <td>0</td>\n",
       "      <td>2015/108 Apr 18 18:28:06.00000UTC</td>\n",
       "      <td>2015/108 Apr 18 18:28:06.00000UTC</td>\n",
       "      <td>mvn_iuv_l1a_periapse-orbit00351-fuvdark_201412...</td>\n",
       "      <td>True</td>\n",
       "      <td>245.792343</td>\n",
       "      <td>89</td>\n",
       "      <td>115</td>\n",
       "      <td>0</td>\n",
       "      <td>4</td>\n",
       "      <td>929</td>\n",
       "      <td>MARS</td>\n",
       "      <td>4.709306e+08</td>\n",
       "      <td>2014/338 Dec 04 02:03:22.79468UTC</td>\n",
       "      <td>FUV</td>\n",
       "      <td>1024.759487</td>\n",
       "      <td>993.5</td>\n",
       "      <td>242.897055</td>\n",
       "    </tr>\n",
       "    <tr>\n",
       "      <th>1</th>\n",
       "      <td>929</td>\n",
       "      <td>LINEAR linear_0006</td>\n",
       "      <td>LINEAR 5,6 linear_0006</td>\n",
       "      <td>32</td>\n",
       "      <td>-1</td>\n",
       "      <td>raw</td>\n",
       "      <td>4.8</td>\n",
       "      <td>2015/008 Jan 08 18:21:38.42850UTC</td>\n",
       "      <td>15964</td>\n",
       "      <td>FUV</td>\n",
       "      <td>929</td>\n",
       "      <td>limb</td>\n",
       "      <td>2600</td>\n",
       "      <td>1.000000</td>\n",
       "      <td>4.740134e+08</td>\n",
       "      <td>True</td>\n",
       "      <td>mvn_iuv_l1a_periapse-orbit00538-fuvdark_201501...</td>\n",
       "      <td>17.292480</td>\n",
       "      <td>LOWRES</td>\n",
       "      <td>4.2</td>\n",
       "      <td>NEITHER</td>\n",
       "      <td>1</td>\n",
       "      <td>-1.83</td>\n",
       "      <td>8.646240</td>\n",
       "      <td>16087</td>\n",
       "      <td>8.649</td>\n",
       "      <td>PRIME</td>\n",
       "      <td>3</td>\n",
       "      <td>256</td>\n",
       "      <td>7</td>\n",
       "      <td>2</td>\n",
       "      <td>0</td>\n",
       "      <td>CDS</td>\n",
       "      <td>6</td>\n",
       "      <td>538</td>\n",
       "      <td>0</td>\n",
       "      <td>2015/108 Apr 18 22:22:19.00000UTC</td>\n",
       "      <td>2015/108 Apr 18 22:22:19.00000UTC</td>\n",
       "      <td>mvn_iuv_l1a_periapse-orbit00538-fuvdark_201501...</td>\n",
       "      <td>True</td>\n",
       "      <td>268.399689</td>\n",
       "      <td>89</td>\n",
       "      <td>115</td>\n",
       "      <td>0</td>\n",
       "      <td>4</td>\n",
       "      <td>929</td>\n",
       "      <td>MARS</td>\n",
       "      <td>4.740133e+08</td>\n",
       "      <td>2015/008 Jan 08 18:21:38.42850UTC</td>\n",
       "      <td>FUV</td>\n",
       "      <td>1098.962612</td>\n",
       "      <td>1063.0</td>\n",
       "      <td>263.214653</td>\n",
       "    </tr>\n",
       "    <tr>\n",
       "      <th>2</th>\n",
       "      <td>929</td>\n",
       "      <td>LINEAR linear_0006</td>\n",
       "      <td>LINEAR 5,6 linear_0006</td>\n",
       "      <td>32</td>\n",
       "      <td>-1</td>\n",
       "      <td>raw</td>\n",
       "      <td>4.8</td>\n",
       "      <td>2015/008 Jan 08 18:21:38.42850UTC</td>\n",
       "      <td>15964</td>\n",
       "      <td>FUV</td>\n",
       "      <td>929</td>\n",
       "      <td>limb</td>\n",
       "      <td>2604</td>\n",
       "      <td>1.000000</td>\n",
       "      <td>4.740134e+08</td>\n",
       "      <td>True</td>\n",
       "      <td>mvn_iuv_l1a_periapse-orbit00538-fuvdark_201501...</td>\n",
       "      <td>17.292480</td>\n",
       "      <td>LOWRES</td>\n",
       "      <td>4.2</td>\n",
       "      <td>NEITHER</td>\n",
       "      <td>1</td>\n",
       "      <td>-1.83</td>\n",
       "      <td>8.646240</td>\n",
       "      <td>16087</td>\n",
       "      <td>8.649</td>\n",
       "      <td>PRIME</td>\n",
       "      <td>3</td>\n",
       "      <td>256</td>\n",
       "      <td>7</td>\n",
       "      <td>2</td>\n",
       "      <td>0</td>\n",
       "      <td>CDS</td>\n",
       "      <td>6</td>\n",
       "      <td>538</td>\n",
       "      <td>0</td>\n",
       "      <td>2015/108 Apr 18 22:22:19.00000UTC</td>\n",
       "      <td>2015/108 Apr 18 22:22:19.00000UTC</td>\n",
       "      <td>mvn_iuv_l1a_periapse-orbit00538-fuvdark_201501...</td>\n",
       "      <td>True</td>\n",
       "      <td>268.399689</td>\n",
       "      <td>89</td>\n",
       "      <td>115</td>\n",
       "      <td>0</td>\n",
       "      <td>4</td>\n",
       "      <td>929</td>\n",
       "      <td>MARS</td>\n",
       "      <td>4.740133e+08</td>\n",
       "      <td>2015/008 Jan 08 18:21:43.22849UTC</td>\n",
       "      <td>FUV</td>\n",
       "      <td>1012.230469</td>\n",
       "      <td>974.0</td>\n",
       "      <td>239.967113</td>\n",
       "    </tr>\n",
       "    <tr>\n",
       "      <th>3</th>\n",
       "      <td>929</td>\n",
       "      <td>LINEAR linear_0004</td>\n",
       "      <td>LINEAR 15,16 linear_0004</td>\n",
       "      <td>32</td>\n",
       "      <td>-1</td>\n",
       "      <td>raw</td>\n",
       "      <td>15.0</td>\n",
       "      <td>2014/336 Dec 02 05:40:46.04215UTC</td>\n",
       "      <td>15928</td>\n",
       "      <td>FUV</td>\n",
       "      <td>929</td>\n",
       "      <td>disk</td>\n",
       "      <td>2589</td>\n",
       "      <td>1.000000</td>\n",
       "      <td>4.707709e+08</td>\n",
       "      <td>True</td>\n",
       "      <td>mvn_iuv_l1a_apoapse-orbit00341-fuvdark_2014120...</td>\n",
       "      <td>65.797119</td>\n",
       "      <td>LOWRES</td>\n",
       "      <td>14.4</td>\n",
       "      <td>NEITHER</td>\n",
       "      <td>1</td>\n",
       "      <td>-1.83</td>\n",
       "      <td>32.898560</td>\n",
       "      <td>24917</td>\n",
       "      <td>32.901</td>\n",
       "      <td>PRIME</td>\n",
       "      <td>2</td>\n",
       "      <td>184</td>\n",
       "      <td>10</td>\n",
       "      <td>NaN</td>\n",
       "      <td>0</td>\n",
       "      <td>CDS</td>\n",
       "      <td>8196</td>\n",
       "      <td>341</td>\n",
       "      <td>0</td>\n",
       "      <td>2015/108 Apr 18 18:13:25.00000UTC</td>\n",
       "      <td>2015/108 Apr 18 18:13:25.00000UTC</td>\n",
       "      <td>mvn_iuv_l1a_apoapse-orbit00341-fuvdark_2014120...</td>\n",
       "      <td>True</td>\n",
       "      <td>244.619370</td>\n",
       "      <td>89</td>\n",
       "      <td>80</td>\n",
       "      <td>65</td>\n",
       "      <td>4</td>\n",
       "      <td>929</td>\n",
       "      <td>MARS</td>\n",
       "      <td>4.707708e+08</td>\n",
       "      <td>2014/336 Dec 02 05:40:46.04215UTC</td>\n",
       "      <td>FUV</td>\n",
       "      <td>1469.102174</td>\n",
       "      <td>1393.0</td>\n",
       "      <td>398.650876</td>\n",
       "    </tr>\n",
       "    <tr>\n",
       "      <th>4</th>\n",
       "      <td>929</td>\n",
       "      <td>LINEAR CSS_S4</td>\n",
       "      <td>LINEAR 17,18 CSS_S4</td>\n",
       "      <td>32</td>\n",
       "      <td>-1</td>\n",
       "      <td>raw</td>\n",
       "      <td>15.0</td>\n",
       "      <td>2014/291 Oct 18 17:54:10.74999UTC</td>\n",
       "      <td>15929</td>\n",
       "      <td>MUV</td>\n",
       "      <td>929:931M</td>\n",
       "      <td>disk</td>\n",
       "      <td>2572</td>\n",
       "      <td>0.200855</td>\n",
       "      <td>4.669269e+08</td>\n",
       "      <td>True</td>\n",
       "      <td>mvn_iuv_l1a_apoapse-orbit00109-muvdark_2014101...</td>\n",
       "      <td>65.797119</td>\n",
       "      <td>LOWRES</td>\n",
       "      <td>14.4</td>\n",
       "      <td>NEITHER</td>\n",
       "      <td>-1</td>\n",
       "      <td>-1.83</td>\n",
       "      <td>32.898560</td>\n",
       "      <td>24917</td>\n",
       "      <td>32.901</td>\n",
       "      <td>PRIME</td>\n",
       "      <td>2</td>\n",
       "      <td>30</td>\n",
       "      <td>10</td>\n",
       "      <td>NaN</td>\n",
       "      <td>0</td>\n",
       "      <td>CDS</td>\n",
       "      <td>2001</td>\n",
       "      <td>109</td>\n",
       "      <td>0</td>\n",
       "      <td>2015/115 Apr 25 03:58:15.00000UTC</td>\n",
       "      <td>2015/115 Apr 25 03:58:15.00000UTC</td>\n",
       "      <td>mvn_iuv_l1a_apoapse-orbit00109-muvdark_2014101...</td>\n",
       "      <td>True</td>\n",
       "      <td>216.717957</td>\n",
       "      <td>101</td>\n",
       "      <td>80</td>\n",
       "      <td>2</td>\n",
       "      <td>34</td>\n",
       "      <td>929:931M</td>\n",
       "      <td></td>\n",
       "      <td>4.669268e+08</td>\n",
       "      <td>2014/291 Oct 18 17:54:10.74999UTC</td>\n",
       "      <td>MUV</td>\n",
       "      <td>15498.593333</td>\n",
       "      <td>15320.0</td>\n",
       "      <td>1563.283871</td>\n",
       "    </tr>\n",
       "  </tbody>\n",
       "</table>\n",
       "</div>"
      ],
      "text/plain": [
       "  ANC_SVN_REVISION   BIN_PATTERN_INDEX                   BIN_TBL  BITPIX  \\\n",
       "0              929  LINEAR linear_0004    LINEAR 5,6 linear_0004      32   \n",
       "1              929  LINEAR linear_0006    LINEAR 5,6 linear_0006      32   \n",
       "2              929  LINEAR linear_0006    LINEAR 5,6 linear_0006      32   \n",
       "3              929  LINEAR linear_0004  LINEAR 15,16 linear_0004      32   \n",
       "4              929       LINEAR CSS_S4       LINEAR 17,18 CSS_S4      32   \n",
       "\n",
       "   BLANK BUNDLE_ID  CADENCE                            CAPTURE  CASE_TEMP  \\\n",
       "0     -1       raw      4.8  2014/338 Dec 04 02:03:22.79468UTC      15972   \n",
       "1     -1       raw      4.8  2015/008 Jan 08 18:21:38.42850UTC      15964   \n",
       "2     -1       raw      4.8  2015/008 Jan 08 18:21:38.42850UTC      15964   \n",
       "3     -1       raw     15.0  2014/336 Dec 02 05:40:46.04215UTC      15928   \n",
       "4     -1       raw     15.0  2014/291 Oct 18 17:54:10.74999UTC      15929   \n",
       "\n",
       "  CHANNEL CODE_SVN_REVISION COLLECTION_ID  DET_TEMP  DUTY_CYCLE            ET  \\\n",
       "0     FUV               929          limb      2594    1.000000  4.709307e+08   \n",
       "1     FUV               929          limb      2600    1.000000  4.740134e+08   \n",
       "2     FUV               929          limb      2604    1.000000  4.740134e+08   \n",
       "3     FUV               929          disk      2589    1.000000  4.707709e+08   \n",
       "4     MUV          929:931M          disk      2572    0.200855  4.669269e+08   \n",
       "\n",
       "  EXTEND                                           FILENAME    FOV_DEG  \\\n",
       "0   True  mvn_iuv_l1a_periapse-orbit00351-fuvdark_201412...  23.373413   \n",
       "1   True  mvn_iuv_l1a_periapse-orbit00538-fuvdark_201501...  17.292480   \n",
       "2   True  mvn_iuv_l1a_periapse-orbit00538-fuvdark_201501...  17.292480   \n",
       "3   True  mvn_iuv_l1a_apoapse-orbit00341-fuvdark_2014120...  65.797119   \n",
       "4   True  mvn_iuv_l1a_apoapse-orbit00109-muvdark_2014101...  65.797119   \n",
       "\n",
       "  GRATING_SELECT  INT_TIME KEYHOLE_SELECT  LYA_CENTROID  MCP_VOLT  MIRROR_DEG  \\\n",
       "0         LOWRES       4.2        NEITHER             1     -1.83   11.686707   \n",
       "1         LOWRES       4.2        NEITHER             1     -1.83    8.646240   \n",
       "2         LOWRES       4.2        NEITHER             1     -1.83    8.646240   \n",
       "3         LOWRES      14.4        NEITHER             1     -1.83   32.898560   \n",
       "4         LOWRES      14.4        NEITHER            -1     -1.83   32.898560   \n",
       "\n",
       "   MIRROR_DN  MIR_DEG MISSION_PHASE  NAXIS  NAXIS1  NAXIS2  NAXIS3  N_FILL  \\\n",
       "0      17194   11.689         PRIME      2     256       7     NaN       0   \n",
       "1      16087    8.649         PRIME      3     256       7       2       0   \n",
       "2      16087    8.649         PRIME      3     256       7       2       0   \n",
       "3      24917   32.901         PRIME      2     184      10     NaN       0   \n",
       "4      24917   32.901         PRIME      2      30      10     NaN       0   \n",
       "\n",
       "  OBSERVATION_TYPE  OBS_ID  ORBIT_NUMBER  ORBIT_SEGMENT  \\\n",
       "0              CDS       4           351              0   \n",
       "1              CDS       6           538              0   \n",
       "2              CDS       6           538              0   \n",
       "3              CDS    8196           341              0   \n",
       "4              CDS    2001           109              0   \n",
       "\n",
       "                             PROCESS              PRODUCT_CREATION_DATE  \\\n",
       "0  2015/108 Apr 18 18:28:06.00000UTC  2015/108 Apr 18 18:28:06.00000UTC   \n",
       "1  2015/108 Apr 18 22:22:19.00000UTC  2015/108 Apr 18 22:22:19.00000UTC   \n",
       "2  2015/108 Apr 18 22:22:19.00000UTC  2015/108 Apr 18 22:22:19.00000UTC   \n",
       "3  2015/108 Apr 18 18:13:25.00000UTC  2015/108 Apr 18 18:13:25.00000UTC   \n",
       "4  2015/115 Apr 25 03:58:15.00000UTC  2015/115 Apr 25 03:58:15.00000UTC   \n",
       "\n",
       "                                          PRODUCT_ID SIMPLE  SOLAR_LONGITUDE  \\\n",
       "0  mvn_iuv_l1a_periapse-orbit00351-fuvdark_201412...   True       245.792343   \n",
       "1  mvn_iuv_l1a_periapse-orbit00538-fuvdark_201501...   True       268.399689   \n",
       "2  mvn_iuv_l1a_periapse-orbit00538-fuvdark_201501...   True       268.399689   \n",
       "3  mvn_iuv_l1a_apoapse-orbit00341-fuvdark_2014120...   True       244.619370   \n",
       "4  mvn_iuv_l1a_apoapse-orbit00109-muvdark_2014101...   True       216.717957   \n",
       "\n",
       "   SPA_OFS  SPA_SIZE  SPE_OFS  SPE_SIZE    SW_VER TARGET_NAME     TIMESTAMP  \\\n",
       "0       89       115        0         4       929        MARS  4.709306e+08   \n",
       "1       89       115        0         4       929        MARS  4.740133e+08   \n",
       "2       89       115        0         4       929        MARS  4.740133e+08   \n",
       "3       89        80       65         4       929        MARS  4.707708e+08   \n",
       "4      101        80        2        34  929:931M              4.669268e+08   \n",
       "\n",
       "                                 UTC  XUV          mean   median          std  \n",
       "0  2014/338 Dec 04 02:03:22.79468UTC  FUV   1024.759487    993.5   242.897055  \n",
       "1  2015/008 Jan 08 18:21:38.42850UTC  FUV   1098.962612   1063.0   263.214653  \n",
       "2  2015/008 Jan 08 18:21:43.22849UTC  FUV   1012.230469    974.0   239.967113  \n",
       "3  2014/336 Dec 02 05:40:46.04215UTC  FUV   1469.102174   1393.0   398.650876  \n",
       "4  2014/291 Oct 18 17:54:10.74999UTC  MUV  15498.593333  15320.0  1563.283871  "
      ]
     },
     "execution_count": 60,
     "metadata": {},
     "output_type": "execute_result"
    }
   ],
   "source": [
    "results_df.head()"
   ]
  },
  {
   "cell_type": "code",
   "execution_count": 61,
   "metadata": {
    "collapsed": false
   },
   "outputs": [
    {
     "name": "stdout",
     "output_type": "stream",
     "text": [
      "<class 'pandas.core.frame.DataFrame'>\n",
      "Int64Index: 18826 entries, 0 to 18825\n",
      "Data columns (total 53 columns):\n",
      "ANC_SVN_REVISION         18826 non-null object\n",
      "BIN_PATTERN_INDEX        18826 non-null object\n",
      "BIN_TBL                  18826 non-null object\n",
      "BITPIX                   18826 non-null int64\n",
      "BLANK                    18826 non-null int64\n",
      "BUNDLE_ID                18826 non-null object\n",
      "CADENCE                  18826 non-null float64\n",
      "CAPTURE                  18826 non-null object\n",
      "CASE_TEMP                18826 non-null float64\n",
      "CHANNEL                  18826 non-null object\n",
      "CODE_SVN_REVISION        18826 non-null object\n",
      "COLLECTION_ID            18826 non-null object\n",
      "DET_TEMP                 18826 non-null float64\n",
      "DUTY_CYCLE               18826 non-null float64\n",
      "ET                       18826 non-null float64\n",
      "EXTEND                   18826 non-null bool\n",
      "FILENAME                 18826 non-null object\n",
      "FOV_DEG                  18826 non-null float64\n",
      "GRATING_SELECT           18826 non-null object\n",
      "INT_TIME                 18826 non-null float64\n",
      "KEYHOLE_SELECT           18826 non-null object\n",
      "LYA_CENTROID             18826 non-null int64\n",
      "MCP_VOLT                 18826 non-null float64\n",
      "MIRROR_DEG               18826 non-null float64\n",
      "MIRROR_DN                18826 non-null float64\n",
      "MIR_DEG                  18826 non-null float64\n",
      "MISSION_PHASE            18826 non-null object\n",
      "NAXIS                    18826 non-null int64\n",
      "NAXIS1                   18826 non-null int64\n",
      "NAXIS2                   18826 non-null int64\n",
      "NAXIS3                   16775 non-null float64\n",
      "N_FILL                   18826 non-null int64\n",
      "OBSERVATION_TYPE         18826 non-null object\n",
      "OBS_ID                   18826 non-null int64\n",
      "ORBIT_NUMBER             18826 non-null int64\n",
      "ORBIT_SEGMENT            18826 non-null int64\n",
      "PROCESS                  18826 non-null object\n",
      "PRODUCT_CREATION_DATE    18826 non-null object\n",
      "PRODUCT_ID               18826 non-null object\n",
      "SIMPLE                   18826 non-null bool\n",
      "SOLAR_LONGITUDE          18826 non-null float64\n",
      "SPA_OFS                  17716 non-null float64\n",
      "SPA_SIZE                 17716 non-null float64\n",
      "SPE_OFS                  17716 non-null float64\n",
      "SPE_SIZE                 17716 non-null float64\n",
      "SW_VER                   17563 non-null object\n",
      "TARGET_NAME              18826 non-null object\n",
      "TIMESTAMP                18826 non-null float64\n",
      "UTC                      18826 non-null object\n",
      "XUV                      18826 non-null object\n",
      "mean                     17810 non-null float64\n",
      "median                   17814 non-null float64\n",
      "std                      17810 non-null float64\n",
      "dtypes: bool(2), float64(21), int64(10), object(20)\n",
      "memory usage: 7.5+ MB\n"
     ]
    }
   ],
   "source": [
    "results_df.info()"
   ]
  },
  {
   "cell_type": "code",
   "execution_count": 62,
   "metadata": {
    "collapsed": false
   },
   "outputs": [],
   "source": [
    "results_df.loc[results_df.ANC_SVN_REVISION == '', 'ANC_SVN_REVISION'] = 0"
   ]
  },
  {
   "cell_type": "code",
   "execution_count": 63,
   "metadata": {
    "collapsed": false
   },
   "outputs": [],
   "source": [
    "results_df = results_df.convert_objects(convert_numeric=True)"
   ]
  },
  {
   "cell_type": "code",
   "execution_count": 64,
   "metadata": {
    "collapsed": false
   },
   "outputs": [],
   "source": [
    "results_df.to_hdf('/home/klay6683/output/l1a_dark_scans/results_df.h5', 'df')"
   ]
  },
  {
   "cell_type": "markdown",
   "metadata": {},
   "source": [
    "### For longer scans when I can't keep everything in memory"
   ]
  },
  {
   "cell_type": "code",
   "execution_count": 10,
   "metadata": {
    "collapsed": true
   },
   "outputs": [],
   "source": [
    "import glob\n",
    "h5fnames = glob.glob(\"/home/klay6683/output/l1a_dark_scans/*.h5\")"
   ]
  },
  {
   "cell_type": "code",
   "execution_count": 11,
   "metadata": {
    "collapsed": false
   },
   "outputs": [
    {
     "data": {
      "text/plain": [
       "40421"
      ]
     },
     "execution_count": 11,
     "metadata": {},
     "output_type": "execute_result"
    }
   ],
   "source": [
    "len(h5fnames)"
   ]
  },
  {
   "cell_type": "code",
   "execution_count": 12,
   "metadata": {
    "collapsed": true
   },
   "outputs": [],
   "source": [
    "def chunker(seq, size):\n",
    "    return (seq[pos:pos + size] for pos in range(0, len(seq), size))"
   ]
  },
  {
   "cell_type": "code",
   "execution_count": 13,
   "metadata": {
    "collapsed": false
   },
   "outputs": [
    {
     "name": "stdout",
     "output_type": "stream",
     "text": [
      "Chunk 0\n",
      "Chunk 1\n",
      "Chunk 2\n",
      "Chunk 3\n",
      "Chunk 4\n",
      "Chunk 5\n",
      "Chunk 6\n",
      "Chunk 7\n",
      "Chunk 8\n",
      "Chunk 9\n",
      "Chunk 10\n",
      "Chunk 11\n",
      "Chunk 12\n",
      "Chunk 13\n",
      "Chunk 14\n",
      "Chunk 15\n",
      "Chunk 16\n",
      "Chunk 17\n",
      "Chunk 18\n",
      "Chunk 19\n",
      "Chunk 20\n",
      "Chunk 21\n",
      "Chunk 22\n",
      "Chunk 23\n",
      "Chunk 24\n",
      "Chunk 25\n",
      "Chunk 26\n",
      "Chunk 27\n",
      "Chunk 28\n",
      "Chunk 29\n",
      "Chunk 30\n",
      "Chunk 31\n",
      "Chunk 32\n",
      "Chunk 33\n",
      "Chunk 34\n",
      "Chunk 35\n",
      "Chunk 36\n",
      "Chunk 37\n",
      "Chunk 38\n",
      "Chunk 39\n",
      "Chunk 40\n",
      "Chunk 41\n",
      "Chunk 42\n",
      "Chunk 43\n",
      "Chunk 44\n",
      "Chunk 45\n",
      "Chunk 46\n",
      "Chunk 47\n",
      "Chunk 48\n",
      "Chunk 49\n",
      "Chunk 50\n",
      "Chunk 51\n",
      "Chunk 52\n",
      "Chunk 53\n",
      "Chunk 54\n",
      "Chunk 55\n",
      "Chunk 56\n",
      "Chunk 57\n",
      "Chunk 58\n",
      "Chunk 59\n",
      "Chunk 60\n",
      "Chunk 61\n",
      "Chunk 62\n",
      "Chunk 63\n",
      "Chunk 64\n",
      "Chunk 65\n",
      "Chunk 66\n",
      "Chunk 67\n",
      "Chunk 68\n",
      "Chunk 69\n",
      "Chunk 70\n",
      "Chunk 71\n",
      "Chunk 72\n",
      "Chunk 73\n",
      "Chunk 74\n",
      "Chunk 75\n",
      "Chunk 76\n",
      "Chunk 77\n",
      "Chunk 78\n",
      "Chunk 79\n",
      "Chunk 80\n",
      "Chunk 81\n",
      "Chunk 82\n",
      "Chunk 83\n",
      "Chunk 84\n",
      "Chunk 85\n",
      "Chunk 86\n",
      "Chunk 87\n",
      "Chunk 88\n",
      "Chunk 89\n",
      "Chunk 90\n",
      "Chunk 91\n",
      "Chunk 92\n",
      "Chunk 93\n",
      "Chunk 94\n",
      "Chunk 95\n",
      "Chunk 96\n",
      "Chunk 97\n",
      "Chunk 98\n",
      "Chunk 99\n",
      "Chunk 100\n",
      "Chunk 101\n",
      "Chunk 102\n",
      "Chunk 103\n",
      "Chunk 104\n",
      "Chunk 105\n",
      "Chunk 106\n",
      "Chunk 107\n",
      "Chunk 108\n",
      "Chunk 109\n",
      "Chunk 110\n",
      "Chunk 111\n",
      "Chunk 112\n",
      "Chunk 113\n",
      "Chunk 114\n",
      "Chunk 115\n",
      "Chunk 116\n",
      "Chunk 117\n",
      "Chunk 118\n",
      "Chunk 119\n",
      "Chunk 120\n",
      "Chunk 121\n",
      "Chunk 122\n",
      "Chunk 123\n",
      "Chunk 124\n",
      "Chunk 125\n",
      "Chunk 126\n",
      "Chunk 127\n",
      "Chunk 128\n",
      "Chunk 129\n",
      "Chunk 130\n",
      "Chunk 131\n",
      "Chunk 132\n",
      "Chunk 133\n",
      "Chunk 134\n",
      "Chunk 135\n",
      "Chunk 136\n",
      "Chunk 137\n",
      "Chunk 138\n",
      "Chunk 139\n",
      "Chunk 140\n",
      "Chunk 141\n",
      "Chunk 142\n",
      "Chunk 143\n",
      "Chunk 144\n",
      "Chunk 145\n",
      "Chunk 146\n",
      "Chunk 147\n",
      "Chunk 148\n",
      "Chunk 149\n",
      "Chunk 150\n",
      "Chunk 151\n",
      "Chunk 152\n",
      "Chunk 153\n",
      "Chunk 154\n",
      "Chunk 155\n",
      "Chunk 156\n",
      "Chunk 157\n",
      "Chunk 158\n",
      "Chunk 159\n",
      "Chunk 160\n",
      "Chunk 161\n",
      "Chunk 162\n",
      "Chunk 163\n",
      "Chunk 164\n",
      "Chunk 165\n",
      "Chunk 166\n",
      "Chunk 167\n",
      "Chunk 168\n",
      "Chunk 169\n",
      "Chunk 170\n",
      "Chunk 171\n",
      "Chunk 172\n",
      "Chunk 173\n",
      "Chunk 174\n",
      "Chunk 175\n",
      "Chunk 176\n",
      "Chunk 177\n",
      "Chunk 178\n",
      "Chunk 179\n",
      "Chunk 180\n",
      "Chunk 181\n",
      "Chunk 182\n",
      "Chunk 183\n",
      "Chunk 184\n",
      "Chunk 185\n",
      "Chunk 186\n",
      "Chunk 187\n",
      "Chunk 188\n",
      "Chunk 189\n",
      "Chunk 190\n",
      "Chunk 191\n",
      "Chunk 192\n",
      "Chunk 193\n",
      "Chunk 194\n",
      "Chunk 195\n",
      "Chunk 196\n",
      "Chunk 197\n",
      "Chunk 198\n",
      "Chunk 199\n",
      "Chunk 200\n",
      "Chunk 201\n",
      "Chunk 202\n"
     ]
    }
   ],
   "source": [
    "dfs = []\n",
    "for i,chunk in enumerate(chunker(h5fnames, 200)):\n",
    "    print(\"Chunk {}\".format(i))\n",
    "    frames = []\n",
    "    for fname in chunk:\n",
    "        frames.append(pd.read_hdf(fname, 'df'))\n",
    "    dfs.append(pd.concat(frames, ignore_index=True))"
   ]
  },
  {
   "cell_type": "code",
   "execution_count": 14,
   "metadata": {
    "collapsed": false
   },
   "outputs": [],
   "source": [
    "superdf = pd.concat(dfs, ignore_index=True)"
   ]
  },
  {
   "cell_type": "code",
   "execution_count": 15,
   "metadata": {
    "collapsed": false
   },
   "outputs": [
    {
     "name": "stdout",
     "output_type": "stream",
     "text": [
      "<class 'pandas.core.frame.DataFrame'>\n",
      "Int64Index: 40421 entries, 0 to 40420\n",
      "Data columns (total 63 columns):\n",
      "AVERAGE               40421 non-null float64\n",
      "BIN_SHIFT             40421 non-null int64\n",
      "BIN_SHIFT_DIR         40421 non-null int64\n",
      "BIN_TBL               40421 non-null object\n",
      "BIN_TYPE              40421 non-null object\n",
      "BIN_X_ROW             40421 non-null int64\n",
      "BIN_Y_ROW             40421 non-null int64\n",
      "BITPIX                40421 non-null int64\n",
      "BLANK                 40421 non-null int64\n",
      "BSCALE                494 non-null float64\n",
      "BZERO                 494 non-null float64\n",
      "CADENCE               40421 non-null float64\n",
      "CAPTURE               40421 non-null object\n",
      "CASE_TEMP             39927 non-null float64\n",
      "CHECKSUM              40421 non-null float64\n",
      "DATA_COMPRESSION      40421 non-null int64\n",
      "DET_TEMP              39927 non-null float64\n",
      "EXTEND                40421 non-null bool\n",
      "FILENAME              40421 non-null object\n",
      "FUV_BAD_PIXEL_MASK    40421 non-null int64\n",
      "IMAGE_NUMBER          40421 non-null float64\n",
      "INT_TIME              40421 non-null float64\n",
      "LENGTH                40421 non-null float64\n",
      "MCP_GAIN              40421 non-null float64\n",
      "MCP_VOLT              40421 non-null float64\n",
      "MIRROR_POS            40421 non-null float64\n",
      "MIR_DEG               40421 non-null float64\n",
      "MODE                  40421 non-null object\n",
      "MUV_BAD_PIXEL_MASK    40421 non-null int64\n",
      "NAXIS                 40421 non-null int64\n",
      "NAXIS1                40421 non-null int64\n",
      "NAXIS2                40421 non-null int64\n",
      "NAXIS3                19545 non-null float64\n",
      "NUMBER                40421 non-null float64\n",
      "N_FILL                40421 non-null int64\n",
      "OBS_ID                40421 non-null float64\n",
      "ON_CHIP_WINDOWING     40421 non-null int64\n",
      "PROCESS               40421 non-null object\n",
      "SCAN_MODE             40421 non-null object\n",
      "SCI_ERR_FLAGS         40421 non-null int64\n",
      "SCI_PKT_CKSUM         40421 non-null int64\n",
      "SCI_SEG_LENGTH        40421 non-null float64\n",
      "SCI_SEG_NUM           40421 non-null float64\n",
      "SCI_SEG_TOTAL         40421 non-null float64\n",
      "SET_TOTAL             40421 non-null float64\n",
      "SHUTTER_NUM           40421 non-null int64\n",
      "SHUTTER_OFF           40421 non-null float64\n",
      "SHUTTER_ON            40421 non-null float64\n",
      "SIMPLE                40421 non-null bool\n",
      "SPA_OFS               40421 non-null int64\n",
      "SPA_SIZE              40421 non-null int64\n",
      "SPE_OFS               40421 non-null int64\n",
      "SPE_SIZE              40421 non-null int64\n",
      "START_TIME            40421 non-null float64\n",
      "START_TIME__SUB       40421 non-null float64\n",
      "STEP_INT              40421 non-null int64\n",
      "STEP_NUM              40421 non-null float64\n",
      "STEP_SIZE             40421 non-null int64\n",
      "SW_VER                40421 non-null object\n",
      "TEST_PATTERN          40421 non-null int64\n",
      "TIME_FLAG             40421 non-null object\n",
      "XUV                   40421 non-null object\n",
      "primary_mean          40154 non-null float64\n",
      "dtypes: bool(2), float64(27), int64(24), object(10)\n",
      "memory usage: 19.2+ MB\n"
     ]
    }
   ],
   "source": [
    "superdf.info()"
   ]
  },
  {
   "cell_type": "code",
   "execution_count": 18,
   "metadata": {
    "collapsed": true
   },
   "outputs": [],
   "source": [
    "from iuvs import calib"
   ]
  },
  {
   "cell_type": "code",
   "execution_count": 19,
   "metadata": {
    "collapsed": false
   },
   "outputs": [],
   "source": [
    "superdf.DET_TEMP = superdf.DET_TEMP.map(calib.convert_det_temp_to_C)\n",
    "superdf.CASE_TEMP = superdf.CASE_TEMP.map(calib.convert_case_temp_to_C)"
   ]
  },
  {
   "cell_type": "code",
   "execution_count": 20,
   "metadata": {
    "collapsed": true
   },
   "outputs": [],
   "source": [
    "superdf.to_hdf('/home/klay6683/output/l1a_summary.h5','df')"
   ]
  },
  {
   "cell_type": "code",
   "execution_count": 21,
   "metadata": {
    "collapsed": true
   },
   "outputs": [],
   "source": [
    "meta.produce_summary_txt(superdf, 'l1a_summary.txt')"
   ]
  },
  {
   "cell_type": "code",
   "execution_count": null,
   "metadata": {
    "collapsed": true
   },
   "outputs": [],
   "source": []
  }
 ],
 "metadata": {
  "kernelspec": {
   "display_name": "Python 3",
   "language": "python",
   "name": "python3"
  },
  "language_info": {
   "codemirror_mode": {
    "name": "ipython",
    "version": 3
   },
   "file_extension": ".py",
   "mimetype": "text/x-python",
   "name": "python",
   "nbconvert_exporter": "python",
   "pygments_lexer": "ipython3",
   "version": "3.4.3"
  }
 },
 "nbformat": 4,
 "nbformat_minor": 0
}
