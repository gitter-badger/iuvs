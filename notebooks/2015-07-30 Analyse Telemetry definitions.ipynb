{
 "cells": [
  {
   "cell_type": "code",
   "execution_count": 24,
   "metadata": {
    "collapsed": false
   },
   "outputs": [],
   "source": [
    "df = pd.read_csv('/home/klay6683/IUVS-ITF-SW/doc/MAVEN RS Telemetry Definitions.csv')"
   ]
  },
  {
   "cell_type": "code",
   "execution_count": 25,
   "metadata": {
    "collapsed": false
   },
   "outputs": [],
   "source": [
    "df.columns = [i.lower().strip() for i in df.columns]"
   ]
  },
  {
   "cell_type": "code",
   "execution_count": 26,
   "metadata": {
    "collapsed": false
   },
   "outputs": [],
   "source": [
    "df.columns = ['_'.join(i.split()) for i in df.columns]"
   ]
  },
  {
   "cell_type": "code",
   "execution_count": 27,
   "metadata": {
    "collapsed": false
   },
   "outputs": [
    {
     "data": {
      "text/html": [
       "<div>\n",
       "<table border=\"1\" class=\"dataframe\">\n",
       "  <thead>\n",
       "    <tr style=\"text-align: right;\">\n",
       "      <th></th>\n",
       "      <th>x</th>\n",
       "      <th>item_name</th>\n",
       "      <th>unnamed:_2</th>\n",
       "      <th>app</th>\n",
       "      <th>measurement_description</th>\n",
       "      <th>fsw_name</th>\n",
       "      <th>#_type</th>\n",
       "      <th>location</th>\n",
       "      <th>unnamed:_8</th>\n",
       "      <th>discussion</th>\n",
       "      <th>unnamed:_10</th>\n",
       "      <th>units</th>\n",
       "      <th>full_range</th>\n",
       "      <th>conversion</th>\n",
       "      <th>monitoring_limits</th>\n",
       "      <th>display</th>\n",
       "      <th>unnamed:_16</th>\n",
       "      <th>source</th>\n",
       "    </tr>\n",
       "  </thead>\n",
       "  <tbody>\n",
       "    <tr>\n",
       "      <th>0</th>\n",
       "      <td>X</td>\n",
       "      <td>EL</td>\n",
       "      <td>Mnemonic</td>\n",
       "      <td>ID</td>\n",
       "      <td>NaN</td>\n",
       "      <td>NaN</td>\n",
       "      <td>NaN</td>\n",
       "      <td>Packet</td>\n",
       "      <td>(/byte:bit)</td>\n",
       "      <td>NaN</td>\n",
       "      <td>NaN</td>\n",
       "      <td>NaN</td>\n",
       "      <td>NaN</td>\n",
       "      <td>(Value/State[/Alarm])</td>\n",
       "      <td>(RL   YL   YH   RH) or DL</td>\n",
       "      <td>Fmt</td>\n",
       "      <td>Page</td>\n",
       "      <td>NaN</td>\n",
       "    </tr>\n",
       "    <tr>\n",
       "      <th>1</th>\n",
       "      <td>X</td>\n",
       "      <td>NaN</td>\n",
       "      <td>Software Status packet 0x01</td>\n",
       "      <td>NaN</td>\n",
       "      <td>NaN</td>\n",
       "      <td>NaN</td>\n",
       "      <td>NaN</td>\n",
       "      <td>NaN</td>\n",
       "      <td>NaN</td>\n",
       "      <td>NaN</td>\n",
       "      <td>NaN</td>\n",
       "      <td>NaN</td>\n",
       "      <td>NaN</td>\n",
       "      <td>NaN</td>\n",
       "      <td>NaN</td>\n",
       "      <td>NaN</td>\n",
       "      <td>NaN</td>\n",
       "      <td>NaN</td>\n",
       "    </tr>\n",
       "    <tr>\n",
       "      <th>2</th>\n",
       "      <td>NaN</td>\n",
       "      <td>RSP</td>\n",
       "      <td>VER01</td>\n",
       "      <td>0x01</td>\n",
       "      <td>APID x01 CCSDS version</td>\n",
       "      <td>pktType</td>\n",
       "      <td>U3</td>\n",
       "      <td>sw_stat_pkt</td>\n",
       "      <td>/000:0-2</td>\n",
       "      <td>NaN</td>\n",
       "      <td>NaN</td>\n",
       "      <td>DN</td>\n",
       "      <td>0</td>\n",
       "      <td>NaN</td>\n",
       "      <td>NaN</td>\n",
       "      <td>NaN</td>\n",
       "      <td>NaN</td>\n",
       "      <td>RSP</td>\n",
       "    </tr>\n",
       "    <tr>\n",
       "      <th>3</th>\n",
       "      <td>NaN</td>\n",
       "      <td>RSP</td>\n",
       "      <td>TYPE01</td>\n",
       "      <td>0x01</td>\n",
       "      <td>APID x01 CCSDS type</td>\n",
       "      <td>pktType</td>\n",
       "      <td>D1</td>\n",
       "      <td>sw_stat_pkt</td>\n",
       "      <td>/000:3</td>\n",
       "      <td>NaN</td>\n",
       "      <td>NaN</td>\n",
       "      <td>DN</td>\n",
       "      <td>0</td>\n",
       "      <td>0/TLM 1/CMD</td>\n",
       "      <td>NaN</td>\n",
       "      <td>NaN</td>\n",
       "      <td>NaN</td>\n",
       "      <td>RSP</td>\n",
       "    </tr>\n",
       "    <tr>\n",
       "      <th>4</th>\n",
       "      <td>NaN</td>\n",
       "      <td>RSP</td>\n",
       "      <td>SCFLAG01</td>\n",
       "      <td>0x01</td>\n",
       "      <td>APID x01 CCSDS secondary header flag</td>\n",
       "      <td>pktType</td>\n",
       "      <td>D1</td>\n",
       "      <td>sw_stat_pkt</td>\n",
       "      <td>/000:4</td>\n",
       "      <td>NaN</td>\n",
       "      <td>NaN</td>\n",
       "      <td>DN</td>\n",
       "      <td>1</td>\n",
       "      <td>0/NO_HDR 1/HDR</td>\n",
       "      <td>NaN</td>\n",
       "      <td>NaN</td>\n",
       "      <td>NaN</td>\n",
       "      <td>RSP</td>\n",
       "    </tr>\n",
       "  </tbody>\n",
       "</table>\n",
       "</div>"
      ],
      "text/plain": [
       "     x item_name                   unnamed:_2   app  \\\n",
       "0    X        EL                     Mnemonic    ID   \n",
       "1    X       NaN  Software Status packet 0x01   NaN   \n",
       "2  NaN       RSP                        VER01  0x01   \n",
       "3  NaN       RSP                       TYPE01  0x01   \n",
       "4  NaN       RSP                     SCFLAG01  0x01   \n",
       "\n",
       "                measurement_description fsw_name #_type     location  \\\n",
       "0                                   NaN      NaN    NaN       Packet   \n",
       "1                                   NaN      NaN    NaN          NaN   \n",
       "2                APID x01 CCSDS version  pktType     U3  sw_stat_pkt   \n",
       "3                   APID x01 CCSDS type  pktType     D1  sw_stat_pkt   \n",
       "4  APID x01 CCSDS secondary header flag  pktType     D1  sw_stat_pkt   \n",
       "\n",
       "    unnamed:_8 discussion  unnamed:_10 units full_range  \\\n",
       "0  (/byte:bit)        NaN          NaN   NaN        NaN   \n",
       "1          NaN        NaN          NaN   NaN        NaN   \n",
       "2     /000:0-2        NaN          NaN    DN          0   \n",
       "3       /000:3        NaN          NaN    DN          0   \n",
       "4       /000:4        NaN          NaN    DN          1   \n",
       "\n",
       "              conversion          monitoring_limits display unnamed:_16 source  \n",
       "0  (Value/State[/Alarm])  (RL   YL   YH   RH) or DL     Fmt        Page    NaN  \n",
       "1                    NaN                        NaN     NaN         NaN    NaN  \n",
       "2                    NaN                        NaN     NaN         NaN    RSP  \n",
       "3            0/TLM 1/CMD                        NaN     NaN         NaN    RSP  \n",
       "4         0/NO_HDR 1/HDR                        NaN     NaN         NaN    RSP  "
      ]
     },
     "execution_count": 27,
     "metadata": {},
     "output_type": "execute_result"
    }
   ],
   "source": [
    "df.head()"
   ]
  },
  {
   "cell_type": "code",
   "execution_count": 28,
   "metadata": {
    "collapsed": false
   },
   "outputs": [
    {
     "data": {
      "text/plain": [
       "RSP     573\n",
       "RSP       4\n",
       "EL        1\n",
       "Name: item_name, dtype: int64"
      ]
     },
     "execution_count": 28,
     "metadata": {},
     "output_type": "execute_result"
    }
   ],
   "source": [
    "df.item_name.value_counts()"
   ]
  },
  {
   "cell_type": "code",
   "execution_count": 51,
   "metadata": {
    "collapsed": false
   },
   "outputs": [],
   "source": [
    "s = df.measurement_description.dropna().str.contains('emperature')"
   ]
  },
  {
   "cell_type": "code",
   "execution_count": 42,
   "metadata": {
    "collapsed": false
   },
   "outputs": [],
   "source": [
    "ind = s[s==True].index"
   ]
  },
  {
   "cell_type": "code",
   "execution_count": 44,
   "metadata": {
    "collapsed": false
   },
   "outputs": [],
   "source": [
    "df = df.loc[ind]"
   ]
  },
  {
   "cell_type": "code",
   "execution_count": 48,
   "metadata": {
    "collapsed": false
   },
   "outputs": [],
   "source": [
    "df = df.drop('x',axis=1)"
   ]
  },
  {
   "cell_type": "code",
   "execution_count": 52,
   "metadata": {
    "collapsed": false
   },
   "outputs": [
    {
     "data": {
      "text/plain": [
       "330             Science Detector Temperature\n",
       "506            FUV Detector Chip Temperature\n",
       "511            MUV Detector Chip Temperature\n",
       "516                  Power Board Temperature\n",
       "517                  Power Board Temperature\n",
       "518              Processor Board Temperature\n",
       "519                 FUV Detector Temperature\n",
       "520              FUV Intensifier Temperature\n",
       "521                 MUV Detector Temperature\n",
       "522              MUV Intensifier Temperature\n",
       "523                Zone 1 Heater Temperature\n",
       "524                Zone 2 Heater Temperature\n",
       "525                  Op 1 Heater Temperature\n",
       "526                  Op 2 Heater Temperature\n",
       "527                       IUVS Temperature 1\n",
       "528                       IUVS Temperature 2\n",
       "529                       IUVS Temperature 3\n",
       "530                       IUVS Temperature 4\n",
       "531                       IUVS Temperature 5\n",
       "532                Grating Motor Temperature\n",
       "533            Scan Mirror Motor Temperature\n",
       "534    High Voltage Power Supply Temperature\n",
       "Name: measurement_description, dtype: object"
      ]
     },
     "execution_count": 52,
     "metadata": {},
     "output_type": "execute_result"
    }
   ],
   "source": [
    "df.measurement_description"
   ]
  },
  {
   "cell_type": "code",
   "execution_count": 58,
   "metadata": {
    "collapsed": false
   },
   "outputs": [
    {
     "name": "stdout",
     "output_type": "stream",
     "text": [
      "/maven_iuvs/production/products/level1a\n"
     ]
    }
   ],
   "source": [
    "myiter = io.l1a_filenames(\"uvdark\", env='production')"
   ]
  },
  {
   "cell_type": "code",
   "execution_count": 70,
   "metadata": {
    "collapsed": false
   },
   "outputs": [
    {
     "name": "stdout",
     "output_type": "stream",
     "text": [
      "/maven_iuvs/production/products/level1a\n"
     ]
    }
   ],
   "source": [
    "myiter = io.l1a_filenames(\"analog\", env='production')"
   ]
  },
  {
   "cell_type": "code",
   "execution_count": 71,
   "metadata": {
    "collapsed": false
   },
   "outputs": [
    {
     "data": {
      "text/plain": [
       "0"
      ]
     },
     "execution_count": 71,
     "metadata": {},
     "output_type": "execute_result"
    }
   ],
   "source": [
    "fnames = list(myiter)\n",
    "len(fnames)"
   ]
  },
  {
   "cell_type": "code",
   "execution_count": 60,
   "metadata": {
    "collapsed": false
   },
   "outputs": [],
   "source": [
    "fname = fnames[0]"
   ]
  },
  {
   "cell_type": "code",
   "execution_count": 61,
   "metadata": {
    "collapsed": false
   },
   "outputs": [
    {
     "data": {
      "text/plain": [
       "'/maven_iuvs/production/products/level1a/mvn_iuv_l1a_early-orbit00003-mode001-fuvdark_20140925T121939_v02_r01.fits.gz'"
      ]
     },
     "execution_count": 61,
     "metadata": {},
     "output_type": "execute_result"
    }
   ],
   "source": [
    "fname"
   ]
  },
  {
   "cell_type": "code",
   "execution_count": 62,
   "metadata": {
    "collapsed": true
   },
   "outputs": [],
   "source": [
    "l1a = io.L1AReader(fname)"
   ]
  },
  {
   "cell_type": "code",
   "execution_count": 66,
   "metadata": {
    "collapsed": false,
    "scrolled": true
   },
   "outputs": [
    {
     "data": {
      "text/plain": [
       "array(['SCI_PKT_CKSUM', 'SCI_ERR_FLAGS', 'XUV', 'LENGTH', 'IMAGE_NUMBER',\n",
       "       'AVERAGE', 'CHECKSUM', 'START_TIME', 'START_TIME__SUB', 'CADENCE',\n",
       "       'NUMBER', 'INT_TIME', 'MIRROR_POS', 'STEP_NUM', 'STEP_SIZE',\n",
       "       'STEP_INT', 'BIN_SHIFT', 'OBS_ID', 'FUV_BAD_PIXEL_MASK',\n",
       "       'MUV_BAD_PIXEL_MASK', 'DATA_COMPRESSION', 'TEST_PATTERN',\n",
       "       'ON_CHIP_WINDOWING', 'BIN_TYPE', 'SCAN_MODE', 'MODE', 'TIME_FLAG',\n",
       "       'BIN_SHIFT_DIR', 'SHUTTER_ON', 'SHUTTER_OFF', 'SHUTTER_NUM',\n",
       "       'SET_TOTAL', 'BIN_X_ROW', 'BIN_Y_ROW', 'MCP_GAIN', 'SCI_SEG_TOTAL',\n",
       "       'SCI_SEG_LENGTH', 'SCI_SEG_NUM'], dtype=object)"
      ]
     },
     "execution_count": 66,
     "metadata": {},
     "output_type": "execute_result"
    }
   ],
   "source": [
    "l1a.Engineering.columns.values"
   ]
  },
  {
   "cell_type": "code",
   "execution_count": 67,
   "metadata": {
    "collapsed": false
   },
   "outputs": [
    {
     "data": {
      "text/plain": [
       "array(['TIMESTAMP', 'ET', 'UTC', 'MIRROR_DN', 'MIRROR_DEG', 'FOV_DEG',\n",
       "       'LYA_CENTROID', 'CASE_TEMP', 'DET_TEMP'], dtype=object)"
      ]
     },
     "execution_count": 67,
     "metadata": {},
     "output_type": "execute_result"
    }
   ],
   "source": [
    "l1a.Integration.columns.values"
   ]
  },
  {
   "cell_type": "code",
   "execution_count": 82,
   "metadata": {
    "collapsed": false,
    "scrolled": false
   },
   "outputs": [
    {
     "data": {
      "text/plain": [
       "Index(['TIMESTAMP', 'ET', 'UTC', 'MIRROR_DN', 'MIRROR_DEG', 'FOV_DEG',\n",
       "       'LYA_CENTROID', 'CASE_TEMP', 'DET_TEMP'],\n",
       "      dtype='object')"
      ]
     },
     "execution_count": 82,
     "metadata": {},
     "output_type": "execute_result"
    }
   ],
   "source": [
    "l1a.Integration.columns"
   ]
  },
  {
   "cell_type": "code",
   "execution_count": null,
   "metadata": {
    "collapsed": true
   },
   "outputs": [],
   "source": []
  }
 ],
 "metadata": {
  "kernelspec": {
   "display_name": "Python 3",
   "language": "python",
   "name": "python3"
  },
  "language_info": {
   "codemirror_mode": {
    "name": "ipython",
    "version": 3
   },
   "file_extension": ".py",
   "mimetype": "text/x-python",
   "name": "python",
   "nbconvert_exporter": "python",
   "pygments_lexer": "ipython3",
   "version": "3.4.3"
  }
 },
 "nbformat": 4,
 "nbformat_minor": 0
}
