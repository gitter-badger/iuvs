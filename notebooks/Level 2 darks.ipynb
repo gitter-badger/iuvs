{
 "cells": [
  {
   "cell_type": "code",
   "execution_count": 3,
   "metadata": {
    "collapsed": false
   },
   "outputs": [
    {
     "name": "stdout",
     "output_type": "stream",
     "text": [
      "200\n"
     ]
    },
    {
     "data": {
      "text/plain": [
       "['/maven_iuvs/production/products/level1b/mvn_iuv_l1b_IPH2-cycle00001-mode040-muv_20140419T004426_v00_r00.fits.gz',\n",
       " '/maven_iuvs/production/products/level1b/mvn_iuv_l1b_IPH2-cycle00002-mode040-muv_20140419T084429_v00_r00.fits.gz',\n",
       " '/maven_iuvs/production/products/level1b/mvn_iuv_l1b_IPH2-cycle00003-mode040-muv_20140419T164430_v00_r00.fits.gz',\n",
       " '/maven_iuvs/production/products/level1b/mvn_iuv_l1b_IPH2-cycle00004-mode040-muv_20140420T004433_v00_r00.fits.gz',\n",
       " '/maven_iuvs/production/products/level1b/mvn_iuv_l1b_IPH2-cycle00005-mode040-muv_20140420T084434_v00_r00.fits.gz']"
      ]
     },
     "execution_count": 3,
     "metadata": {},
     "output_type": "execute_result"
    }
   ],
   "source": [
    "mode040_fnames = io.l1b_filenames('*IPH2-*-mode040-muv*',stage=False)\n",
    "mode040_fnames.sort()\n",
    "print(len(mode040_fnames))\n",
    "mode040_fnames[:5]"
   ]
  },
  {
   "cell_type": "code",
   "execution_count": 4,
   "metadata": {
    "collapsed": false
   },
   "outputs": [],
   "source": [
    "from IPython.parallel import Client\n",
    "c = Client()"
   ]
  },
  {
   "cell_type": "code",
   "execution_count": 5,
   "metadata": {
    "collapsed": false
   },
   "outputs": [],
   "source": [
    "all_engines=c[:]\n",
    "lb = c.load_balanced_view()"
   ]
  },
  {
   "cell_type": "code",
   "execution_count": 6,
   "metadata": {
    "collapsed": false
   },
   "outputs": [],
   "source": [
    "%%px\n",
    "import os\n",
    "from iuvs import io\n",
    "import numpy as np"
   ]
  },
  {
   "cell_type": "code",
   "execution_count": 48,
   "metadata": {
    "collapsed": false
   },
   "outputs": [],
   "source": [
    "import os\n",
    "from iuvs import io\n",
    "\n",
    "from skimage.exposure import rescale_intensity\n",
    "\n",
    "def imshow_and_cbar(data, ax, txt, vmin=None, vmax=None):\n",
    "    im = ax.imshow(data, vmin=vmin, vmax=vmax)\n",
    "    cbar = plt.colorbar(im, ax=ax)\n",
    "    cbar.ax.tick_params(labelsize=9)\n",
    "    ax.set_title(txt)\n",
    "    \n",
    "def generate_dark_overview(fname, interactive=False, data=None):\n",
    "    from iuvs import io\n",
    "    fig, axes = plt.subplots(2,2)\n",
    "    iuvsfname = io.Filename(fname)\n",
    "    axes = axes.flatten()\n",
    "    if not data:\n",
    "        data = io.L1BReader(fname)\n",
    "    subbed_img = data.detector_background_subtracted[:850]\n",
    "    dark = data.detector_dark[:850]\n",
    "    p2, p98 = np.percentile(subbed_img, (2, 98))\n",
    "    imshow_and_cbar(subbed_img, axes[0], 'subtracted, 2/98-stretch',\n",
    "                   vmin=p2, vmax=p98)\n",
    "    axes[1].hist(subbed_img.flatten(), bins=100, range=(-500,500),\n",
    "                 log=True)\n",
    "    axes[1].set_xlim(-600,600)\n",
    "    axes[1].set_ylim(1, 10**6)\n",
    "    p2, p98 = np.percentile(dark, (2, 98))\n",
    "    imshow_and_cbar(dark, axes[2], 'dark, 2/98-stretch',\n",
    "                    vmin=p2, vmax=p98)\n",
    "    axes[3].hist(dark.flatten(), bins=100, log=True, range=(0,1000))\n",
    "    axes[3].set_xlim(-100, 1100)\n",
    "    axes[3].set_ylim(1, 10**6)\n",
    "    fig.suptitle('Exposure: {}, Time:{}'.format(data.img_header['INT_TIME'],\n",
    "                                              iuvsfname.time.isoformat()))\n",
    "    plt.savefig(os.environ['HOME']+'/public_html/level1b_darks/plots/l1b_img_vs_darks_{}'.format(iuvsfname.time.isoformat()),\n",
    "            dpi=150)\n",
    "    if not interactive:\n",
    "        plt.close(fig)\n",
    "        return iuvsfname.basename\n",
    "    else:\n",
    "        return data"
   ]
  },
  {
   "cell_type": "code",
   "execution_count": 8,
   "metadata": {
    "collapsed": true
   },
   "outputs": [],
   "source": [
    "%matplotlib qt"
   ]
  },
  {
   "cell_type": "code",
   "execution_count": 49,
   "metadata": {
    "collapsed": false
   },
   "outputs": [],
   "source": [
    "data = generate_dark_overview(mode040_fnames[0], interactive=True,\n",
    "                              data=data)"
   ]
  },
  {
   "cell_type": "code",
   "execution_count": 50,
   "metadata": {
    "collapsed": false
   },
   "outputs": [
    {
     "data": {
      "text/plain": [
       "<AsyncResult: finished>"
      ]
     },
     "execution_count": 50,
     "metadata": {},
     "output_type": "execute_result"
    }
   ],
   "source": [
    "all_engines.push(dict(\n",
    "        imshow_and_cbar=imshow_and_cbar,\n",
    "        generate_dark_overview=generate_dark_overview,\n",
    "))"
   ]
  },
  {
   "cell_type": "code",
   "execution_count": 51,
   "metadata": {
    "collapsed": false
   },
   "outputs": [],
   "source": [
    "todo = mode040_fnames[:]\n",
    "results = lb.map_async(generate_dark_overview, todo)"
   ]
  },
  {
   "cell_type": "code",
   "execution_count": 52,
   "metadata": {
    "collapsed": false
   },
   "outputs": [
    {
     "name": "stdout",
     "output_type": "stream",
     "text": [
      "0  %\n",
      "0  %\n",
      "5  %\n",
      "10  %\n",
      "15  %\n",
      "16  %\n",
      "20  %\n",
      "25  %\n",
      "30  %\n",
      "34  %\n",
      "37  %\n",
      "40  %\n",
      "45  %\n",
      "50  %\n",
      "52  %\n",
      "56  %\n",
      "60  %\n",
      "65  %\n",
      "70  %\n",
      "74  %\n",
      "77  %\n",
      "81  %\n",
      "85  %\n",
      "89  %\n",
      "92  %\n",
      "96  %\n"
     ]
    }
   ],
   "source": [
    "import time\n",
    "while not results.ready():\n",
    "    print(round(100*results.progress/len(todo)), ' %')\n",
    "    time.sleep(10)"
   ]
  },
  {
   "cell_type": "code",
   "execution_count": 53,
   "metadata": {
    "collapsed": false
   },
   "outputs": [
    {
     "name": "stdout",
     "output_type": "stream",
     "text": [
      "\r",
      "Collecting albums /Sorting media\n",
      "Sorting media\n",
      "Collecting files\n",
      "Collecting files\n",
      "Processing files\n",
      "\n",
      "Done.\n",
      "Processed 200 images and 0 videos in 9.51 seconds.\n"
     ]
    },
    {
     "name": "stderr",
     "output_type": "stream",
     "text": [
      "discarding /usr/local/python3/miniconda/bin from PATH\n",
      "prepending /usr/local/python3/miniconda/envs/sigal/bin to PATH\n"
     ]
    }
   ],
   "source": [
    "%%bash\n",
    "source activate sigal\n",
    "cd ~/public_html/level1b_darks\n",
    "./do_gallery.sh"
   ]
  },
  {
   "cell_type": "code",
   "execution_count": null,
   "metadata": {
    "collapsed": true
   },
   "outputs": [],
   "source": []
  }
 ],
 "metadata": {
  "kernelspec": {
   "display_name": "Python 3",
   "language": "python",
   "name": "python3"
  },
  "language_info": {
   "codemirror_mode": {
    "name": "ipython",
    "version": 3
   },
   "file_extension": ".py",
   "mimetype": "text/x-python",
   "name": "python",
   "nbconvert_exporter": "python",
   "pygments_lexer": "ipython3",
   "version": "3.4.3"
  }
 },
 "nbformat": 4,
 "nbformat_minor": 0
}
