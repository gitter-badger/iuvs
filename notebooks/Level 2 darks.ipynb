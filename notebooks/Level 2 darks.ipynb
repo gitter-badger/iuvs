{
 "cells": [
  {
   "cell_type": "code",
   "execution_count": 1,
   "metadata": {
    "collapsed": false
   },
   "outputs": [
    {
     "name": "stdout",
     "output_type": "stream",
     "text": [
      "/maven_iuvs/stage/products/level1b\n"
     ]
    }
   ],
   "source": [
    "cd /maven_iuvs/stage/products/level1b/"
   ]
  },
  {
   "cell_type": "code",
   "execution_count": 2,
   "metadata": {
    "collapsed": false
   },
   "outputs": [
    {
     "name": "stdout",
     "output_type": "stream",
     "text": [
      "Automatic calling is: Smart\n"
     ]
    }
   ],
   "source": [
    "%autocall 1"
   ]
  },
  {
   "cell_type": "code",
   "execution_count": 3,
   "metadata": {
    "collapsed": false
   },
   "outputs": [
    {
     "data": {
      "text/plain": [
       "['mvn_iuv_l1b_IPH2-cycle00001-mode040-muv_20140419T004426_v00_r00.fits.gz',\n",
       " 'mvn_iuv_l1b_IPH2-cycle00002-mode040-muv_20140419T084429_v00_r00.fits.gz',\n",
       " 'mvn_iuv_l1b_IPH2-cycle00003-mode040-muv_20140419T164430_v00_r00.fits.gz',\n",
       " 'mvn_iuv_l1b_IPH2-cycle00004-mode040-muv_20140420T004433_v00_r00.fits.gz',\n",
       " 'mvn_iuv_l1b_IPH2-cycle00005-mode040-muv_20140420T084434_v00_r00.fits.gz',\n",
       " 'mvn_iuv_l1b_IPH2-cycle00006-mode040-muv_20140420T164436_v00_r00.fits.gz',\n",
       " 'mvn_iuv_l1b_IPH2-cycle00007-mode040-muv_20140421T004438_v00_r00.fits.gz',\n",
       " 'mvn_iuv_l1b_IPH2-cycle00008-mode040-muv_20140421T084441_v00_r00.fits.gz',\n",
       " 'mvn_iuv_l1b_IPH2-cycle00009-mode040-muv_20140421T164443_v00_r00.fits.gz',\n",
       " 'mvn_iuv_l1b_IPH2-cycle00010-mode040-muv_20140422T004445_v00_r00.fits.gz']"
      ]
     },
     "execution_count": 3,
     "metadata": {},
     "output_type": "execute_result"
    }
   ],
   "source": [
    "mode040_fnames = !ls *IPH2-*-mode040-muv*.fits.gz\n",
    "mode040_fnames[:10]"
   ]
  },
  {
   "cell_type": "code",
   "execution_count": 13,
   "metadata": {
    "collapsed": false
   },
   "outputs": [],
   "source": [
    "from IPython.parallel import Client\n",
    "c = Client()"
   ]
  },
  {
   "cell_type": "code",
   "execution_count": 14,
   "metadata": {
    "collapsed": false
   },
   "outputs": [],
   "source": [
    "all_engines=c[:]\n",
    "lb = c.load_balanced_view()"
   ]
  },
  {
   "cell_type": "code",
   "execution_count": 15,
   "metadata": {
    "collapsed": false
   },
   "outputs": [],
   "source": [
    "%%px\n",
    "import os\n",
    "from iuvs import io\n",
    "import numpy as np"
   ]
  },
  {
   "cell_type": "code",
   "execution_count": 16,
   "metadata": {
    "collapsed": false
   },
   "outputs": [],
   "source": [
    "import os\n",
    "from iuvs import io\n",
    "\n",
    "from skimage.exposure import rescale_intensity\n",
    "\n",
    "def imshow_and_cbar(data, ax, txt, vmin=None, vmax=None):\n",
    "    im = ax.imshow(data, vmin=vmin, vmax=vmax)\n",
    "    cbar = plt.colorbar(im, ax=ax)\n",
    "    cbar.ax.tick_params(labelsize=9)\n",
    "    ax.set_title(txt)\n",
    "    \n",
    "def generate_dark_overview(fname, interactive=False):\n",
    "    from iuvs import io\n",
    "    fig, axes = plt.subplots(2,2)\n",
    "    iuvsfname = io.Filename(fname)\n",
    "    axes = axes.flatten()\n",
    "    data = io.L1BReader(str(io.level1bpath / fname))\n",
    "    subbed_img = data.detector_background_subtracted\n",
    "    p2, p98 = np.percentile(subbed_img, (2, 98))\n",
    "    imshow_and_cbar(subbed_img, axes[0], 'subtracted, 2/98-stretch',\n",
    "                   vmin=p2, vmax=p98)\n",
    "    axes[1].hist(subbed_img.flatten(), bins=100, log=True)\n",
    "    p2, p98 = np.percentile(data.detector_dark, (2, 98))\n",
    "    imshow_and_cbar(data.detector_dark, axes[2], 'dark, 2/98-stretch',\n",
    "                    vmin=p2, vmax=p98)\n",
    "    axes[3].hist(data.detector_dark.flatten(), bins=100, log=True)\n",
    "    fig.suptitle('Exposure: {}, Time:{}'.format(data.img_header['INT_TIME'],\n",
    "                                              iuvsfname.time.isoformat()))\n",
    "    plt.savefig(os.environ['HOME']+'/public_html/level1b_darks/plots/l1b_img_vs_darks_{}'.format(iuvsfname.time.isoformat()),\n",
    "            dpi=150)\n",
    "    if not interactive:\n",
    "        plt.close(fig)\n",
    "        return iuvsfname.basename\n",
    "    else:\n",
    "        return data"
   ]
  },
  {
   "cell_type": "code",
   "execution_count": 8,
   "metadata": {
    "collapsed": true
   },
   "outputs": [],
   "source": [
    "%matplotlib qt"
   ]
  },
  {
   "cell_type": "code",
   "execution_count": 9,
   "metadata": {
    "collapsed": false
   },
   "outputs": [],
   "source": [
    "data = generate_dark_overview(mode040_fnames[0], interactive=True)"
   ]
  },
  {
   "cell_type": "code",
   "execution_count": 17,
   "metadata": {
    "collapsed": false
   },
   "outputs": [
    {
     "data": {
      "text/plain": [
       "<AsyncResult: finished>"
      ]
     },
     "execution_count": 17,
     "metadata": {},
     "output_type": "execute_result"
    }
   ],
   "source": [
    "all_engines.push(dict(\n",
    "        imshow_and_cbar=imshow_and_cbar,\n",
    "        generate_dark_overview=generate_dark_overview,\n",
    "))"
   ]
  },
  {
   "cell_type": "code",
   "execution_count": 18,
   "metadata": {
    "collapsed": false
   },
   "outputs": [],
   "source": [
    "todo = mode040_fnames[:8]\n",
    "results = lb.map_async(generate_dark_overview, todo)"
   ]
  },
  {
   "cell_type": "code",
   "execution_count": 19,
   "metadata": {
    "collapsed": false
   },
   "outputs": [
    {
     "name": "stdout",
     "output_type": "stream",
     "text": [
      "0  %\n"
     ]
    }
   ],
   "source": [
    "import time\n",
    "while not results.ready():\n",
    "    print(round(100*results.progress/len(todo)), ' %')\n",
    "    time.sleep(10)"
   ]
  },
  {
   "cell_type": "code",
   "execution_count": 27,
   "metadata": {
    "collapsed": false
   },
   "outputs": [
    {
     "data": {
      "text/plain": [
       "['mvn_iuv_l1b_IPH2-cycle00001-mode040-muv_20140419T004426_v00_r00.fits.gz',\n",
       " 'mvn_iuv_l1b_IPH2-cycle00002-mode040-muv_20140419T084429_v00_r00.fits.gz',\n",
       " 'mvn_iuv_l1b_IPH2-cycle00003-mode040-muv_20140419T164430_v00_r00.fits.gz',\n",
       " 'mvn_iuv_l1b_IPH2-cycle00004-mode040-muv_20140420T004433_v00_r00.fits.gz',\n",
       " 'mvn_iuv_l1b_IPH2-cycle00005-mode040-muv_20140420T084434_v00_r00.fits.gz',\n",
       " 'mvn_iuv_l1b_IPH2-cycle00006-mode040-muv_20140420T164436_v00_r00.fits.gz',\n",
       " 'mvn_iuv_l1b_IPH2-cycle00007-mode040-muv_20140421T004438_v00_r00.fits.gz',\n",
       " 'mvn_iuv_l1b_IPH2-cycle00008-mode040-muv_20140421T084441_v00_r00.fits.gz']"
      ]
     },
     "execution_count": 27,
     "metadata": {},
     "output_type": "execute_result"
    }
   ],
   "source": [
    "results.get()"
   ]
  },
  {
   "cell_type": "code",
   "execution_count": null,
   "metadata": {
    "collapsed": true
   },
   "outputs": [],
   "source": []
  }
 ],
 "metadata": {
  "kernelspec": {
   "display_name": "Python 3",
   "name": "python3"
  },
  "language_info": {
   "codemirror_mode": {
    "name": "ipython",
    "version": 3
   },
   "file_extension": ".py",
   "mimetype": "text/x-python",
   "name": "python",
   "nbconvert_exporter": "python",
   "pygments_lexer": "ipython3",
   "version": "3.4.2"
  }
 },
 "nbformat": 4,
 "nbformat_minor": 0
}