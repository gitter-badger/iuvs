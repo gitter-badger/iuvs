{
 "cells": [
  {
   "cell_type": "code",
   "execution_count": null,
   "metadata": {
    "collapsed": false
   },
   "outputs": [],
   "source": [
    "%pylab inline\n",
    "rcParams['image.aspect'] = 'auto'\n",
    "rcParams['figure.figsize'] = (10,8)"
   ]
  },
  {
   "cell_type": "markdown",
   "metadata": {},
   "source": [
    "# Loading data"
   ]
  },
  {
   "cell_type": "code",
   "execution_count": null,
   "metadata": {
    "collapsed": false
   },
   "outputs": [],
   "source": [
    "from iuvs import io\n",
    "%autocall 1"
   ]
  },
  {
   "cell_type": "code",
   "execution_count": null,
   "metadata": {
    "collapsed": false
   },
   "outputs": [],
   "source": [
    "files = !ls ~/data/iuvs/level1b/*.gz\n",
    "files"
   ]
  },
  {
   "cell_type": "code",
   "execution_count": null,
   "metadata": {
    "collapsed": false
   },
   "outputs": [],
   "source": [
    "l1b = io.L1BReader(files[1])"
   ]
  },
  {
   "cell_type": "markdown",
   "metadata": {},
   "source": [
    "The `darks_interpolated` data-cube consists of the interpolated darks that have been subtracted from the raw image cube for this observation. They are originally named `background_dark` but I find that confusing with `detector_dark`."
   ]
  },
  {
   "cell_type": "code",
   "execution_count": null,
   "metadata": {
    "collapsed": false
   },
   "outputs": [],
   "source": [
    "l1b.darks_interpolated.shape"
   ]
  },
  {
   "cell_type": "markdown",
   "metadata": {},
   "source": [
    "defining dark1 and 2. (Could be 2 and 3rd of a set of 3, with 2 before light images, or just 1 and 1."
   ]
  },
  {
   "cell_type": "code",
   "execution_count": null,
   "metadata": {
    "collapsed": true
   },
   "outputs": [],
   "source": [
    "dark0 = l1b.detector_dark[0]\n",
    "dark1 = l1b.detector_dark[1]\n",
    "dark2 = l1b.detector_dark[2]"
   ]
  },
  {
   "cell_type": "markdown",
   "metadata": {},
   "source": [
    "# some dark stats"
   ]
  },
  {
   "cell_type": "code",
   "execution_count": null,
   "metadata": {
    "collapsed": false
   },
   "outputs": [],
   "source": [
    "io.image_stats(dark0)"
   ]
  },
  {
   "cell_type": "code",
   "execution_count": null,
   "metadata": {
    "collapsed": false
   },
   "outputs": [],
   "source": [
    "io.image_stats(dark1)"
   ]
  },
  {
   "cell_type": "code",
   "execution_count": null,
   "metadata": {
    "collapsed": false
   },
   "outputs": [],
   "source": [
    "io.image_stats(dark2)"
   ]
  },
  {
   "cell_type": "code",
   "execution_count": null,
   "metadata": {
    "collapsed": true
   },
   "outputs": [],
   "source": [
    "def compare_darks(dark1, dark2):\n",
    "    fig, ax = subplots(nrows=2)\n",
    "    ax[0].imshow(dark1, vmin=0, vmax=1000,cmap='gray')\n",
    "    ax[1].imshow(dark2, vmin=0, vmax=1000,cmap='gray')"
   ]
  },
  {
   "cell_type": "code",
   "execution_count": null,
   "metadata": {
    "collapsed": false
   },
   "outputs": [],
   "source": [
    "l1b.detector_raw.shape"
   ]
  },
  {
   "cell_type": "code",
   "execution_count": null,
   "metadata": {
    "collapsed": false
   },
   "outputs": [],
   "source": [
    "l1b.detector_dark.shape"
   ]
  },
  {
   "cell_type": "code",
   "execution_count": null,
   "metadata": {
    "collapsed": false
   },
   "outputs": [],
   "source": [
    "rcParams['figure.figsize']"
   ]
  },
  {
   "cell_type": "code",
   "execution_count": null,
   "metadata": {
    "collapsed": false
   },
   "outputs": [],
   "source": [
    "compare_darks(dark1,dark2)"
   ]
  },
  {
   "cell_type": "markdown",
   "metadata": {},
   "source": [
    "# dark histograms"
   ]
  },
  {
   "cell_type": "markdown",
   "metadata": {},
   "source": [
    "first showing how the 3 darks are differing in their histogram:"
   ]
  },
  {
   "cell_type": "code",
   "execution_count": null,
   "metadata": {
    "collapsed": false
   },
   "outputs": [],
   "source": [
    "# _, axes = subplots(2)\n",
    "for i, dark in enumerate([dark0, dark1, dark2]):\n",
    "    hist(dark.ravel(), 100, range=(0,5000), log=True, label='dark'+str(i),alpha=0.5)\n",
    "legend()"
   ]
  },
  {
   "cell_type": "markdown",
   "metadata": {},
   "source": [
    "As one can see, the first 2 darks are very similar and the last dark taken 47 minutes later has a quite different histogram. Let's see how it looks if we just push up the histogram by the mean value difference of the 2 darks:"
   ]
  },
  {
   "cell_type": "code",
   "execution_count": null,
   "metadata": {
    "collapsed": false
   },
   "outputs": [],
   "source": [
    "delta_mean = abs(dark1.mean() - dark2.mean())\n",
    "delta_mean"
   ]
  },
  {
   "cell_type": "code",
   "execution_count": null,
   "metadata": {
    "collapsed": true
   },
   "outputs": [],
   "source": [
    "def myhist(data, **kwargs):\n",
    "    hist(data.ravel(), 100, range=(0,5000), log=True, alpha=0.5, **kwargs)"
   ]
  },
  {
   "cell_type": "code",
   "execution_count": null,
   "metadata": {
    "collapsed": false
   },
   "outputs": [],
   "source": [
    "fig, axes = subplots(nrows=2)\n",
    "axes = axes.ravel()\n",
    "for i, dark in enumerate([dark1, dark2]):\n",
    "    axes[0].hist(dark.ravel(), 100, range=(0, 5000), log=True, label='dark'+str(i+1),\n",
    "                 alpha=0.5)\n",
    "axes[0].legend()\n",
    "axes[0].set_title('Original dark1 and dark2 histograms')\n",
    "for txt,dark in zip(['dark1+delta_mean','dark2'],[dark1+delta_mean,dark2]):\n",
    "    axes[1].hist(dark.ravel(), 100, range=(0, 5000), log=True, label=txt, alpha=0.5)\n",
    "axes[1].legend()\n",
    "axes[1].set_title('Shifted dark1 histogram by the difference of their means')"
   ]
  },
  {
   "cell_type": "markdown",
   "metadata": {},
   "source": [
    "The remaining difference in the shape of the histogram make me believe that a pure additive fix can never make one dark to be subtractable by the other one.\n",
    "\n",
    "# line profiles\n",
    "\n",
    "The failure of additive correction can also be shown for a line profile at an arbitrary spatial pixel. \n",
    "Below I plot a line profile for row `spatial` for the 2nd dark (dark1) and the last dark (dark2).\n",
    "In preparation for the future focus on only the sides of the spectral I zoom into the plot both on the left and right 25 pixels of the total range in the data.\n",
    "Adding a range of values trying to match the profile of dark1 to dark2 shows that either the minima or the maxima can be fit but never both at the same time.\n",
    "\n",
    "Possibly reason though: Could it be eval pixels that prevent this from working? Or are there by far not enough of them?"
   ]
  },
  {
   "cell_type": "code",
   "execution_count": null,
   "metadata": {
    "collapsed": false
   },
   "outputs": [],
   "source": [
    "spatial = 30\n",
    "fig, axes = subplots(ncols=2)\n",
    "axes = axes.ravel()\n",
    "def do_plot(ax):\n",
    "    ax.plot(dark2[spatial], '--', label='dark2')\n",
    "    ax.plot(dark1[spatial], '--', label='dark1')\n",
    "    for delta in range(180, 230, 10):\n",
    "        ax.plot(dark1[spatial]+delta, label=delta)\n",
    "    ax.legend(loc='best',ncol=2)\n",
    "    ax.set_ylim(0,1000)\n",
    "do_plot(axes[0])\n",
    "axes[0].set_xlim(0,25)\n",
    "axes[0].set_title('Left 25 spectral bins')\n",
    "do_plot(axes[1])\n",
    "length = dark2.shape[1]\n",
    "axes[1].set_xlim(length-25,length)\n",
    "axes[1].set_title('Right 25 spectral bins')"
   ]
  },
  {
   "cell_type": "markdown",
   "metadata": {},
   "source": [
    "# What do interpolated darks do\n",
    "\n",
    "I'm having doubts about the premise that a dark should be subtractable from a dark in all cases.\n",
    "I'm thinking that if the main premise is that our data should tell us what to do, then the corollar is that some kind of interpolated dark between 2 darks is the truth that needs to be subtracted from the raw image. The question is what changed over time. As temperature is one of the main things that we know has changed from dark1 to dark2, I find it paramount to take temperature into account as a parameter for the interpolation.\n",
    "\n",
    "But let's see what the currently interpolated darks do."
   ]
  },
  {
   "cell_type": "code",
   "execution_count": null,
   "metadata": {
    "collapsed": true
   },
   "outputs": [],
   "source": [
    "# missing code for interpolation check."
   ]
  },
  {
   "cell_type": "code",
   "execution_count": null,
   "metadata": {
    "collapsed": false
   },
   "outputs": [],
   "source": [
    "raw0 = l1b.detector_raw[0]\n",
    "spatial = l1b.detector_raw.shape[1]//2\n",
    "plot(raw0[spatial] - dark1[spatial], 'g', \n",
    "     label='first light minus 2nd dark')\n",
    "plot(raw0[spatial] - dark2[spatial], 'b', \n",
    "     label='first light minus last dark')\n",
    "title(\"Show the importance of taking the right dark\")\n",
    "legend()"
   ]
  },
  {
   "cell_type": "code",
   "execution_count": null,
   "metadata": {
    "collapsed": false
   },
   "outputs": [],
   "source": [
    "imshow(l1b.detector_raw[-1])\n",
    "title(\"Last light image in cube\")"
   ]
  },
  {
   "cell_type": "code",
   "execution_count": null,
   "metadata": {
    "collapsed": false
   },
   "outputs": [],
   "source": [
    "fig, axes = subplots(nrows=3)\n",
    "raw = l1b.detector_raw\n",
    "axes[0].imshow(raw[0])\n",
    "axes[1].imshow(raw[1])\n",
    "axes[2].imshow(raw[2])\n",
    "fig.suptitle(\"First 3 lights in cube\")"
   ]
  },
  {
   "cell_type": "markdown",
   "metadata": {},
   "source": [
    "# How do the darks ratio with each other?\n",
    "## Dark 0 / Dark 1"
   ]
  },
  {
   "cell_type": "code",
   "execution_count": null,
   "metadata": {
    "collapsed": false
   },
   "outputs": [],
   "source": [
    "spatial = 20\n",
    "data = dark0[spatial]/dark1[spatial]\n",
    "plot(data, label=spatial)\n",
    "legend(loc='best')\n",
    "title(\"one row, first dark / second dark. Mean:{:.2f}\".format(data.mean()))\n",
    "grid()"
   ]
  },
  {
   "cell_type": "markdown",
   "metadata": {},
   "source": [
    "## Dark 0 / Dark 2 (last one)"
   ]
  },
  {
   "cell_type": "code",
   "execution_count": null,
   "metadata": {
    "collapsed": false
   },
   "outputs": [],
   "source": [
    "for spatial in range(20,60,10):\n",
    "    plot(dark0[spatial]/dark2[spatial], label=spatial)\n",
    "legend(loc='best')"
   ]
  },
  {
   "cell_type": "code",
   "execution_count": null,
   "metadata": {
    "collapsed": false
   },
   "outputs": [],
   "source": [
    "raw45 = raw[45]"
   ]
  },
  {
   "cell_type": "code",
   "execution_count": null,
   "metadata": {
    "collapsed": false
   },
   "outputs": [],
   "source": [
    "fig, axes = subplots(nrows=2)\n",
    "im = axes[0].imshow(dark1, vmax=600, vmin=0)\n",
    "colorbar(im, ax=axes[0])\n",
    "im = axes[1].imshow(dark2, vmax=600, vmin=0)\n",
    "colorbar(im, ax=axes[1])\n",
    "fig.suptitle(\"Comparing 2nd dark (before) and last dark (after set)\")"
   ]
  },
  {
   "cell_type": "markdown",
   "metadata": {},
   "source": [
    "Showing again how it is important to subtract the right dark:"
   ]
  },
  {
   "cell_type": "code",
   "execution_count": null,
   "metadata": {
    "collapsed": false
   },
   "outputs": [],
   "source": [
    "spatial=30\n",
    "raw45 = l1b.detector_raw[-1]\n",
    "plot(raw45[spatial]-dark2[spatial], label='last light - dark2')\n",
    "plot(raw45[spatial]-dark1[spatial], label='last light - dark1')\n",
    "legend(loc='best')\n",
    "title(\"Important to subtract the right dark\")"
   ]
  },
  {
   "cell_type": "code",
   "execution_count": null,
   "metadata": {
    "collapsed": false,
    "slideshow": {
     "slide_type": "-"
    }
   },
   "outputs": [],
   "source": [
    "spatial=30\n",
    "plot(raw0[spatial] - dark2[spatial], label='raw0 - last dark')\n",
    "plot(raw0[spatial] - dark1[spatial], label='raw0 - 2nd dark')\n",
    "plot(raw0[spatial] - dark0[spatial], label='raw0 - 1st dark')\n",
    "legend(loc='best')"
   ]
  },
  {
   "cell_type": "markdown",
   "metadata": {},
   "source": [
    "# Multiplicative comparison of darks"
   ]
  },
  {
   "cell_type": "code",
   "execution_count": null,
   "metadata": {
    "collapsed": false
   },
   "outputs": [],
   "source": [
    "myhist(dark2, label='dark2')\n",
    "for a in linspace(1.4,1.6, 3):\n",
    "    myhist(dark1*a, label=str(a))\n",
    "legend()"
   ]
  },
  {
   "cell_type": "code",
   "execution_count": null,
   "metadata": {
    "collapsed": false
   },
   "outputs": [],
   "source": [
    "dettemp = l1b.DarkEngineering.T['DET_TEMP']\n",
    "casetemp = l1b.DarkEngineering.T['CASE_TEMP']\n",
    "print(dettemp[0]/dettemp[1])\n",
    "print(casetemp[1]/dettemp[0])"
   ]
  },
  {
   "cell_type": "code",
   "execution_count": null,
   "metadata": {
    "collapsed": false
   },
   "outputs": [],
   "source": [
    "for a in [1.5,1.52, 1.54]:\n",
    "    plot(a*dark1.mean(axis=0), label=str(a))\n",
    "plot(dark2.mean(axis=0), label='dark2')\n",
    "legend(loc='best')"
   ]
  },
  {
   "cell_type": "markdown",
   "metadata": {
    "collapsed": true
   },
   "source": [
    "# Animation a la Nick's analysis"
   ]
  },
  {
   "cell_type": "code",
   "execution_count": null,
   "metadata": {
    "collapsed": false
   },
   "outputs": [],
   "source": [
    "fig, ax = plt.subplots()\n",
    "\n",
    "# lines = []\n",
    "# for i in range(0, 11):\n",
    "#     frac = 0.8 + i*0.03\n",
    "#     diff = rawa - frac*dark\n",
    "#     lines.append(plt.plot(diff[:, j] + i*1000))\n",
    "\n",
    "diff = rawa - 0.8*dark[...,0]\n",
    "line, = ax.plot(diff[:, 0])\n",
    "# ax.set_ylim(-1000, 11000)\n",
    "\n",
    "def animate(j):\n",
    "#     for i in range(0, 11):\n",
    "#         frac = 0.8 + i*0.03\n",
    "#         diff = rawa - frac*dark\n",
    "    line.set_ydata(diff[:, j] + 0*1000)\n",
    "\n",
    "def init():\n",
    "    line.set_ydata(np.ma.array(np.arange(341), mask=True))\n",
    "    return line,\n",
    "\n",
    "ani = animation.FuncAnimation(fig, animate, np.arange(1, 61),\n",
    "                              init_func=init, interval=25,\n",
    "                              blit=True)\n",
    "plt.show()"
   ]
  },
  {
   "cell_type": "code",
   "execution_count": null,
   "metadata": {
    "collapsed": false
   },
   "outputs": [],
   "source": [
    "for j in range(61):\n",
    "    plt.clf()\n",
    "    for i in range(0,11):\n",
    "        frac = 0.8 + i*0.03\n",
    "        diff = rawa - frac*dark[...,0]\n",
    "        plt.plot(diff[:, j] + i*1000)\n",
    "    plt.ylim(-1000, 11000)\n",
    "    plt.waitforbuttonpress(0.1)"
   ]
  },
  {
   "cell_type": "code",
   "execution_count": null,
   "metadata": {
    "collapsed": false
   },
   "outputs": [],
   "source": [
    "fig, axes = plt.subplots(nrows=3)\n",
    "for ax,img in zip(axes, l1b.detector_dark):\n",
    "    im = ax.imshow(img,vmax=2000,cmap='hot')\n",
    "    ax.set_title(\"Mean: {:.1f}\".format(img.mean()))\n",
    "    plt.colorbar(im, ax=ax)"
   ]
  },
  {
   "cell_type": "code",
   "execution_count": null,
   "metadata": {
    "collapsed": false
   },
   "outputs": [],
   "source": [
    "ratio1 = dark0/dark1\n",
    "ratio2 = dark0/dark2\n",
    "ratio3 = dark1/dark2"
   ]
  },
  {
   "cell_type": "code",
   "execution_count": null,
   "metadata": {
    "collapsed": false
   },
   "outputs": [],
   "source": [
    "fig, axes = plt.subplots(nrows=3)\n",
    "for ax,img in zip(axes, [ratio1, ratio2, ratio3]):\n",
    "    im = ax.imshow(img, vmax=1.5, cmap='hot')\n",
    "    plt.colorbar(im, ax=ax)\n",
    "    ax.set_title(\"Mean: {:.2f}\".format(img.mean()))"
   ]
  },
  {
   "cell_type": "code",
   "execution_count": null,
   "metadata": {
    "collapsed": false
   },
   "outputs": [],
   "source": []
  }
 ],
 "metadata": {
  "kernelspec": {
   "display_name": "Python 3",
   "name": "python3"
  },
  "language_info": {
   "codemirror_mode": {
    "name": "ipython",
    "version": 3
   },
   "file_extension": ".py",
   "mimetype": "text/x-python",
   "name": "python",
   "nbconvert_exporter": "python",
   "pygments_lexer": "ipython3",
   "version": "3.4.2"
  }
 },
 "nbformat": 4,
 "nbformat_minor": 0
}
