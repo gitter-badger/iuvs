{
 "cells": [
  {
   "cell_type": "markdown",
   "metadata": {},
   "source": [
    "# Pick filenames"
   ]
  },
  {
   "cell_type": "code",
   "execution_count": 10,
   "metadata": {
    "collapsed": true
   },
   "outputs": [],
   "source": [
    "fnames = io.l1b_filenames(iterator=False, stage=False)"
   ]
  },
  {
   "cell_type": "code",
   "execution_count": 11,
   "metadata": {
    "collapsed": false
   },
   "outputs": [],
   "source": [
    "iuvsfname = io.Filename(fnames[0])"
   ]
  },
  {
   "cell_type": "code",
   "execution_count": 12,
   "metadata": {
    "collapsed": false
   },
   "outputs": [
    {
     "data": {
      "text/plain": [
       "Basename: mvn_iuv_l1b_outbound-orbit00351-fuv_20141204T024615_v02_r01.fits.gz\n",
       "Mission: mvn\n",
       "Instrument: iuv\n",
       "Level: l1b\n",
       "Phase: outbound\n",
       "Cycle_orbit: orbit00351\n",
       "Mode: N/A\n",
       "Channel: fuv\n",
       "Version: v02\n",
       "Revision: r01\n",
       "Time: 2014-12-04 02:46:15"
      ]
     },
     "execution_count": 12,
     "metadata": {},
     "output_type": "execute_result"
    }
   ],
   "source": [
    "iuvsfname"
   ]
  },
  {
   "cell_type": "code",
   "execution_count": 13,
   "metadata": {
    "collapsed": false
   },
   "outputs": [
    {
     "data": {
      "text/plain": [
       "'mvn_iuv_l1b_outbound-orbit00351-fuv_20141204T024615'"
      ]
     },
     "execution_count": 13,
     "metadata": {},
     "output_type": "execute_result"
    }
   ],
   "source": [
    "iuvsfname.obs_id"
   ]
  },
  {
   "cell_type": "code",
   "execution_count": 14,
   "metadata": {
    "collapsed": true
   },
   "outputs": [],
   "source": [
    "df = pd.DataFrame(fnames, columns=['fname'])"
   ]
  },
  {
   "cell_type": "code",
   "execution_count": 15,
   "metadata": {
    "collapsed": true
   },
   "outputs": [],
   "source": [
    "def create_version(fname):\n",
    "    iuvsfname = io.Filename(fname)\n",
    "    return iuvsfname.version + iuvsfname.revision"
   ]
  },
  {
   "cell_type": "code",
   "execution_count": 16,
   "metadata": {
    "collapsed": true
   },
   "outputs": [],
   "source": [
    "df['version_string'] = df.fname.map(create_version)"
   ]
  },
  {
   "cell_type": "code",
   "execution_count": 17,
   "metadata": {
    "collapsed": false
   },
   "outputs": [
    {
     "data": {
      "text/html": [
       "<div style=\"max-height:1000px;max-width:1500px;overflow:auto;\">\n",
       "<table border=\"1\" class=\"dataframe\">\n",
       "  <thead>\n",
       "    <tr style=\"text-align: right;\">\n",
       "      <th></th>\n",
       "      <th>fname</th>\n",
       "      <th>version_string</th>\n",
       "    </tr>\n",
       "  </thead>\n",
       "  <tbody>\n",
       "    <tr>\n",
       "      <th>0</th>\n",
       "      <td>/maven_iuvs/production/products/level1b/mvn_iu...</td>\n",
       "      <td>v02r01</td>\n",
       "    </tr>\n",
       "    <tr>\n",
       "      <th>1</th>\n",
       "      <td>/maven_iuvs/production/products/level1b/mvn_iu...</td>\n",
       "      <td>v02r01</td>\n",
       "    </tr>\n",
       "    <tr>\n",
       "      <th>2</th>\n",
       "      <td>/maven_iuvs/production/products/level1b/mvn_iu...</td>\n",
       "      <td>v02r01</td>\n",
       "    </tr>\n",
       "    <tr>\n",
       "      <th>3</th>\n",
       "      <td>/maven_iuvs/production/products/level1b/mvn_iu...</td>\n",
       "      <td>v02r01</td>\n",
       "    </tr>\n",
       "    <tr>\n",
       "      <th>4</th>\n",
       "      <td>/maven_iuvs/production/products/level1b/mvn_iu...</td>\n",
       "      <td>v02r01</td>\n",
       "    </tr>\n",
       "  </tbody>\n",
       "</table>\n",
       "</div>"
      ],
      "text/plain": [
       "                                               fname version_string\n",
       "0  /maven_iuvs/production/products/level1b/mvn_iu...         v02r01\n",
       "1  /maven_iuvs/production/products/level1b/mvn_iu...         v02r01\n",
       "2  /maven_iuvs/production/products/level1b/mvn_iu...         v02r01\n",
       "3  /maven_iuvs/production/products/level1b/mvn_iu...         v02r01\n",
       "4  /maven_iuvs/production/products/level1b/mvn_iu...         v02r01"
      ]
     },
     "execution_count": 17,
     "metadata": {},
     "output_type": "execute_result"
    }
   ],
   "source": [
    "df.head()"
   ]
  },
  {
   "cell_type": "code",
   "execution_count": 9,
   "metadata": {
    "collapsed": false
   },
   "outputs": [
    {
     "data": {
      "text/plain": [
       "v01r01    29933\n",
       "v02s02    17058\n",
       "v01s01    12719\n",
       "v02s03    10720\n",
       "v02s01     7252\n",
       "v02s04     2028\n",
       "v02s05     2027\n",
       "v02s06     1965\n",
       "v02s07     1938\n",
       "v02s08     1618\n",
       "v01s02      687\n",
       "v02s09      266\n",
       "v02s10      263\n",
       "v01s03       96\n",
       "v01r02       10\n",
       "v02s12        1\n",
       "v02s11        1\n",
       "dtype: int64"
      ]
     },
     "execution_count": 9,
     "metadata": {},
     "output_type": "execute_result"
    }
   ],
   "source": [
    "df.version_string.value_counts()"
   ]
  },
  {
   "cell_type": "code",
   "execution_count": 18,
   "metadata": {
    "collapsed": false
   },
   "outputs": [
    {
     "data": {
      "text/plain": [
       "v02r01    29440\n",
       "v02r02       44\n",
       "dtype: int64"
      ]
     },
     "execution_count": 18,
     "metadata": {},
     "output_type": "execute_result"
    }
   ],
   "source": [
    "df.version_string.value_counts()"
   ]
  },
  {
   "cell_type": "code",
   "execution_count": 138,
   "metadata": {
    "collapsed": false
   },
   "outputs": [],
   "source": [
    "df['obsid'] = df.fname.map(lambda x: io.Filename(x).obs_id)"
   ]
  },
  {
   "cell_type": "code",
   "execution_count": 139,
   "metadata": {
    "collapsed": false
   },
   "outputs": [
    {
     "data": {
      "text/html": [
       "<div style=\"max-height:1000px;max-width:1500px;overflow:auto;\">\n",
       "<table border=\"1\" class=\"dataframe\">\n",
       "  <thead>\n",
       "    <tr style=\"text-align: right;\">\n",
       "      <th></th>\n",
       "      <th>fname</th>\n",
       "      <th>version_string</th>\n",
       "      <th>obsid</th>\n",
       "    </tr>\n",
       "  </thead>\n",
       "  <tbody>\n",
       "    <tr>\n",
       "      <th>0</th>\n",
       "      <td>/maven_iuvs/stage/products/level1b/mvn_iuv_l1b...</td>\n",
       "      <td>v02s02</td>\n",
       "      <td>mvn_iuv_l1b_apoapse-orbit00537-fuv_20150108T16...</td>\n",
       "    </tr>\n",
       "    <tr>\n",
       "      <th>1</th>\n",
       "      <td>/maven_iuvs/stage/products/level1b/mvn_iuv_l1b...</td>\n",
       "      <td>v01r01</td>\n",
       "      <td>mvn_iuv_l1b_IPH2-cycle00044-mode031-fuv_201405...</td>\n",
       "    </tr>\n",
       "    <tr>\n",
       "      <th>2</th>\n",
       "      <td>/maven_iuvs/stage/products/level1b/mvn_iuv_l1b...</td>\n",
       "      <td>v01r01</td>\n",
       "      <td>mvn_iuv_l1b_IPH2-cycle00070-mode020-muv_201405...</td>\n",
       "    </tr>\n",
       "    <tr>\n",
       "      <th>3</th>\n",
       "      <td>/maven_iuvs/stage/products/level1b/mvn_iuv_l1b...</td>\n",
       "      <td>v01s01</td>\n",
       "      <td>mvn_iuv_l1b_apoapse-orbit00901-fuvdark_2015031...</td>\n",
       "    </tr>\n",
       "    <tr>\n",
       "      <th>4</th>\n",
       "      <td>/maven_iuvs/stage/products/level1b/mvn_iuv_l1b...</td>\n",
       "      <td>v02s01</td>\n",
       "      <td>mvn_iuv_l1b_outbound-orbit00347-ech_20141203T0...</td>\n",
       "    </tr>\n",
       "  </tbody>\n",
       "</table>\n",
       "</div>"
      ],
      "text/plain": [
       "                                               fname version_string  \\\n",
       "0  /maven_iuvs/stage/products/level1b/mvn_iuv_l1b...         v02s02   \n",
       "1  /maven_iuvs/stage/products/level1b/mvn_iuv_l1b...         v01r01   \n",
       "2  /maven_iuvs/stage/products/level1b/mvn_iuv_l1b...         v01r01   \n",
       "3  /maven_iuvs/stage/products/level1b/mvn_iuv_l1b...         v01s01   \n",
       "4  /maven_iuvs/stage/products/level1b/mvn_iuv_l1b...         v02s01   \n",
       "\n",
       "                                               obsid  \n",
       "0  mvn_iuv_l1b_apoapse-orbit00537-fuv_20150108T16...  \n",
       "1  mvn_iuv_l1b_IPH2-cycle00044-mode031-fuv_201405...  \n",
       "2  mvn_iuv_l1b_IPH2-cycle00070-mode020-muv_201405...  \n",
       "3  mvn_iuv_l1b_apoapse-orbit00901-fuvdark_2015031...  \n",
       "4  mvn_iuv_l1b_outbound-orbit00347-ech_20141203T0...  "
      ]
     },
     "execution_count": 139,
     "metadata": {},
     "output_type": "execute_result"
    }
   ],
   "source": [
    "df.head()"
   ]
  },
  {
   "cell_type": "code",
   "execution_count": 114,
   "metadata": {
    "collapsed": false
   },
   "outputs": [],
   "source": [
    "g = df.groupby('obsid')"
   ]
  },
  {
   "cell_type": "code",
   "execution_count": 119,
   "metadata": {
    "collapsed": false
   },
   "outputs": [],
   "source": [
    "result = g.size()"
   ]
  },
  {
   "cell_type": "code",
   "execution_count": 122,
   "metadata": {
    "collapsed": false
   },
   "outputs": [],
   "source": [
    "non_unique_obsids = result[result>1].index"
   ]
  },
  {
   "cell_type": "code",
   "execution_count": 140,
   "metadata": {
    "collapsed": false
   },
   "outputs": [
    {
     "data": {
      "text/plain": [
       "v01r01    29933\n",
       "v02s02    15144\n",
       "v01s01    12751\n",
       "v02s03     8635\n",
       "v02s01     3758\n",
       "v01s02      687\n",
       "v01s03       96\n",
       "v01r02       10\n",
       "dtype: int64"
      ]
     },
     "execution_count": 140,
     "metadata": {},
     "output_type": "execute_result"
    }
   ],
   "source": [
    "df.version_string.value_counts()"
   ]
  },
  {
   "cell_type": "code",
   "execution_count": 161,
   "metadata": {
    "collapsed": false
   },
   "outputs": [
    {
     "data": {
      "text/plain": [
       "'v02s03'"
      ]
     },
     "execution_count": 161,
     "metadata": {},
     "output_type": "execute_result"
    }
   ],
   "source": [
    "df.version_string.max()"
   ]
  },
  {
   "cell_type": "code",
   "execution_count": 150,
   "metadata": {
    "collapsed": true
   },
   "outputs": [],
   "source": [
    "df['phase'] = df.fname.map(lambda x: io.Filename(x).phase)"
   ]
  },
  {
   "cell_type": "code",
   "execution_count": 153,
   "metadata": {
    "collapsed": false
   },
   "outputs": [
    {
     "data": {
      "text/plain": [
       "apoapse         33085\n",
       "periapse        15198\n",
       "IPH2             9919\n",
       "outbound         2995\n",
       "IPH1             2099\n",
       "APP2             1441\n",
       "early            1107\n",
       "inbound           912\n",
       "outboundhifi      835\n",
       "IPH3              729\n",
       "periapsehifi      584\n",
       "ISON2             370\n",
       "centroid          334\n",
       "outdisk           308\n",
       "outlimb           306\n",
       "ISON1             280\n",
       "APP1              145\n",
       "star              117\n",
       "cruisecal1         82\n",
       "cruisecal2         81\n",
       "APP1A              56\n",
       "comet              31\n",
       "dtype: int64"
      ]
     },
     "execution_count": 153,
     "metadata": {},
     "output_type": "execute_result"
    }
   ],
   "source": [
    "df.phase.value_counts()"
   ]
  },
  {
   "cell_type": "code",
   "execution_count": 160,
   "metadata": {
    "collapsed": false,
    "scrolled": false
   },
   "outputs": [
    {
     "name": "stdout",
     "output_type": "stream",
     "text": [
      "v02s01\n",
      "\n",
      "apoapse         1824\n",
      "periapse         966\n",
      "APP2             485\n",
      "outbound         129\n",
      "outboundhifi     121\n",
      "periapsehifi      74\n",
      "inbound           56\n",
      "outlimb           52\n",
      "outdisk           51\n",
      "dtype: int64\n",
      "v02s02\n",
      "\n",
      "apoapse         9008\n",
      "periapse        3787\n",
      "APP2             485\n",
      "outboundhifi     476\n",
      "outbound         460\n",
      "periapsehifi     316\n",
      "inbound          193\n",
      "outdisk          167\n",
      "outlimb          166\n",
      "centroid          86\n",
      "dtype: int64\n",
      "v02s03\n",
      "\n",
      "apoapse         5408\n",
      "periapse        2223\n",
      "outbound         243\n",
      "outboundhifi     238\n",
      "periapsehifi     194\n",
      "inbound           93\n",
      "outdisk           90\n",
      "outlimb           88\n",
      "centroid          58\n",
      "dtype: int64\n"
     ]
    }
   ],
   "source": [
    "vstrings = ['v02s0'+str(i) for i in [1,2,3]]\n",
    "for vstring in vstrings:\n",
    "    print(vstring)\n",
    "    print()\n",
    "    print(df[df.version_string==vstring].phase.value_counts())"
   ]
  },
  {
   "cell_type": "code",
   "execution_count": 157,
   "metadata": {
    "collapsed": false
   },
   "outputs": [
    {
     "data": {
      "text/plain": [
       "['v02s01', 'v02s02', 'v02s03']"
      ]
     },
     "execution_count": 157,
     "metadata": {},
     "output_type": "execute_result"
    }
   ],
   "source": []
  },
  {
   "cell_type": "code",
   "execution_count": null,
   "metadata": {
    "collapsed": true
   },
   "outputs": [],
   "source": []
  }
 ],
 "metadata": {
  "kernelspec": {
   "display_name": "Python 3",
   "language": "python",
   "name": "python3"
  },
  "language_info": {
   "codemirror_mode": {
    "name": "ipython",
    "version": 3
   },
   "file_extension": ".py",
   "mimetype": "text/x-python",
   "name": "python",
   "nbconvert_exporter": "python",
   "pygments_lexer": "ipython3",
   "version": "3.4.3"
  }
 },
 "nbformat": 4,
 "nbformat_minor": 0
}
