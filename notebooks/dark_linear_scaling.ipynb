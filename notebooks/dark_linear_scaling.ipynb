{
 "cells": [
  {
   "cell_type": "code",
   "execution_count": 1,
   "metadata": {
    "collapsed": false
   },
   "outputs": [],
   "source": [
    "%matplotlib inline\n",
    "from matplotlib import rcParams, rcdefaults\n",
    "from matplotlib.pyplot import subplots, style, hist, legend, plot, imshow, colorbar, title\n",
    "from numpy import linspace\n",
    "from scipy.optimize import curve_fit\n",
    "\n",
    "rcParams['image.aspect'] = 'auto'\n",
    "rcParams['figure.figsize'] = (10,8)\n",
    "style.use('fivethirtyeight')"
   ]
  },
  {
   "cell_type": "markdown",
   "metadata": {},
   "source": [
    "# Loading data"
   ]
  },
  {
   "cell_type": "code",
   "execution_count": 1,
   "metadata": {
    "collapsed": false
   },
   "outputs": [],
   "source": [
    "from iuvs import io"
   ]
  },
  {
   "cell_type": "code",
   "execution_count": 3,
   "metadata": {
    "collapsed": false
   },
   "outputs": [],
   "source": [
    "fname = io.l1b_filenames(\"cruisecal2-mode080-muv\", stage=False)"
   ]
  },
  {
   "cell_type": "code",
   "execution_count": 4,
   "metadata": {
    "collapsed": false
   },
   "outputs": [
    {
     "data": {
      "text/plain": [
       "['/maven_iuvs/production/products/level1b/mvn_iuv_l1b_cruisecal2-mode080-muv_20140521T120029_v00_r00.fits.gz']"
      ]
     },
     "execution_count": 4,
     "metadata": {},
     "output_type": "execute_result"
    }
   ],
   "source": [
    "fname"
   ]
  },
  {
   "cell_type": "code",
   "execution_count": 5,
   "metadata": {
    "collapsed": false
   },
   "outputs": [],
   "source": [
    "l1b = io.L1BReader(fname)"
   ]
  },
  {
   "cell_type": "code",
   "execution_count": 9,
   "metadata": {
    "collapsed": false
   },
   "outputs": [],
   "source": [
    "dark0 = l1b.detector_dark[0]\n",
    "dark1 = l1b.detector_dark[1]\n",
    "dark2 = l1b.detector_dark[2]"
   ]
  },
  {
   "cell_type": "markdown",
   "metadata": {},
   "source": [
    "# Multiplicative comparison of darks"
   ]
  },
  {
   "cell_type": "code",
   "execution_count": null,
   "metadata": {
    "collapsed": true
   },
   "outputs": [],
   "source": [
    "def myhist(data, **kwargs):\n",
    "    hist(data.ravel(), 100, range=(0,5000), log=True, alpha=0.5, **kwargs)"
   ]
  },
  {
   "cell_type": "code",
   "execution_count": null,
   "metadata": {
    "collapsed": false
   },
   "outputs": [],
   "source": [
    "myhist(dark2, label='dark2')\n",
    "for a in linspace(1.4,1.6, 3):\n",
    "    myhist(dark1*a, label=str(a))\n",
    "legend();"
   ]
  },
  {
   "cell_type": "markdown",
   "metadata": {},
   "source": [
    "This looks promising, the shape of the histograms are getting very close with a simple multipication.\n",
    "\n",
    "Below I compare how a spatially averaged spectral profile between the darks can be made look similar just with a multiplicative scaling."
   ]
  },
  {
   "cell_type": "code",
   "execution_count": null,
   "metadata": {
    "collapsed": false
   },
   "outputs": [],
   "source": [
    "for a in [1.5,1.52, 1.54]:\n",
    "    plot(a*dark1.mean(axis=0), label=str(a))\n",
    "plot(dark2.mean(axis=0), label='dark2')\n",
    "legend(loc='best');"
   ]
  },
  {
   "cell_type": "markdown",
   "metadata": {},
   "source": [
    "#  Modeling the fit\n",
    "In the old fashion way, one would define a model function and use a minimizer (here called `curve_fit` using least-square optimization) to find the parameters for which the model best approaches the data to recreate.\n",
    "\n",
    "In our situation, the `model` is how to get from one dark to the other."
   ]
  },
  {
   "cell_type": "code",
   "execution_count": null,
   "metadata": {
    "collapsed": false
   },
   "outputs": [],
   "source": [
    "def multimodel(x, a):\n",
    "    return a*x"
   ]
  },
  {
   "cell_type": "code",
   "execution_count": null,
   "metadata": {
    "collapsed": true
   },
   "outputs": [],
   "source": [
    "def addmodel(x, a):\n",
    "    return a+x"
   ]
  },
  {
   "cell_type": "code",
   "execution_count": null,
   "metadata": {
    "collapsed": true
   },
   "outputs": [],
   "source": [
    "from scipy.optimize import curve_fit"
   ]
  },
  {
   "cell_type": "markdown",
   "metadata": {},
   "source": [
    "Here I linearize all pixels for the darks to have simple 1D vectors of data to be matched with each other:"
   ]
  },
  {
   "cell_type": "code",
   "execution_count": null,
   "metadata": {
    "collapsed": true
   },
   "outputs": [],
   "source": [
    "data_in = dark1.ravel()\n",
    "data_out = dark2.ravel()"
   ]
  },
  {
   "cell_type": "markdown",
   "metadata": {},
   "source": [
    "Now the fitting. `curve_fit` returns the coefficients as required by the model parameters above and the covariance matrix of the fit, with the errors for the coefficients given on the diagonal of that matrix."
   ]
  },
  {
   "cell_type": "code",
   "execution_count": null,
   "metadata": {
    "collapsed": false
   },
   "outputs": [],
   "source": [
    "mult_p0, mult_pcov = curve_fit(multimodel, data_in, data_out)\n",
    "mult_perr = np.sqrt(np.diag(mult_pcov))"
   ]
  },
  {
   "cell_type": "code",
   "execution_count": null,
   "metadata": {
    "collapsed": true
   },
   "outputs": [],
   "source": [
    "add_p0, add_pcov = curve_fit(addmodel, data_in, data_out)\n",
    "add_perr = np.sqrt(np.diag(add_pcov))"
   ]
  },
  {
   "cell_type": "markdown",
   "metadata": {},
   "source": [
    "I will now use a residual to define the quality of the fit, both as an absolute and as a ratio to the target data:"
   ]
  },
  {
   "cell_type": "code",
   "execution_count": null,
   "metadata": {
    "collapsed": false
   },
   "outputs": [],
   "source": [
    "mult_residual = dark2 - multimodel(dark1, mult_p0)\n",
    "add_residual = dark2 - addmodel(dark1, add_p0)"
   ]
  },
  {
   "cell_type": "code",
   "execution_count": null,
   "metadata": {
    "collapsed": false
   },
   "outputs": [],
   "source": [
    "mult_fractional = (mult_residual/dark2)\n",
    "add_fractional = (add_residual/dark2)"
   ]
  },
  {
   "cell_type": "code",
   "execution_count": null,
   "metadata": {
    "collapsed": false
   },
   "outputs": [],
   "source": [
    "_, ax = subplots()\n",
    "ax.hist(mult_residual.ravel(), 100, log=True);\n",
    "ax.set_title('Histogram of Residual');"
   ]
  },
  {
   "cell_type": "markdown",
   "metadata": {},
   "source": [
    "# Polynomial model\n",
    "Using more advanced tools, I simply fit sets of polynomials with increasing degree `n` and apply this to the first dark vector."
   ]
  },
  {
   "cell_type": "code",
   "execution_count": null,
   "metadata": {
    "collapsed": false
   },
   "outputs": [],
   "source": [
    "def do_polyfit(rank, dark_in, dark_out):\n",
    "    z = np.polyfit(dark_in.ravel(), dark_out.ravel(), rank)\n",
    "    poly = np.poly1d(z)\n",
    "    residual = dark_out - poly(dark_in)\n",
    "    fractional = residual/dark_out\n",
    "    return poly, residual, fractional, poly(dark_in)\n",
    "\n",
    "fitted_darks = []\n",
    "residuals = []\n",
    "for rank in range(1,4):\n",
    "    poly, residual, fractional, fitted = do_polyfit(rank, dark1, dark2)\n",
    "    residuals.append(residual)\n",
    "    fitted_darks.append(fitted)\n",
    "    fig, ax = subplots(ncols=2)\n",
    "    ax[0].set_title(\"Polynom: {}\".format(poly))\n",
    "    ax[0].hist(residual.ravel(), 100, log=True)\n",
    "    ax[1].hist(fractional.ravel(), 100, log=True)\n",
    "#     ax[1].plot(fractional)\n",
    "    ax[1].set_title(\"Fractional residual mean:\\n{:.5}\".format(fractional.mean()))"
   ]
  },
  {
   "cell_type": "code",
   "execution_count": null,
   "metadata": {
    "collapsed": true
   },
   "outputs": [],
   "source": [
    "_, ax = subplots()\n",
    "frac_residuals = []\n",
    "for rank in range(1,10):\n",
    "    poly, residual, fractional = do_polyfit(rank, data_in, data_out)\n",
    "    frac_residuals.append(fractional.mean())\n",
    "ax.plot([-1, 0] + list(range(1,10)), [add_fractional_mean, mult_fractional_mean]+frac_residuals,\n",
    "       '*', ms=15)\n",
    "ax.set_title(\"Fractional residual over degree $n$ of polynomial fit\");"
   ]
  },
  {
   "cell_type": "markdown",
   "metadata": {},
   "source": [
    "This plot shows at what degree of polynomial fit the fractional residual mean value reaches a plateau. I added the  fractional residual mean values for the pure additive model at -1 x-axis and the pure multiplicative at x-axis 0."
   ]
  },
  {
   "cell_type": "markdown",
   "metadata": {},
   "source": [
    "# Filtering out hot pixels"
   ]
  },
  {
   "cell_type": "code",
   "execution_count": null,
   "metadata": {
    "collapsed": false
   },
   "outputs": [],
   "source": [
    "hist(data_in.ravel(), bins=100, log=True);"
   ]
  },
  {
   "cell_type": "markdown",
   "metadata": {},
   "source": [
    "Using 2500 as a cut-off:"
   ]
  },
  {
   "cell_type": "code",
   "execution_count": null,
   "metadata": {
    "collapsed": true
   },
   "outputs": [],
   "source": [
    "hot_d1_pixels = data_in > 2500"
   ]
  },
  {
   "cell_type": "code",
   "execution_count": null,
   "metadata": {
    "collapsed": false
   },
   "outputs": [],
   "source": [
    "filtered_in = data_in[~hot_d1_pixels]"
   ]
  },
  {
   "cell_type": "code",
   "execution_count": null,
   "metadata": {
    "collapsed": false
   },
   "outputs": [],
   "source": [
    "filtered_out = data_out[~hot_d1_pixels]"
   ]
  },
  {
   "cell_type": "code",
   "execution_count": null,
   "metadata": {
    "collapsed": false
   },
   "outputs": [],
   "source": [
    "plot(filtered_in)\n",
    "plot(data_in, alpha=0.5)"
   ]
  },
  {
   "cell_type": "code",
   "execution_count": null,
   "metadata": {
    "collapsed": false
   },
   "outputs": [],
   "source": [
    "plot(filtered_out)\n",
    "plot(data_out, alpha=0.5)"
   ]
  },
  {
   "cell_type": "code",
   "execution_count": null,
   "metadata": {
    "collapsed": false
   },
   "outputs": [],
   "source": [
    "def do_polyfit(rank, data_in, data_out):\n",
    "    z = np.polyfit(data_in, data_out, rank)\n",
    "    poly = np.poly1d(z)\n",
    "    residual = data_out - poly(data_in)\n",
    "    fractional = residual/data_out\n",
    "    return poly, residual, fractional\n",
    "\n",
    "for rank in range(1,4):\n",
    "    poly, residual, fractional = do_polyfit(rank, filtered_in, filtered_out)\n",
    "    fig, ax = subplots(ncols=2)\n",
    "    ax[0].set_title(\"Polynom: {}\".format(poly))\n",
    "    ax[0].hist(residual.ravel(), 100, log=True)\n",
    "    ax[1].hist(fractional, 100, log=True)\n",
    "    ax[1].set_title(\"Fractional residual mean:\\n{:.5}\".format(fractional.mean()))"
   ]
  },
  {
   "cell_type": "markdown",
   "metadata": {},
   "source": [
    "This does not seem to remove the left side asymmetry of the residual histogram."
   ]
  },
  {
   "cell_type": "code",
   "execution_count": null,
   "metadata": {
    "collapsed": false
   },
   "outputs": [],
   "source": [
    "dark_in = dark1.ravel()\n",
    "dark_out = dark2.ravel()\n",
    "coeffs = np.polyfit(dark_in, dark_out, 2)\n",
    "fitpoly = np.poly1d(coeffs)\n",
    "dark1_scaled = fitpoly(dark1)\n"
   ]
  },
  {
   "cell_type": "code",
   "execution_count": null,
   "metadata": {
    "collapsed": false
   },
   "outputs": [],
   "source": [
    "fig, axes = subplots(nrows=3)\n",
    "for dark,ax,label in zip([dark1, dark1_scaled, dark2], axes, \n",
    "                         'dark1 dark1_scaled dark2'.split()):\n",
    "    im = ax.imshow(dark, cmap='hot', vmax=3000)\n",
    "    colorbar(im, ax=ax, orientation='horizontal')\n",
    "    ax.set_title(label)"
   ]
  },
  {
   "cell_type": "code",
   "execution_count": null,
   "metadata": {
    "collapsed": false
   },
   "outputs": [],
   "source": [
    "imshow(dark2 - dark1_scaled, cmap='gray', vmin=-500, vmax=500)\n",
    "colorbar(orientation='horizontal')"
   ]
  },
  {
   "cell_type": "code",
   "execution_count": null,
   "metadata": {
    "collapsed": false
   },
   "outputs": [],
   "source": [
    "fig, axes = subplots(nrows=3)\n",
    "for ax, fitted in zip(axes[:3], fitted_darks):\n",
    "    im = ax.imshow(fitted)\n",
    "    colorbar(im, ax=ax, orientation='horizontal')"
   ]
  },
  {
   "cell_type": "markdown",
   "metadata": {},
   "source": [
    "# scatter plot"
   ]
  },
  {
   "cell_type": "code",
   "execution_count": null,
   "metadata": {
    "collapsed": false
   },
   "outputs": [],
   "source": [
    "from matplotlib.pyplot import scatter"
   ]
  },
  {
   "cell_type": "code",
   "execution_count": null,
   "metadata": {
    "collapsed": false
   },
   "outputs": [],
   "source": [
    "scatter(dark1, dark2)\n",
    "title('Original dark2 vs dark1')"
   ]
  },
  {
   "cell_type": "code",
   "execution_count": null,
   "metadata": {
    "collapsed": false
   },
   "outputs": [],
   "source": [
    "scatter(fitted_darks[1], dark2)\n",
    "title('Dark2 vs rank2 polynom scaled Dark1')"
   ]
  },
  {
   "cell_type": "code",
   "execution_count": null,
   "metadata": {
    "collapsed": false
   },
   "outputs": [],
   "source": [
    "scatter(fitted_darks[-1], dark2)\n",
    "title('Dark2 vs rank3 polynom scaled dark1')"
   ]
  },
  {
   "cell_type": "markdown",
   "metadata": {},
   "source": [
    "# scaling and fits file"
   ]
  },
  {
   "cell_type": "code",
   "execution_count": 16,
   "metadata": {
    "collapsed": false
   },
   "outputs": [],
   "source": [
    "d1 = dark1\n",
    "d2 = dark2"
   ]
  },
  {
   "cell_type": "code",
   "execution_count": 17,
   "metadata": {
    "collapsed": true
   },
   "outputs": [],
   "source": [
    "from iuvs import scaling"
   ]
  },
  {
   "cell_type": "code",
   "execution_count": 18,
   "metadata": {
    "collapsed": false
   },
   "outputs": [],
   "source": [
    "from astropy.io import fits"
   ]
  },
  {
   "cell_type": "code",
   "execution_count": 19,
   "metadata": {
    "collapsed": false
   },
   "outputs": [],
   "source": [
    "polymanager = scaling.PolyScalerManager(dark1, dark2, 1, 4)"
   ]
  },
  {
   "cell_type": "code",
   "execution_count": 20,
   "metadata": {
    "collapsed": false
   },
   "outputs": [],
   "source": [
    "darkwriter = io.DarkWriter('dark_fitting.fits', dark1, dark2, clobber=True)"
   ]
  },
  {
   "cell_type": "code",
   "execution_count": 21,
   "metadata": {
    "collapsed": false
   },
   "outputs": [],
   "source": [
    "addscaler = scaling.AddScaler(d1, d2)\n",
    "addscaler.do_fit()\n",
    "darkwriter.append_polyfitted(addscaler)\n",
    "\n",
    "multscaler = scaling.MultScaler(d1, d2)\n",
    "multscaler.do_fit()\n",
    "darkwriter.append_polyfitted(multscaler)"
   ]
  },
  {
   "cell_type": "code",
   "execution_count": 22,
   "metadata": {
    "collapsed": false
   },
   "outputs": [],
   "source": [
    "for scaler in polymanager.scalers:\n",
    "    darkwriter.append_polyfitted(scaler)"
   ]
  },
  {
   "cell_type": "code",
   "execution_count": 23,
   "metadata": {
    "collapsed": false
   },
   "outputs": [
    {
     "name": "stderr",
     "output_type": "stream",
     "text": [
      "WARNING: Overwriting existing file 'dark_fitting.fits'. [astropy.io.fits.file]\n",
      "WARNING:astropy:Overwriting existing file 'dark_fitting.fits'.\n"
     ]
    }
   ],
   "source": [
    "darkwriter.write()"
   ]
  },
  {
   "cell_type": "code",
   "execution_count": 24,
   "metadata": {
    "collapsed": false
   },
   "outputs": [
    {
     "name": "stdout",
     "output_type": "stream",
     "text": [
      "Filename: dark_fitting.fits\n",
      "No.    Name         Type      Cards   Dimensions   Format\n",
      "0    PRIMARY     PrimaryHDU       8   (341, 62)    int32   \n",
      "1    DARK2       ImageHDU         9   (341, 62)    int32   \n",
      "2    RANK-1      ImageHDU        16   (341, 62)    float64   \n",
      "3    RANK0       ImageHDU        16   (341, 62)    float64   \n",
      "4    RANK1       ImageHDU        16   (341, 62)    float64   \n",
      "5    RANK2       ImageHDU        16   (341, 62)    float64   \n",
      "6    RANK3       ImageHDU        16   (341, 62)    float64   \n",
      "7    RANK4       ImageHDU        16   (341, 62)    float64   \n"
     ]
    }
   ],
   "source": [
    "fits.info('dark_fitting.fits')"
   ]
  },
  {
   "cell_type": "code",
   "execution_count": 25,
   "metadata": {
    "collapsed": false
   },
   "outputs": [
    {
     "data": {
      "text/plain": [
       "XTENSION= 'IMAGE   '           / Image extension                                \n",
       "BITPIX  =                  -64 / array data type                                \n",
       "NAXIS   =                    2 / number of array dimensions                     \n",
       "NAXIS1  =                  341                                                  \n",
       "NAXIS2  =                   62                                                  \n",
       "PCOUNT  =                    0 / number of parameters                           \n",
       "GCOUNT  =                    1 / number of groups                               \n",
       "KIND    = 'fitted dark'        / The kind of image                              \n",
       "RANK    =                    0 / The degree of polynom used for the scaling.    \n",
       "COEFFS  = '[1.4510501785354721]'                                                \n",
       "STDDEV  =    91.49142342107493 / Standard deviation of residual                 \n",
       "EXTNAME = 'RANK0   '           / extension name                                 \n",
       "COMMENT The rank is '-1' for 'Additive' fitting, '0' is for 'Multiplicative' fit\n",
       "COMMENT ting without additive offset. For all ranks larger than 0 it is equivale\n",
       "COMMENT nt to the degree of the polynomial fit.                                 \n",
       "COMMENT The coefficients are listed highest rank first.                         "
      ]
     },
     "execution_count": 25,
     "metadata": {},
     "output_type": "execute_result"
    }
   ],
   "source": [
    "fits.getheader('dark_fitting.fits', 'rank0')"
   ]
  },
  {
   "cell_type": "code",
   "execution_count": 26,
   "metadata": {
    "collapsed": false
   },
   "outputs": [],
   "source": [
    "hdulist = fits.open('dark_fitting.fits')"
   ]
  },
  {
   "cell_type": "code",
   "execution_count": 27,
   "metadata": {
    "collapsed": false
   },
   "outputs": [
    {
     "data": {
      "text/plain": [
       "7.5966166581251248e-13"
      ]
     },
     "execution_count": 27,
     "metadata": {},
     "output_type": "execute_result"
    }
   ],
   "source": [
    "hdulist[4].data.mean()"
   ]
  },
  {
   "cell_type": "code",
   "execution_count": null,
   "metadata": {
    "collapsed": true
   },
   "outputs": [],
   "source": []
  }
 ],
 "metadata": {
  "kernelspec": {
   "display_name": "Python 3",
   "language": "python",
   "name": "python3"
  },
  "language_info": {
   "codemirror_mode": {
    "name": "ipython",
    "version": 3
   },
   "file_extension": ".py",
   "mimetype": "text/x-python",
   "name": "python",
   "nbconvert_exporter": "python",
   "pygments_lexer": "ipython3",
   "version": "3.4.2"
  }
 },
 "nbformat": 4,
 "nbformat_minor": 0
}
