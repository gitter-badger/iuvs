{
 "metadata": {
  "name": "",
  "signature": "sha256:4e951767ba10bb7e58befc67fb371e0699f976920e4a26ba678d2128f9a3f0db"
 },
 "nbformat": 3,
 "nbformat_minor": 0,
 "worksheets": [
  {
   "cells": [
    {
     "cell_type": "code",
     "collapsed": false,
     "input": [
      "from pathlib import Path"
     ],
     "language": "python",
     "metadata": {},
     "outputs": [],
     "prompt_number": 36
    },
    {
     "cell_type": "code",
     "collapsed": false,
     "input": [
      "root = Path('/maven_iuvs/stage/products/level1a')"
     ],
     "language": "python",
     "metadata": {},
     "outputs": [],
     "prompt_number": 37
    },
    {
     "cell_type": "code",
     "collapsed": false,
     "input": [
      "import glob\n",
      "fnames = glob.glob(str(root)+'/*.fits.gz')"
     ],
     "language": "python",
     "metadata": {},
     "outputs": [],
     "prompt_number": 40
    },
    {
     "cell_type": "code",
     "collapsed": false,
     "input": [
      "fnames[0]"
     ],
     "language": "python",
     "metadata": {},
     "outputs": [
      {
       "metadata": {},
       "output_type": "pyout",
       "prompt_number": 41,
       "text": [
        "'/maven_iuvs/stage/products/level1a/mvn_iuv_l1a_IPH2-cycle00095-mode040-fuv_20140524T234552_v00_r00.fits.gz'"
       ]
      }
     ],
     "prompt_number": 41
    },
    {
     "cell_type": "code",
     "collapsed": false,
     "input": [
      "len(fnames)"
     ],
     "language": "python",
     "metadata": {},
     "outputs": [
      {
       "metadata": {},
       "output_type": "pyout",
       "prompt_number": 42,
       "text": [
        "28872"
       ]
      }
     ],
     "prompt_number": 42
    },
    {
     "cell_type": "code",
     "collapsed": false,
     "input": [
      "import datetime as dt\n",
      "\n",
      "class IUVS_Filename:\n",
      "    def __init__(self, fname):\n",
      "        tokens = fname.split('_')\n",
      "        self.mission, self.instrument = tokens[:2]\n",
      "        self.level = tokens[2]\n",
      "        self.phase = tokens[3]\n",
      "        self.timestr, self.version = tokens[4:6]\n",
      "        self.revision = tokens[6].split('.')[0]\n",
      "        phasetokens = self.phase.split('-')\n",
      "        self.phase, self.cycle, self.mode, self.channel = phasetokens\n",
      "        self.time = dt.datetime.strptime(self.timestr,\n",
      "                                         '%Y%m%dT%H%M%S')"
     ],
     "language": "python",
     "metadata": {},
     "outputs": [],
     "prompt_number": 5
    },
    {
     "cell_type": "code",
     "collapsed": false,
     "input": [
      "iuvs_fnames = []\n",
      "exceptions = []\n",
      "for fname in fnames:\n",
      "    try:\n",
      "        iuvs_fnames.append(IUVS_Filename(fname))\n",
      "    except Exception as e:\n",
      "        exceptions.append(fname)\n",
      "        continue"
     ],
     "language": "python",
     "metadata": {},
     "outputs": [],
     "prompt_number": 6
    },
    {
     "cell_type": "code",
     "collapsed": false,
     "input": [
      "import pandas as pd"
     ],
     "language": "python",
     "metadata": {},
     "outputs": [],
     "prompt_number": 7
    },
    {
     "cell_type": "code",
     "collapsed": false,
     "input": [
      "s = pd.Series(iuvs_fnames)"
     ],
     "language": "python",
     "metadata": {},
     "outputs": [],
     "prompt_number": 8
    },
    {
     "cell_type": "code",
     "collapsed": false,
     "input": [
      "df = pd.DataFrame()"
     ],
     "language": "python",
     "metadata": {},
     "outputs": [],
     "prompt_number": 9
    },
    {
     "cell_type": "code",
     "collapsed": false,
     "input": [
      "for item in ['phase', 'cycle', 'mode', 'channel', 'time', 'level', 'version', 'revision']:\n",
      "    df[item] = s.map(lambda x: getattr(x, item))"
     ],
     "language": "python",
     "metadata": {},
     "outputs": [],
     "prompt_number": 10
    },
    {
     "cell_type": "code",
     "collapsed": false,
     "input": [
      "df['channel']=df.channel.astype('category')"
     ],
     "language": "python",
     "metadata": {},
     "outputs": [],
     "prompt_number": 11
    },
    {
     "cell_type": "code",
     "collapsed": false,
     "input": [
      "df.dtypes"
     ],
     "language": "python",
     "metadata": {},
     "outputs": [
      {
       "metadata": {},
       "output_type": "pyout",
       "prompt_number": 12,
       "text": [
        "phase               object\n",
        "cycle               object\n",
        "mode                object\n",
        "channel           category\n",
        "time        datetime64[ns]\n",
        "level               object\n",
        "version             object\n",
        "revision            object\n",
        "dtype: object"
       ]
      }
     ],
     "prompt_number": 12
    },
    {
     "cell_type": "code",
     "collapsed": false,
     "input": [
      "df.head()"
     ],
     "language": "python",
     "metadata": {},
     "outputs": [
      {
       "html": [
        "<div style=\"max-height:1000px;max-width:1500px;overflow:auto;\">\n",
        "<table border=\"1\" class=\"dataframe\">\n",
        "  <thead>\n",
        "    <tr style=\"text-align: right;\">\n",
        "      <th></th>\n",
        "      <th>phase</th>\n",
        "      <th>cycle</th>\n",
        "      <th>mode</th>\n",
        "      <th>channel</th>\n",
        "      <th>time</th>\n",
        "      <th>level</th>\n",
        "      <th>version</th>\n",
        "      <th>revision</th>\n",
        "    </tr>\n",
        "  </thead>\n",
        "  <tbody>\n",
        "    <tr>\n",
        "      <th>0</th>\n",
        "      <td>     IPH2</td>\n",
        "      <td> cycle00095</td>\n",
        "      <td>  mode040</td>\n",
        "      <td> fuv</td>\n",
        "      <td>2014-05-24 23:45:52</td>\n",
        "      <td> l1a</td>\n",
        "      <td> v00</td>\n",
        "      <td> r00</td>\n",
        "    </tr>\n",
        "    <tr>\n",
        "      <th>1</th>\n",
        "      <td>     IPH2</td>\n",
        "      <td> cycle00012</td>\n",
        "      <td>  mode031</td>\n",
        "      <td> fuv</td>\n",
        "      <td>2014-04-22 16:22:45</td>\n",
        "      <td> l1a</td>\n",
        "      <td> v00</td>\n",
        "      <td> r00</td>\n",
        "    </tr>\n",
        "    <tr>\n",
        "      <th>2</th>\n",
        "      <td> periapse</td>\n",
        "      <td> orbit00111</td>\n",
        "      <td> mode0001</td>\n",
        "      <td> muv</td>\n",
        "      <td>2014-10-19 01:21:49</td>\n",
        "      <td> l1a</td>\n",
        "      <td> v00</td>\n",
        "      <td> r00</td>\n",
        "    </tr>\n",
        "    <tr>\n",
        "      <th>3</th>\n",
        "      <td>     IPH2</td>\n",
        "      <td> cycle00118</td>\n",
        "      <td>  mode040</td>\n",
        "      <td> muv</td>\n",
        "      <td>2014-06-01 15:46:39</td>\n",
        "      <td> l1a</td>\n",
        "      <td> v00</td>\n",
        "      <td> r00</td>\n",
        "    </tr>\n",
        "    <tr>\n",
        "      <th>4</th>\n",
        "      <td>     IPH2</td>\n",
        "      <td> cycle00027</td>\n",
        "      <td>  mode031</td>\n",
        "      <td> muv</td>\n",
        "      <td>2014-04-27 16:23:15</td>\n",
        "      <td> l1a</td>\n",
        "      <td> v00</td>\n",
        "      <td> r00</td>\n",
        "    </tr>\n",
        "  </tbody>\n",
        "</table>\n",
        "</div>"
       ],
       "metadata": {},
       "output_type": "pyout",
       "prompt_number": 13,
       "text": [
        "      phase       cycle      mode channel                time level version  \\\n",
        "0      IPH2  cycle00095   mode040     fuv 2014-05-24 23:45:52   l1a     v00   \n",
        "1      IPH2  cycle00012   mode031     fuv 2014-04-22 16:22:45   l1a     v00   \n",
        "2  periapse  orbit00111  mode0001     muv 2014-10-19 01:21:49   l1a     v00   \n",
        "3      IPH2  cycle00118   mode040     muv 2014-06-01 15:46:39   l1a     v00   \n",
        "4      IPH2  cycle00027   mode031     muv 2014-04-27 16:23:15   l1a     v00   \n",
        "\n",
        "  revision  \n",
        "0      r00  \n",
        "1      r00  \n",
        "2      r00  \n",
        "3      r00  \n",
        "4      r00  "
       ]
      }
     ],
     "prompt_number": 13
    },
    {
     "cell_type": "code",
     "collapsed": false,
     "input": [
      "df.channel.value_counts()"
     ],
     "language": "python",
     "metadata": {},
     "outputs": [
      {
       "metadata": {},
       "output_type": "pyout",
       "prompt_number": 14,
       "text": [
        "fuv        8199\n",
        "muv        7728\n",
        "fuvdark    3808\n",
        "muvdark    3433\n",
        "echdark    1529\n",
        "ech         790\n",
        "dtype: int64"
       ]
      }
     ],
     "prompt_number": 14
    },
    {
     "cell_type": "code",
     "collapsed": false,
     "input": [
      "d = {'muv':1, 'muvdark':2, 'fuv':3, 'fuvdark':4, 'ech':5, 'echdark':6}\n",
      "df['channel_int'] = df.channel.map(d)"
     ],
     "language": "python",
     "metadata": {},
     "outputs": [],
     "prompt_number": 20
    },
    {
     "cell_type": "code",
     "collapsed": false,
     "input": [
      "df.describe()"
     ],
     "language": "python",
     "metadata": {},
     "outputs": [
      {
       "html": [
        "<div style=\"max-height:1000px;max-width:1500px;overflow:auto;\">\n",
        "<table border=\"1\" class=\"dataframe\">\n",
        "  <thead>\n",
        "    <tr style=\"text-align: right;\">\n",
        "      <th></th>\n",
        "      <th>phase</th>\n",
        "      <th>cycle</th>\n",
        "      <th>mode</th>\n",
        "      <th>channel</th>\n",
        "      <th>time</th>\n",
        "      <th>level</th>\n",
        "      <th>version</th>\n",
        "      <th>revision</th>\n",
        "    </tr>\n",
        "  </thead>\n",
        "  <tbody>\n",
        "    <tr>\n",
        "      <th>count</th>\n",
        "      <td> 25487</td>\n",
        "      <td>      25487</td>\n",
        "      <td>   25487</td>\n",
        "      <td> 25487</td>\n",
        "      <td>               25487</td>\n",
        "      <td> 25487</td>\n",
        "      <td> 25487</td>\n",
        "      <td> 25487</td>\n",
        "    </tr>\n",
        "    <tr>\n",
        "      <th>unique</th>\n",
        "      <td>    14</td>\n",
        "      <td>        252</td>\n",
        "      <td>      82</td>\n",
        "      <td>     6</td>\n",
        "      <td>               14476</td>\n",
        "      <td>     1</td>\n",
        "      <td>     1</td>\n",
        "      <td>     1</td>\n",
        "    </tr>\n",
        "    <tr>\n",
        "      <th>top</th>\n",
        "      <td>  IPH2</td>\n",
        "      <td> orbit00002</td>\n",
        "      <td> mode020</td>\n",
        "      <td>   fuv</td>\n",
        "      <td> 2014-06-27 15:27:14</td>\n",
        "      <td>   l1a</td>\n",
        "      <td>   v00</td>\n",
        "      <td>   r00</td>\n",
        "    </tr>\n",
        "    <tr>\n",
        "      <th>freq</th>\n",
        "      <td> 14291</td>\n",
        "      <td>       1177</td>\n",
        "      <td>    5600</td>\n",
        "      <td>  8199</td>\n",
        "      <td>                   2</td>\n",
        "      <td> 25487</td>\n",
        "      <td> 25487</td>\n",
        "      <td> 25487</td>\n",
        "    </tr>\n",
        "    <tr>\n",
        "      <th>first</th>\n",
        "      <td>   NaN</td>\n",
        "      <td>        NaN</td>\n",
        "      <td>     NaN</td>\n",
        "      <td>   NaN</td>\n",
        "      <td> 2013-12-11 21:02:18</td>\n",
        "      <td>   NaN</td>\n",
        "      <td>   NaN</td>\n",
        "      <td>   NaN</td>\n",
        "    </tr>\n",
        "    <tr>\n",
        "      <th>last</th>\n",
        "      <td>   NaN</td>\n",
        "      <td>        NaN</td>\n",
        "      <td>     NaN</td>\n",
        "      <td>   NaN</td>\n",
        "      <td> 2014-11-16 05:26:28</td>\n",
        "      <td>   NaN</td>\n",
        "      <td>   NaN</td>\n",
        "      <td>   NaN</td>\n",
        "    </tr>\n",
        "  </tbody>\n",
        "</table>\n",
        "</div>"
       ],
       "metadata": {},
       "output_type": "pyout",
       "prompt_number": 15,
       "text": [
        "        phase       cycle     mode channel                 time  level  \\\n",
        "count   25487       25487    25487   25487                25487  25487   \n",
        "unique     14         252       82       6                14476      1   \n",
        "top      IPH2  orbit00002  mode020     fuv  2014-06-27 15:27:14    l1a   \n",
        "freq    14291        1177     5600    8199                    2  25487   \n",
        "first     NaN         NaN      NaN     NaN  2013-12-11 21:02:18    NaN   \n",
        "last      NaN         NaN      NaN     NaN  2014-11-16 05:26:28    NaN   \n",
        "\n",
        "       version revision  \n",
        "count    25487    25487  \n",
        "unique       1        1  \n",
        "top        v00      r00  \n",
        "freq     25487    25487  \n",
        "first      NaN      NaN  \n",
        "last       NaN      NaN  "
       ]
      }
     ],
     "prompt_number": 15
    },
    {
     "cell_type": "code",
     "collapsed": false,
     "input": [
      "df.phase.value_counts()"
     ],
     "language": "python",
     "metadata": {},
     "outputs": [
      {
       "metadata": {},
       "output_type": "pyout",
       "prompt_number": 16,
       "text": [
        "IPH2        14291\n",
        "IPH1         3023\n",
        "early        2861\n",
        "IPH3         1000\n",
        "apoapse       960\n",
        "ISON2         691\n",
        "periapse      640\n",
        "APP2          576\n",
        "ISON1         520\n",
        "outbound      440\n",
        "APP1          257\n",
        "APP1A         112\n",
        "inbound        60\n",
        "comet          56\n",
        "dtype: int64"
       ]
      }
     ],
     "prompt_number": 16
    },
    {
     "cell_type": "code",
     "collapsed": false,
     "input": [
      "df.set_index('time', inplace=True)\n",
      "df.sort_index(inplace=True)"
     ],
     "language": "python",
     "metadata": {},
     "outputs": [],
     "prompt_number": 22
    },
    {
     "cell_type": "code",
     "collapsed": false,
     "input": [
      "df.head()"
     ],
     "language": "python",
     "metadata": {},
     "outputs": [
      {
       "html": [
        "<div style=\"max-height:1000px;max-width:1500px;overflow:auto;\">\n",
        "<table border=\"1\" class=\"dataframe\">\n",
        "  <thead>\n",
        "    <tr style=\"text-align: right;\">\n",
        "      <th></th>\n",
        "      <th>phase</th>\n",
        "      <th>cycle</th>\n",
        "      <th>mode</th>\n",
        "      <th>channel</th>\n",
        "      <th>level</th>\n",
        "      <th>version</th>\n",
        "      <th>revision</th>\n",
        "      <th>channel_int</th>\n",
        "    </tr>\n",
        "    <tr>\n",
        "      <th>time</th>\n",
        "      <th></th>\n",
        "      <th></th>\n",
        "      <th></th>\n",
        "      <th></th>\n",
        "      <th></th>\n",
        "      <th></th>\n",
        "      <th></th>\n",
        "      <th></th>\n",
        "    </tr>\n",
        "  </thead>\n",
        "  <tbody>\n",
        "    <tr>\n",
        "      <th>2013-12-11 21:02:18</th>\n",
        "      <td> ISON1</td>\n",
        "      <td> cycle01</td>\n",
        "      <td> mode01</td>\n",
        "      <td> fuvdark</td>\n",
        "      <td> l1a</td>\n",
        "      <td> v00</td>\n",
        "      <td> r00</td>\n",
        "      <td> 4</td>\n",
        "    </tr>\n",
        "    <tr>\n",
        "      <th>2013-12-11 21:03:22</th>\n",
        "      <td> ISON1</td>\n",
        "      <td> cycle01</td>\n",
        "      <td> mode01</td>\n",
        "      <td>     fuv</td>\n",
        "      <td> l1a</td>\n",
        "      <td> v00</td>\n",
        "      <td> r00</td>\n",
        "      <td> 3</td>\n",
        "    </tr>\n",
        "    <tr>\n",
        "      <th>2013-12-11 21:40:02</th>\n",
        "      <td> ISON1</td>\n",
        "      <td> cycle01</td>\n",
        "      <td> mode01</td>\n",
        "      <td> fuvdark</td>\n",
        "      <td> l1a</td>\n",
        "      <td> v00</td>\n",
        "      <td> r00</td>\n",
        "      <td> 4</td>\n",
        "    </tr>\n",
        "    <tr>\n",
        "      <th>2013-12-11 21:41:08</th>\n",
        "      <td> ISON1</td>\n",
        "      <td> cycle01</td>\n",
        "      <td> mode01</td>\n",
        "      <td>     fuv</td>\n",
        "      <td> l1a</td>\n",
        "      <td> v00</td>\n",
        "      <td> r00</td>\n",
        "      <td> 3</td>\n",
        "    </tr>\n",
        "    <tr>\n",
        "      <th>2013-12-11 22:17:49</th>\n",
        "      <td> ISON1</td>\n",
        "      <td> cycle01</td>\n",
        "      <td> mode01</td>\n",
        "      <td> fuvdark</td>\n",
        "      <td> l1a</td>\n",
        "      <td> v00</td>\n",
        "      <td> r00</td>\n",
        "      <td> 4</td>\n",
        "    </tr>\n",
        "  </tbody>\n",
        "</table>\n",
        "</div>"
       ],
       "metadata": {},
       "output_type": "pyout",
       "prompt_number": 23,
       "text": [
        "                     phase    cycle    mode  channel level version revision  \\\n",
        "time                                                                          \n",
        "2013-12-11 21:02:18  ISON1  cycle01  mode01  fuvdark   l1a     v00      r00   \n",
        "2013-12-11 21:03:22  ISON1  cycle01  mode01      fuv   l1a     v00      r00   \n",
        "2013-12-11 21:40:02  ISON1  cycle01  mode01  fuvdark   l1a     v00      r00   \n",
        "2013-12-11 21:41:08  ISON1  cycle01  mode01      fuv   l1a     v00      r00   \n",
        "2013-12-11 22:17:49  ISON1  cycle01  mode01  fuvdark   l1a     v00      r00   \n",
        "\n",
        "                     channel_int  \n",
        "time                              \n",
        "2013-12-11 21:02:18            4  \n",
        "2013-12-11 21:03:22            3  \n",
        "2013-12-11 21:40:02            4  \n",
        "2013-12-11 21:41:08            3  \n",
        "2013-12-11 22:17:49            4  "
       ]
      }
     ],
     "prompt_number": 23
    },
    {
     "cell_type": "code",
     "collapsed": false,
     "input": [
      "%matplotlib qt"
     ],
     "language": "python",
     "metadata": {},
     "outputs": [],
     "prompt_number": 25
    },
    {
     "cell_type": "code",
     "collapsed": false,
     "input": [
      "fig, ax = plt.subplots()\n",
      "df.channel_int.plot(style='*',ax=ax)\n",
      "ax.set_ylim(ymin=0)"
     ],
     "language": "python",
     "metadata": {},
     "outputs": [
      {
       "metadata": {},
       "output_type": "pyout",
       "prompt_number": 28,
       "text": [
        "(0, 6.0)"
       ]
      }
     ],
     "prompt_number": 28
    },
    {
     "cell_type": "code",
     "collapsed": false,
     "input": [
      "df.groupby([df.index]).size().value_counts()"
     ],
     "language": "python",
     "metadata": {},
     "outputs": [
      {
       "metadata": {},
       "output_type": "pyout",
       "prompt_number": 20,
       "text": [
        "2    11011\n",
        "1     3465\n",
        "dtype: int64"
       ]
      }
     ],
     "prompt_number": 20
    },
    {
     "cell_type": "code",
     "collapsed": false,
     "input": [
      "df['2014-06-27 15:27:14']"
     ],
     "language": "python",
     "metadata": {},
     "outputs": [
      {
       "html": [
        "<div style=\"max-height:1000px;max-width:1500px;overflow:auto;\">\n",
        "<table border=\"1\" class=\"dataframe\">\n",
        "  <thead>\n",
        "    <tr style=\"text-align: right;\">\n",
        "      <th></th>\n",
        "      <th>phase</th>\n",
        "      <th>cycle</th>\n",
        "      <th>mode</th>\n",
        "      <th>channel</th>\n",
        "      <th>level</th>\n",
        "      <th>version</th>\n",
        "      <th>revision</th>\n",
        "    </tr>\n",
        "    <tr>\n",
        "      <th>time</th>\n",
        "      <th></th>\n",
        "      <th></th>\n",
        "      <th></th>\n",
        "      <th></th>\n",
        "      <th></th>\n",
        "      <th></th>\n",
        "      <th></th>\n",
        "    </tr>\n",
        "  </thead>\n",
        "  <tbody>\n",
        "    <tr>\n",
        "      <th>2014-06-27 15:27:14</th>\n",
        "      <td> IPH2</td>\n",
        "      <td> cycle00196</td>\n",
        "      <td> mode031</td>\n",
        "      <td> fuv</td>\n",
        "      <td> l1a</td>\n",
        "      <td> v00</td>\n",
        "      <td> r00</td>\n",
        "    </tr>\n",
        "    <tr>\n",
        "      <th>2014-06-27 15:27:14</th>\n",
        "      <td> IPH2</td>\n",
        "      <td> cycle00196</td>\n",
        "      <td> mode031</td>\n",
        "      <td> muv</td>\n",
        "      <td> l1a</td>\n",
        "      <td> v00</td>\n",
        "      <td> r00</td>\n",
        "    </tr>\n",
        "  </tbody>\n",
        "</table>\n",
        "</div>"
       ],
       "metadata": {},
       "output_type": "pyout",
       "prompt_number": 21,
       "text": [
        "                    phase       cycle     mode channel level version revision\n",
        "time                                                                         \n",
        "2014-06-27 15:27:14  IPH2  cycle00196  mode031     fuv   l1a     v00      r00\n",
        "2014-06-27 15:27:14  IPH2  cycle00196  mode031     muv   l1a     v00      r00"
       ]
      }
     ],
     "prompt_number": 21
    },
    {
     "cell_type": "code",
     "collapsed": false,
     "input": [
      "doubles = !ls {root}/*IPH2-cycle00196*mode031*20140627T152714*"
     ],
     "language": "python",
     "metadata": {},
     "outputs": [],
     "prompt_number": 69
    },
    {
     "cell_type": "code",
     "collapsed": false,
     "input": [
      "plt.style.use('ggplot')"
     ],
     "language": "python",
     "metadata": {},
     "outputs": [],
     "prompt_number": 26
    },
    {
     "cell_type": "code",
     "collapsed": false,
     "input": [
      "plot_img_data(doubles[0])"
     ],
     "language": "python",
     "metadata": {},
     "outputs": [
      {
       "metadata": {},
       "output_type": "pyout",
       "prompt_number": 27,
       "text": [
        "<matplotlib.axes._subplots.AxesSubplot at 0x7fbecc6f4be0>"
       ]
      },
      {
       "metadata": {},
       "output_type": "display_data",
       "png": "[encoded data removed]",
       "text": [
        "<matplotlib.figure.Figure at 0x7fbecc6f4780>"
       ]
      }
     ],
     "prompt_number": 27
    },
    {
     "cell_type": "code",
     "collapsed": false,
     "input": [
      "import datetime as dt\n",
      "from astropy.io import fits\n",
      "import gzip\n",
      "import matplotlib.pyplot as plt\n",
      "import os\n",
      "\n",
      "class IUVS_Filename:\n",
      "    def __init__(self, fname):\n",
      "        tokens = fname.split('_')\n",
      "        self.mission, self.instrument = tokens[:2]\n",
      "        self.level = tokens[2]\n",
      "        self.phase = tokens[3]\n",
      "        self.timestr, self.version = tokens[4:6]\n",
      "        self.revision = tokens[6].split('.')[0]\n",
      "        phasetokens = self.phase.split('-')\n",
      "        self.phase, self.cycle, self.mode, self.channel = phasetokens\n",
      "        self.time = dt.datetime.strptime(self.timestr,\n",
      "                                         '%Y%m%dT%H%M%S')\n",
      "\n",
      "\n",
      "class FitsBinTable:\n",
      "    def __init__(self, hdu):\n",
      "        self.header = hdu.header\n",
      "        self.data = pd.DataFrame(hdu.data).T\n",
      "        \n",
      "class IUVSReader:\n",
      "    \"\"\"For Level1a\"\"\"\n",
      "    def __init__(self, fname):\n",
      "        infile = gzip.open(fname, 'rb')\n",
      "        self.fname = os.path.basename(fname)\n",
      "        self.hdulist = fits.open(infile)\n",
      "        self.integration = FitsBinTable(self.hdulist[1])\n",
      "        self.engineering = FitsBinTable(self.hdulist[2])\n",
      "        self.binning = self.hdulist[3]\n",
      "        self.pixelgeo = self.hdulist[4]\n",
      "        self.spacecraftgeo = self.hdulist[5]\n",
      "        self.observation = self.hdulist[6]\n",
      "        \n",
      "    @property\n",
      "    def img_header(self):\n",
      "        imgdata = self.hdulist[0]\n",
      "        return imgdata.header\n",
      "\n",
      "    @property\n",
      "    def img(self):\n",
      "        return self.hdulist[0].data\n",
      "\n",
      "    @property\n",
      "    def capture(self):\n",
      "        string = self.img_header['CAPTURE']\n",
      "        import datetime as dt\n",
      "        cleaned = string[:-3]+'0'\n",
      "        time = dt.datetime.strptime(cleaned, '%Y/%j %b %d %H:%M:%S.%f')\n",
      "        return time\n",
      "\n",
      "    def plot_img_data(self):\n",
      "        time = parse_capture(self.img_header['CAPTURE'])\n",
      "        fig, ax = plt.subplots()#figsize=(8, 6))\n",
      "        ax.imshow(self.img)\n",
      "        ax.set_title(\"{xuv}, {time}\".format(time=time.isoformat(),\n",
      "                                            xuv=self.img_header['XUV']))\n",
      "        return ax\n",
      "\n",
      "\n"
     ],
     "language": "python",
     "metadata": {},
     "outputs": [],
     "prompt_number": 156
    },
    {
     "cell_type": "code",
     "collapsed": false,
     "input": [
      "ds = IUVSReader(doubles[0])"
     ],
     "language": "python",
     "metadata": {},
     "outputs": [],
     "prompt_number": 86
    },
    {
     "cell_type": "code",
     "collapsed": false,
     "input": [
      "all_headers = open('all_headers.txt', 'w')\n",
      "for i, hdu in enumerate(ds.hdulist):\n",
      "    all_headers.write('----HDU: {0} \\n\\r'.format(i))\n",
      "    all_headers.write(repr(hdu.header))\n",
      "    all_headers.write('\\n\\r')\n",
      "all_headers.close()"
     ],
     "language": "python",
     "metadata": {},
     "outputs": [],
     "prompt_number": 118
    },
    {
     "cell_type": "code",
     "collapsed": false,
     "input": [
      "ds.img_header['MIR_DEG']"
     ],
     "language": "python",
     "metadata": {},
     "outputs": [
      {
       "metadata": {},
       "output_type": "pyout",
       "prompt_number": 119,
       "text": [
        "45.0"
       ]
      }
     ],
     "prompt_number": 119
    },
    {
     "cell_type": "code",
     "collapsed": false,
     "input": [
      "ds.integration.data"
     ],
     "language": "python",
     "metadata": {},
     "outputs": [
      {
       "html": [
        "<div style=\"max-height:1000px;max-width:1500px;overflow:auto;\">\n",
        "<table border=\"1\" class=\"dataframe\">\n",
        "  <thead>\n",
        "    <tr style=\"text-align: right;\">\n",
        "      <th></th>\n",
        "      <th>0</th>\n",
        "    </tr>\n",
        "  </thead>\n",
        "  <tbody>\n",
        "    <tr>\n",
        "      <th>TIMESTAMP</th>\n",
        "      <td>                      4.571548e+08</td>\n",
        "    </tr>\n",
        "    <tr>\n",
        "      <th>ET</th>\n",
        "      <td>                      4.571549e+08</td>\n",
        "    </tr>\n",
        "    <tr>\n",
        "      <th>UTC</th>\n",
        "      <td> 2014/178 Jun 27 15:27:14.55413UTC</td>\n",
        "    </tr>\n",
        "    <tr>\n",
        "      <th>MIRROR_DN</th>\n",
        "      <td>                             29322</td>\n",
        "    </tr>\n",
        "    <tr>\n",
        "      <th>MIRROR_DEG</th>\n",
        "      <td>                          44.99725</td>\n",
        "    </tr>\n",
        "    <tr>\n",
        "      <th>FOV_DEG</th>\n",
        "      <td>                          89.99451</td>\n",
        "    </tr>\n",
        "    <tr>\n",
        "      <th>LYA_CENTROID</th>\n",
        "      <td>                             65535</td>\n",
        "    </tr>\n",
        "  </tbody>\n",
        "</table>\n",
        "</div>"
       ],
       "metadata": {},
       "output_type": "pyout",
       "prompt_number": 120,
       "text": [
        "                                              0\n",
        "TIMESTAMP                          4.571548e+08\n",
        "ET                                 4.571549e+08\n",
        "UTC           2014/178 Jun 27 15:27:14.55413UTC\n",
        "MIRROR_DN                                 29322\n",
        "MIRROR_DEG                             44.99725\n",
        "FOV_DEG                                89.99451\n",
        "LYA_CENTROID                              65535"
       ]
      }
     ],
     "prompt_number": 120
    },
    {
     "cell_type": "code",
     "collapsed": false,
     "input": [
      "import glob\n",
      "fnames = glob.glob(root+'/*.fits.gz')"
     ],
     "language": "python",
     "metadata": {},
     "outputs": [],
     "prompt_number": 126
    },
    {
     "cell_type": "code",
     "collapsed": false,
     "input": [
      "from IPython import parallel\n",
      "rc = parallel.Client()"
     ],
     "language": "python",
     "metadata": {},
     "outputs": [],
     "prompt_number": 132
    },
    {
     "cell_type": "code",
     "collapsed": false,
     "input": [
      "dview = rc.direct_view()"
     ],
     "language": "python",
     "metadata": {},
     "outputs": [],
     "prompt_number": 133
    },
    {
     "cell_type": "code",
     "collapsed": false,
     "input": [
      "lview = rc.load_balanced_view()"
     ],
     "language": "python",
     "metadata": {},
     "outputs": [],
     "prompt_number": 134
    },
    {
     "cell_type": "code",
     "collapsed": false,
     "input": [
      "%%px \n",
      "key_errors=[]\n",
      "results = []"
     ],
     "language": "python",
     "metadata": {},
     "outputs": [],
     "prompt_number": 140
    },
    {
     "cell_type": "code",
     "collapsed": false,
     "input": [
      "def find_big_deltas(fname):\n",
      "    fitsdata = IUVSReader(fname)\n",
      "    mir_deg1 = fitsdata.img_header['MIR_DEG']\n",
      "    mir_deg2 = fitsdata.integration.data.get_value('MIRROR_DEG', 0)\n",
      "    return mir_deg1/mir_deg2"
     ],
     "language": "python",
     "metadata": {},
     "outputs": [],
     "prompt_number": 188
    },
    {
     "cell_type": "code",
     "collapsed": false,
     "input": [
      "ratios = []\n",
      "n = 100\n",
      "for i,fname in enumerate(fnames[:n]):\n",
      "    print(i/n)\n",
      "    ratio = find_big_deltas(fname)\n",
      "    if abs(ratio) > 2:\n",
      "        print(fname)\n",
      "    ratios.append(ratio)"
     ],
     "language": "python",
     "metadata": {},
     "outputs": [
      {
       "output_type": "stream",
       "stream": "stdout",
       "text": [
        "0.0\n",
        "0.01"
       ]
      },
      {
       "output_type": "stream",
       "stream": "stdout",
       "text": [
        "\n",
        "0.02"
       ]
      },
      {
       "output_type": "stream",
       "stream": "stdout",
       "text": [
        "\n",
        "0.03"
       ]
      },
      {
       "output_type": "stream",
       "stream": "stdout",
       "text": [
        "\n",
        "0.04"
       ]
      },
      {
       "output_type": "stream",
       "stream": "stdout",
       "text": [
        "\n",
        "0.05"
       ]
      },
      {
       "output_type": "stream",
       "stream": "stdout",
       "text": [
        "\n",
        "0.06"
       ]
      },
      {
       "output_type": "stream",
       "stream": "stdout",
       "text": [
        "\n",
        "0.07"
       ]
      },
      {
       "output_type": "stream",
       "stream": "stdout",
       "text": [
        "\n",
        "0.08"
       ]
      },
      {
       "output_type": "stream",
       "stream": "stdout",
       "text": [
        "\n",
        "0.09"
       ]
      },
      {
       "output_type": "stream",
       "stream": "stdout",
       "text": [
        "\n",
        "0.1"
       ]
      },
      {
       "output_type": "stream",
       "stream": "stdout",
       "text": [
        "\n",
        "0.11"
       ]
      },
      {
       "output_type": "stream",
       "stream": "stdout",
       "text": [
        "\n",
        "0.12"
       ]
      },
      {
       "output_type": "stream",
       "stream": "stdout",
       "text": [
        "\n",
        "0.13"
       ]
      },
      {
       "output_type": "stream",
       "stream": "stdout",
       "text": [
        "\n",
        "0.14"
       ]
      },
      {
       "output_type": "stream",
       "stream": "stdout",
       "text": [
        "\n",
        "0.15"
       ]
      },
      {
       "output_type": "stream",
       "stream": "stdout",
       "text": [
        "\n",
        "0.16"
       ]
      },
      {
       "output_type": "stream",
       "stream": "stdout",
       "text": [
        "\n",
        "0.17"
       ]
      },
      {
       "output_type": "stream",
       "stream": "stdout",
       "text": [
        "\n",
        "0.18"
       ]
      },
      {
       "output_type": "stream",
       "stream": "stdout",
       "text": [
        "\n",
        "0.19"
       ]
      },
      {
       "output_type": "stream",
       "stream": "stdout",
       "text": [
        "\n",
        "0.2"
       ]
      },
      {
       "output_type": "stream",
       "stream": "stdout",
       "text": [
        "\n",
        "0.21"
       ]
      },
      {
       "output_type": "stream",
       "stream": "stdout",
       "text": [
        "\n",
        "0.22"
       ]
      },
      {
       "output_type": "stream",
       "stream": "stdout",
       "text": [
        "\n",
        "0.23"
       ]
      },
      {
       "output_type": "stream",
       "stream": "stdout",
       "text": [
        "\n",
        "0.24"
       ]
      },
      {
       "output_type": "stream",
       "stream": "stdout",
       "text": [
        "\n",
        "0.25"
       ]
      },
      {
       "output_type": "stream",
       "stream": "stdout",
       "text": [
        "\n",
        "0.26"
       ]
      },
      {
       "output_type": "stream",
       "stream": "stdout",
       "text": [
        "\n",
        "0.27"
       ]
      },
      {
       "output_type": "stream",
       "stream": "stdout",
       "text": [
        "\n",
        "0.28"
       ]
      },
      {
       "output_type": "stream",
       "stream": "stdout",
       "text": [
        "\n",
        "0.29"
       ]
      },
      {
       "output_type": "stream",
       "stream": "stdout",
       "text": [
        "\n",
        "0.3"
       ]
      },
      {
       "output_type": "stream",
       "stream": "stdout",
       "text": [
        "\n",
        "0.31"
       ]
      },
      {
       "output_type": "stream",
       "stream": "stdout",
       "text": [
        "\n",
        "0.32"
       ]
      },
      {
       "output_type": "stream",
       "stream": "stdout",
       "text": [
        "\n",
        "0.33"
       ]
      },
      {
       "output_type": "stream",
       "stream": "stdout",
       "text": [
        "\n",
        "0.34"
       ]
      },
      {
       "output_type": "stream",
       "stream": "stdout",
       "text": [
        "\n",
        "0.35"
       ]
      },
      {
       "output_type": "stream",
       "stream": "stdout",
       "text": [
        "\n",
        "0.36"
       ]
      },
      {
       "output_type": "stream",
       "stream": "stdout",
       "text": [
        "\n",
        "0.37"
       ]
      },
      {
       "output_type": "stream",
       "stream": "stdout",
       "text": [
        "\n",
        "0.38"
       ]
      },
      {
       "output_type": "stream",
       "stream": "stdout",
       "text": [
        "\n",
        "0.39"
       ]
      },
      {
       "output_type": "stream",
       "stream": "stdout",
       "text": [
        "\n",
        "0.4"
       ]
      },
      {
       "output_type": "stream",
       "stream": "stdout",
       "text": [
        "\n",
        "0.41"
       ]
      },
      {
       "output_type": "stream",
       "stream": "stdout",
       "text": [
        "\n",
        "0.42"
       ]
      },
      {
       "output_type": "stream",
       "stream": "stdout",
       "text": [
        "\n",
        "0.43"
       ]
      },
      {
       "output_type": "stream",
       "stream": "stdout",
       "text": [
        "\n",
        "0.44"
       ]
      },
      {
       "output_type": "stream",
       "stream": "stdout",
       "text": [
        "\n",
        "0.45"
       ]
      },
      {
       "output_type": "stream",
       "stream": "stdout",
       "text": [
        "\n",
        "0.46"
       ]
      },
      {
       "output_type": "stream",
       "stream": "stdout",
       "text": [
        "\n",
        "0.47"
       ]
      },
      {
       "output_type": "stream",
       "stream": "stdout",
       "text": [
        "\n",
        "0.48"
       ]
      },
      {
       "output_type": "stream",
       "stream": "stdout",
       "text": [
        "\n",
        "0.49"
       ]
      },
      {
       "output_type": "stream",
       "stream": "stdout",
       "text": [
        "\n",
        "0.5"
       ]
      },
      {
       "output_type": "stream",
       "stream": "stdout",
       "text": [
        "\n",
        "0.51"
       ]
      },
      {
       "output_type": "stream",
       "stream": "stdout",
       "text": [
        "\n",
        "0.52"
       ]
      },
      {
       "output_type": "stream",
       "stream": "stdout",
       "text": [
        "\n",
        "0.53"
       ]
      },
      {
       "output_type": "stream",
       "stream": "stdout",
       "text": [
        "\n",
        "0.54"
       ]
      },
      {
       "output_type": "stream",
       "stream": "stdout",
       "text": [
        "\n",
        "0.55"
       ]
      },
      {
       "output_type": "stream",
       "stream": "stdout",
       "text": [
        "\n",
        "0.56"
       ]
      },
      {
       "output_type": "stream",
       "stream": "stdout",
       "text": [
        "\n",
        "0.57"
       ]
      },
      {
       "output_type": "stream",
       "stream": "stdout",
       "text": [
        "\n",
        "0.58"
       ]
      },
      {
       "output_type": "stream",
       "stream": "stdout",
       "text": [
        "\n",
        "0.59"
       ]
      },
      {
       "output_type": "stream",
       "stream": "stdout",
       "text": [
        "\n",
        "0.6"
       ]
      },
      {
       "output_type": "stream",
       "stream": "stdout",
       "text": [
        "\n",
        "0.61"
       ]
      },
      {
       "output_type": "stream",
       "stream": "stdout",
       "text": [
        "\n",
        "/maven_iuvs/stage/products/level1a/mvn_iuv_l1a_IPH1-cycle00023-mode060-fuv_20140410T141518_v00_r00.fits.gz"
       ]
      },
      {
       "output_type": "stream",
       "stream": "stdout",
       "text": [
        "\n",
        "0.62\n",
        "/maven_iuvs/stage/products/level1a/mvn_iuv_l1a_IPH2-cycle00203-mode060-muv_20140630T035343_v00_r00.fits.gz"
       ]
      },
      {
       "output_type": "stream",
       "stream": "stdout",
       "text": [
        "\n",
        "0.63\n",
        "0.64"
       ]
      },
      {
       "output_type": "stream",
       "stream": "stdout",
       "text": [
        "\n",
        "0.65"
       ]
      },
      {
       "output_type": "stream",
       "stream": "stdout",
       "text": [
        "\n",
        "0.66"
       ]
      },
      {
       "output_type": "stream",
       "stream": "stdout",
       "text": [
        "\n",
        "0.67"
       ]
      },
      {
       "output_type": "stream",
       "stream": "stdout",
       "text": [
        "\n",
        "0.68"
       ]
      },
      {
       "output_type": "stream",
       "stream": "stdout",
       "text": [
        "\n",
        "0.69"
       ]
      },
      {
       "output_type": "stream",
       "stream": "stdout",
       "text": [
        "\n",
        "0.7"
       ]
      },
      {
       "output_type": "stream",
       "stream": "stdout",
       "text": [
        "\n",
        "0.71"
       ]
      },
      {
       "output_type": "stream",
       "stream": "stdout",
       "text": [
        "\n",
        "0.72"
       ]
      },
      {
       "output_type": "stream",
       "stream": "stdout",
       "text": [
        "\n",
        "0.73"
       ]
      },
      {
       "output_type": "stream",
       "stream": "stdout",
       "text": [
        "\n",
        "0.74"
       ]
      },
      {
       "output_type": "stream",
       "stream": "stdout",
       "text": [
        "\n",
        "0.75"
       ]
      },
      {
       "output_type": "stream",
       "stream": "stdout",
       "text": [
        "\n",
        "0.76"
       ]
      },
      {
       "output_type": "stream",
       "stream": "stdout",
       "text": [
        "\n",
        "0.77"
       ]
      },
      {
       "output_type": "stream",
       "stream": "stdout",
       "text": [
        "\n",
        "0.78"
       ]
      },
      {
       "output_type": "stream",
       "stream": "stdout",
       "text": [
        "\n",
        "0.79"
       ]
      },
      {
       "output_type": "stream",
       "stream": "stdout",
       "text": [
        "\n",
        "0.8"
       ]
      },
      {
       "output_type": "stream",
       "stream": "stdout",
       "text": [
        "\n",
        "0.81"
       ]
      },
      {
       "output_type": "stream",
       "stream": "stdout",
       "text": [
        "\n",
        "0.82"
       ]
      },
      {
       "output_type": "stream",
       "stream": "stdout",
       "text": [
        "\n",
        "0.83"
       ]
      },
      {
       "output_type": "stream",
       "stream": "stdout",
       "text": [
        "\n",
        "0.84"
       ]
      },
      {
       "output_type": "stream",
       "stream": "stdout",
       "text": [
        "\n",
        "0.85"
       ]
      },
      {
       "output_type": "stream",
       "stream": "stdout",
       "text": [
        "\n",
        "0.86"
       ]
      },
      {
       "output_type": "stream",
       "stream": "stdout",
       "text": [
        "\n",
        "0.87"
       ]
      },
      {
       "output_type": "stream",
       "stream": "stdout",
       "text": [
        "\n",
        "0.88"
       ]
      },
      {
       "output_type": "stream",
       "stream": "stdout",
       "text": [
        "\n",
        "0.89"
       ]
      },
      {
       "output_type": "stream",
       "stream": "stdout",
       "text": [
        "\n",
        "0.9"
       ]
      },
      {
       "output_type": "stream",
       "stream": "stdout",
       "text": [
        "\n",
        "0.91"
       ]
      },
      {
       "output_type": "stream",
       "stream": "stdout",
       "text": [
        "\n",
        "0.92"
       ]
      },
      {
       "output_type": "stream",
       "stream": "stdout",
       "text": [
        "\n",
        "0.93"
       ]
      },
      {
       "output_type": "stream",
       "stream": "stdout",
       "text": [
        "\n",
        "0.94"
       ]
      },
      {
       "output_type": "stream",
       "stream": "stdout",
       "text": [
        "\n",
        "0.95"
       ]
      },
      {
       "output_type": "stream",
       "stream": "stdout",
       "text": [
        "\n",
        "0.96"
       ]
      },
      {
       "output_type": "stream",
       "stream": "stdout",
       "text": [
        "\n",
        "0.97"
       ]
      },
      {
       "output_type": "stream",
       "stream": "stdout",
       "text": [
        "\n",
        "0.98"
       ]
      },
      {
       "output_type": "stream",
       "stream": "stdout",
       "text": [
        "\n",
        "0.99"
       ]
      },
      {
       "output_type": "stream",
       "stream": "stdout",
       "text": [
        "\n"
       ]
      }
     ],
     "prompt_number": 189
    },
    {
     "cell_type": "code",
     "collapsed": false,
     "input": [],
     "language": "python",
     "metadata": {},
     "outputs": [
      {
       "metadata": {},
       "output_type": "pyout",
       "prompt_number": 184,
       "text": [
        "count    100.000000\n",
        "mean       0.798660\n",
        "std        1.421604\n",
        "min       -9.102222\n",
        "25%        1.000058\n",
        "50%        1.000071\n",
        "75%        1.002890\n",
        "max        1.011358\n",
        "dtype: float64"
       ]
      }
     ],
     "prompt_number": 184
    },
    {
     "cell_type": "code",
     "collapsed": false,
     "input": [
      "ds = IUVSReader('/maven_iuvs/stage/products/level1a/mvn_iuv_l1a_IPH1-cycle00023-mode060-fuv_20140410T141518_v00_r00.fits.gz')"
     ],
     "language": "python",
     "metadata": {},
     "outputs": [],
     "prompt_number": 190
    },
    {
     "cell_type": "code",
     "collapsed": false,
     "input": [
      "ds.img_header['MIR_DEG']"
     ],
     "language": "python",
     "metadata": {},
     "outputs": [
      {
       "metadata": {},
       "output_type": "pyout",
       "prompt_number": 196,
       "text": [
        "-0.025"
       ]
      }
     ],
     "prompt_number": 196
    },
    {
     "cell_type": "code",
     "collapsed": false,
     "input": [
      "df = ds.integration.data"
     ],
     "language": "python",
     "metadata": {},
     "outputs": [],
     "prompt_number": 193
    },
    {
     "cell_type": "code",
     "collapsed": false,
     "input": [
      "df.get_value('MIRROR_DEG', 0)"
     ],
     "language": "python",
     "metadata": {},
     "outputs": [
      {
       "metadata": {},
       "output_type": "pyout",
       "prompt_number": 194,
       "text": [
        "0.00274658203125"
       ]
      }
     ],
     "prompt_number": 194
    },
    {
     "cell_type": "code",
     "collapsed": false,
     "input": [
      "ratios"
     ],
     "language": "python",
     "metadata": {},
     "outputs": [
      {
       "metadata": {},
       "output_type": "pyout",
       "prompt_number": 195,
       "text": [
        "[1.011358024691358,\n",
        " 1.0000610388817677,\n",
        " 0.9954787585092881,\n",
        " 1.0000741804419213,\n",
        " 1.0000610388817677,\n",
        " 1.011358024691358,\n",
        " 1.0000610388817677,\n",
        " 1.011358024691358,\n",
        " 1.011358024691358,\n",
        " 1.0000956122562226,\n",
        " 1.0000610388817677,\n",
        " 0.9102222222222223,\n",
        " 1.0004109076109076,\n",
        " 1.011358024691358,\n",
        " 1.0000426922721817,\n",
        " 1.0000426922721817,\n",
        " 1.0000610388817677,\n",
        " 1.0057704112952732,\n",
        " 1.0000610388817677,\n",
        " 1.0000610388817677,\n",
        " 1.0000737973674572,\n",
        " 0.9102222222222223,\n",
        " 1.011358024691358,\n",
        " 1.011358024691358,\n",
        " 1.000043535246735,\n",
        " 1.0000426922721817,\n",
        " 1.0000610388817677,\n",
        " 0.9996287972144013,\n",
        " 1.0000592110319881,\n",
        " 1.011358024691358,\n",
        " 1.0000610388817677,\n",
        " 1.0002442002442002,\n",
        " 1.0002442002442002,\n",
        " 1.000454473374049,\n",
        " 1.0000610388817677,\n",
        " 1.0000610388817677,\n",
        " 1.0000610388817677,\n",
        " 1.0000411445128576,\n",
        " 1.0008275487701441,\n",
        " 1.011358024691358,\n",
        " 0.99544339497682,\n",
        " 0.9996287972144013,\n",
        " 0.9996287972144013,\n",
        " 1.0000610388817677,\n",
        " 1.0000610388817677,\n",
        " 1.000092264416315,\n",
        " 1.000454473374049,\n",
        " 1.011358024691358,\n",
        " 1.000043535246735,\n",
        " 1.011358024691358,\n",
        " 1.000092264416315,\n",
        " 1.011358024691358,\n",
        " 1.0000610388817677,\n",
        " 1.011358024691358,\n",
        " 1.011358024691358,\n",
        " 1.0005406643757158,\n",
        " 1.0000610388817677,\n",
        " 1.011358024691358,\n",
        " 0.99544339497682,\n",
        " 0.9991679126788259,\n",
        " 1.011358024691358,\n",
        " -9.102222222222222,\n",
        " -9.102222222222222,\n",
        " 1.0000516802366892,\n",
        " 1.0000737973674572,\n",
        " 1.0000956122562226,\n",
        " 1.011358024691358,\n",
        " 1.0024463223787168,\n",
        " 1.000593928287826,\n",
        " 1.0000737973674572,\n",
        " 1.0000610388817677,\n",
        " 1.000052647159285,\n",
        " 1.0057704112952732,\n",
        " 1.0000741804419213,\n",
        " 1.0039033214324353,\n",
        " 1.0000741804419213,\n",
        " 1.0000674622750414,\n",
        " 1.0000737973674572,\n",
        " 1.011358024691358,\n",
        " 1.0000426922721817,\n",
        " 1.0000610388817677,\n",
        " 1.000043535246735,\n",
        " 1.0000610388817677,\n",
        " 1.0057704112952732,\n",
        " 0.9989009268795056,\n",
        " 1.0000610388817677,\n",
        " 1.0000674622750414,\n",
        " 1.0000741804419213,\n",
        " 1.0000610388817677,\n",
        " 1.0057704112952732,\n",
        " 1.000043535246735,\n",
        " 1.0000610388817677,\n",
        " 1.000052647159285,\n",
        " 1.0000956122562226,\n",
        " 1.011358024691358,\n",
        " 1.011358024691358,\n",
        " 1.0000426922721817,\n",
        " 1.0000741804419213,\n",
        " 1.002552419840335,\n",
        " 1.000454473374049]"
       ]
      }
     ],
     "prompt_number": 195
    },
    {
     "cell_type": "code",
     "collapsed": false,
     "input": [
      "pd.Series(ratios).describe()"
     ],
     "language": "python",
     "metadata": {},
     "outputs": [
      {
       "metadata": {},
       "output_type": "pyout",
       "prompt_number": 202,
       "text": [
        "count    100.000000\n",
        "mean       0.798660\n",
        "std        1.421604\n",
        "min       -9.102222\n",
        "25%        1.000058\n",
        "50%        1.000071\n",
        "75%        1.002890\n",
        "max        1.011358\n",
        "dtype: float64"
       ]
      }
     ],
     "prompt_number": 202
    },
    {
     "cell_type": "code",
     "collapsed": false,
     "input": [
      "pd.Series(ratios).median()"
     ],
     "language": "python",
     "metadata": {},
     "outputs": [
      {
       "metadata": {},
       "output_type": "pyout",
       "prompt_number": 203,
       "text": [
        "1.0000706298212494"
       ]
      }
     ],
     "prompt_number": 203
    }
   ],
   "metadata": {}
  }
 ]
}