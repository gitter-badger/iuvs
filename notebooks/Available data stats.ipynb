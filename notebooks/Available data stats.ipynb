{
 "cells": [
  {
   "cell_type": "code",
   "execution_count": 1,
   "metadata": {
    "collapsed": false
   },
   "outputs": [],
   "source": [
    "from iuvs import io\n",
    "import pandas as pd\n",
    "l1bfiles = io.l1b_filenames()"
   ]
  },
  {
   "cell_type": "code",
   "execution_count": 2,
   "metadata": {
    "collapsed": false
   },
   "outputs": [],
   "source": [
    "from IPython.parallel import Client\n",
    "rc = Client()"
   ]
  },
  {
   "cell_type": "code",
   "execution_count": 3,
   "metadata": {
    "collapsed": false
   },
   "outputs": [],
   "source": [
    "dview = rc.direct_view()\n",
    "lview = rc.load_balanced_view()"
   ]
  },
  {
   "cell_type": "code",
   "execution_count": 34,
   "metadata": {
    "collapsed": true
   },
   "outputs": [],
   "source": [
    "def get_header_df(header, drop_comment=True):\n",
    "    import pandas as pd\n",
    "    df = pd.DataFrame(header.values(),\n",
    "                      index=header.keys())\n",
    "    return df.drop('COMMENT KERNEL'.split()) if drop_comment else df\n",
    "\n",
    "def save_to_hdf(df, basename):\n",
    "    import os\n",
    "    HOME = os.environ['HOME']\n",
    "    newfname = os.path.splitext(basename)[0] + '.h5'\n",
    "    path = os.path.join(HOME, 'output', newfname)\n",
    "    print(path)\n",
    "    df.to_hdf(path, 'df', format='t')\n",
    "    \n",
    "def process_img_headers(fname):\n",
    "    from iuvs import io\n",
    "    import os\n",
    "    from astropy.io import fits\n",
    "    iuvsfname = io.Filename(fname)\n",
    "    l1b = io.L1BReader(fname)\n",
    "    hdu = l1b.hdulist[0]\n",
    "    hdu.verify('fix')\n",
    "    df = get_header_df(hdu.header).T.convert_objects()\n",
    "    basename = os.path.basename(fname)\n",
    "    df['filename'] = basename\n",
    "    save_to_hdf(df, basename)\n",
    "    return"
   ]
  },
  {
   "cell_type": "code",
   "execution_count": 31,
   "metadata": {
    "collapsed": false
   },
   "outputs": [
    {
     "data": {
      "text/plain": [
       "<AsyncResult: finished>"
      ]
     },
     "execution_count": 31,
     "metadata": {},
     "output_type": "execute_result"
    }
   ],
   "source": [
    "dview.push({'get_header_df':get_header_df,\n",
    "            'save_to_hdf': save_to_hdf})"
   ]
  },
  {
   "cell_type": "code",
   "execution_count": 35,
   "metadata": {
    "collapsed": false
   },
   "outputs": [],
   "source": [
    "results = lview.map_async(process_img_headers, l1bfiles)"
   ]
  },
  {
   "cell_type": "code",
   "execution_count": null,
   "metadata": {
    "collapsed": false
   },
   "outputs": [
    {
     "name": "stdout",
     "output_type": "stream",
     "text": [
      "2.1 %\n",
      "2.3 %\n",
      "2.7 %"
     ]
    }
   ],
   "source": [
    "import time\n",
    "while not results.ready():\n",
    "    print(\"{:.1f} %\".format(100*results.progress/len(l1bfiles)))\n",
    "    time.sleep(30)          "
   ]
  },
  {
   "cell_type": "code",
   "execution_count": 23,
   "metadata": {
    "collapsed": false
   },
   "outputs": [],
   "source": [
    "l1b = process_img_headers(l1bfiles[0])"
   ]
  },
  {
   "cell_type": "code",
   "execution_count": 24,
   "metadata": {
    "collapsed": false
   },
   "outputs": [],
   "source": [
    "hdu = l1b.hdulist[0]\n",
    "hdu.verify('silentfix')"
   ]
  },
  {
   "cell_type": "code",
   "execution_count": 25,
   "metadata": {
    "collapsed": false
   },
   "outputs": [
    {
     "data": {
      "text/plain": [
       "SIMPLE  =                    T /Primary Header created by MWRFITS v1.11         \n",
       "BITPIX  =                  -32 /                                                \n",
       "NAXIS   =                    2 /                                                \n",
       "NAXIS1  =                  512 /                                                \n",
       "NAXIS2  =                  512 /                                                \n",
       "EXTEND  =                    T /Extensions may be present                       \n",
       "COMMENT MAVEN IUVS Level 1B Data Product                                        \n",
       "COMMENT IUVS Principal Investigator N. Schneider                                \n",
       "COMMENT Laboratory for Atmospheric and Space Physics                            \n",
       "COMMENT University of Colorado Boulder                                          \n",
       "COMMENT 1234 Innovation Drive, Boulder CO 80303                                 \n",
       "COMMENT MAVEN Mission scientific and model results are open to all.             \n",
       "COMMENT Users should contact the PI or designated IUVS team member early in an  \n",
       "COMMENT analysis project to discuss appropriate use of instrument data results. \n",
       "COMMENT Appropriate acknowledgement to institutions, personnel, and funding     \n",
       "COMMENT agencies should be given. Version numbers should also be specified.     \n",
       "COMMENT Floating point Not-a-Number (NaN) used for fill data                    \n",
       "FILENAME= 'mvn_iuv_l1b_IPH2-cycle00044-mode031-fuv_20140503T082457_v01_r01.fits'\n",
       "CAPTURE = '2014/123 May 03 08:24:57.71271UTC' /Start of integration SCET        \n",
       "PROCESS = '2015/021 Jan 21 02:09:30.00000UTC' /File processing time             \n",
       "SW_VER  = '-1' /SVN revision of processing code                                 \n",
       "XUV     = 'FUV'                                                                 \n",
       "OBS_ID  =                   31                                                  \n",
       "MIR_DN  =                29322 //MIRROR_DN                                      \n",
       "MIR_DEG =        4.4997253E+01 / /MIRROR_DEG                                    \n",
       "FOV_DEG =        8.9994507E+01                                                  \n",
       "LYA_CENT=                65535 //LYA_CENTROID                                   \n",
       "INT_TIME=   60.000 /Integration time in seconds                                 \n",
       "MCP_VOLT=  846.558 /MCP voltage in volts                                        \n",
       "MIR_DEG =   45.000 /Mirror position in deg                                      \n",
       "N_FILL  =        59419 //Number of absent bins in observation                   \n",
       "BIN_TBL = 'LINEAR 8,8 RidealongIPH2'                                            \n",
       "SPA_OFS =        0 //Spatial linear bin offset                                  \n",
       "SPA_SIZE=        2 //Number of pixels per spatial bin                           \n",
       "SPE_OFS =        0 //Spectral linear bin offset                                 \n",
       "SPE_SIZE=        2 //Number of pixels per spectral bin                          \n",
       "KERNEL  = 'naif0010.tls'                                                        \n",
       "KERNEL  = 'maven_v05_draft4.tf'                                                 \n",
       "KERNEL  = 'maven_iuvs_v01.ti'                                                   \n",
       "KERNEL  = 'mvn_app_stow_131118_141009_v01.bc'                                   \n",
       "KERNEL  = 'trj_c_od015a_140215-141012_moiprelim_v1.bsp'                         \n",
       "KERNEL  = 'mvn_sc_rel_140428_140504_v01.bc'                                     \n",
       "KERNEL  = 'mvn_iuv_all_l0_20140503_v002.bc'                                     \n",
       "KERNEL  = 'MVN_SCLKSCET.00014.tsc'                                              \n",
       "BUNIT   = 'kR/nm'                                                               \n",
       "COMMENT Calibrated data for this observation (units: kR/nm)                     "
      ]
     },
     "execution_count": 25,
     "metadata": {},
     "output_type": "execute_result"
    }
   ],
   "source": [
    "hdu.header"
   ]
  },
  {
   "cell_type": "code",
   "execution_count": null,
   "metadata": {
    "collapsed": true
   },
   "outputs": [],
   "source": []
  }
 ],
 "metadata": {
  "kernelspec": {
   "display_name": "Python 3",
   "language": "python",
   "name": "python3"
  },
  "language_info": {
   "codemirror_mode": {
    "name": "ipython",
    "version": 3
   },
   "file_extension": ".py",
   "mimetype": "text/x-python",
   "name": "python",
   "nbconvert_exporter": "python",
   "pygments_lexer": "ipython3",
   "version": "3.4.2"
  }
 },
 "nbformat": 4,
 "nbformat_minor": 0
}
