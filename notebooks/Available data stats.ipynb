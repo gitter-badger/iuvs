{
 "cells": [
  {
   "cell_type": "code",
   "execution_count": 1,
   "metadata": {
    "collapsed": false
   },
   "outputs": [],
   "source": [
    "from iuvs import io"
   ]
  },
  {
   "cell_type": "code",
   "execution_count": 2,
   "metadata": {
    "collapsed": false
   },
   "outputs": [
    {
     "data": {
      "text/plain": [
       "PosixPath('/maven_iuvs/stage/products/level1a')"
      ]
     },
     "execution_count": 2,
     "metadata": {},
     "output_type": "execute_result"
    }
   ],
   "source": [
    "io.level1apath"
   ]
  },
  {
   "cell_type": "code",
   "execution_count": 3,
   "metadata": {
    "collapsed": false
   },
   "outputs": [
    {
     "name": "stdout",
     "output_type": "stream",
     "text": [
      "Searching for *dark*.fits.gz\n"
     ]
    }
   ],
   "source": [
    "p = list(io.l1a_darks())[0]"
   ]
  },
  {
   "cell_type": "code",
   "execution_count": 4,
   "metadata": {
    "collapsed": false
   },
   "outputs": [
    {
     "data": {
      "text/plain": [
       "'/maven_iuvs/stage/products/level1a/mvn_iuv_l1a_apoapse-orbit00263-fuvdark_20141117T080111_v00_r00.fits.gz'"
      ]
     },
     "execution_count": 4,
     "metadata": {},
     "output_type": "execute_result"
    }
   ],
   "source": [
    "p.as_posix()"
   ]
  },
  {
   "cell_type": "code",
   "execution_count": 5,
   "metadata": {
    "collapsed": false
   },
   "outputs": [],
   "source": [
    "iuvs_fnames = []\n",
    "for fname in io.l1a_filenames():\n",
    "    iuvs_fnames.append(io.Filename(fname))"
   ]
  },
  {
   "cell_type": "code",
   "execution_count": 6,
   "metadata": {
    "collapsed": false
   },
   "outputs": [],
   "source": [
    "import pandas as pd"
   ]
  },
  {
   "cell_type": "code",
   "execution_count": 28,
   "metadata": {
    "collapsed": true
   },
   "outputs": [],
   "source": [
    "s = pd.Series(iuvs_fnames)"
   ]
  },
  {
   "cell_type": "code",
   "execution_count": 29,
   "metadata": {
    "collapsed": false
   },
   "outputs": [],
   "source": [
    "df = pd.DataFrame()"
   ]
  },
  {
   "cell_type": "code",
   "execution_count": 31,
   "metadata": {
    "collapsed": false
   },
   "outputs": [],
   "source": [
    "for item in ['basename','phase', 'cycle_orbit', 'mode', 'channel', 'time', 'level', 'version', 'revision']:\n",
    "    df[item] = s.map(lambda x: getattr(x, item))"
   ]
  },
  {
   "cell_type": "code",
   "execution_count": 33,
   "metadata": {
    "collapsed": false
   },
   "outputs": [],
   "source": [
    "df['channel']=df.channel.astype('category')"
   ]
  },
  {
   "cell_type": "code",
   "execution_count": 34,
   "metadata": {
    "collapsed": false
   },
   "outputs": [
    {
     "data": {
      "text/plain": [
       "phase                  object\n",
       "cycle_orbit            object\n",
       "mode                   object\n",
       "channel              category\n",
       "time           datetime64[ns]\n",
       "level                  object\n",
       "version                object\n",
       "revision               object\n",
       "basename               object\n",
       "dtype: object"
      ]
     },
     "execution_count": 34,
     "metadata": {},
     "output_type": "execute_result"
    }
   ],
   "source": [
    "df.dtypes"
   ]
  },
  {
   "cell_type": "code",
   "execution_count": 35,
   "metadata": {
    "collapsed": false
   },
   "outputs": [
    {
     "data": {
      "text/html": [
       "<div style=\"max-height:1000px;max-width:1500px;overflow:auto;\">\n",
       "<table border=\"1\" class=\"dataframe\">\n",
       "  <thead>\n",
       "    <tr style=\"text-align: right;\">\n",
       "      <th></th>\n",
       "      <th>phase</th>\n",
       "      <th>cycle_orbit</th>\n",
       "      <th>mode</th>\n",
       "      <th>channel</th>\n",
       "      <th>time</th>\n",
       "      <th>level</th>\n",
       "      <th>version</th>\n",
       "      <th>revision</th>\n",
       "      <th>basename</th>\n",
       "    </tr>\n",
       "  </thead>\n",
       "  <tbody>\n",
       "    <tr>\n",
       "      <th>0</th>\n",
       "      <td>     IPH2</td>\n",
       "      <td> cycle00095</td>\n",
       "      <td>  mode040</td>\n",
       "      <td> fuv</td>\n",
       "      <td>2014-05-24 23:45:52</td>\n",
       "      <td> l1a</td>\n",
       "      <td> v00</td>\n",
       "      <td> r00</td>\n",
       "      <td> mvn_iuv_l1a_IPH2-cycle00095-mode040-fuv_201405...</td>\n",
       "    </tr>\n",
       "    <tr>\n",
       "      <th>1</th>\n",
       "      <td> periapse</td>\n",
       "      <td> orbit00425</td>\n",
       "      <td>      N/A</td>\n",
       "      <td> fuv</td>\n",
       "      <td>2014-12-18 04:51:21</td>\n",
       "      <td> l1a</td>\n",
       "      <td> v00</td>\n",
       "      <td> r00</td>\n",
       "      <td> mvn_iuv_l1a_periapse-orbit00425-fuv_20141218T0...</td>\n",
       "    </tr>\n",
       "    <tr>\n",
       "      <th>2</th>\n",
       "      <td>  apoapse</td>\n",
       "      <td> orbit00352</td>\n",
       "      <td>      N/A</td>\n",
       "      <td> muv</td>\n",
       "      <td>2014-12-04 08:43:54</td>\n",
       "      <td> l1a</td>\n",
       "      <td> v00</td>\n",
       "      <td> r00</td>\n",
       "      <td> mvn_iuv_l1a_apoapse-orbit00352-muv_20141204T08...</td>\n",
       "    </tr>\n",
       "    <tr>\n",
       "      <th>3</th>\n",
       "      <td>     IPH2</td>\n",
       "      <td> cycle00012</td>\n",
       "      <td>  mode031</td>\n",
       "      <td> fuv</td>\n",
       "      <td>2014-04-22 16:22:45</td>\n",
       "      <td> l1a</td>\n",
       "      <td> v00</td>\n",
       "      <td> r00</td>\n",
       "      <td> mvn_iuv_l1a_IPH2-cycle00012-mode031-fuv_201404...</td>\n",
       "    </tr>\n",
       "    <tr>\n",
       "      <th>4</th>\n",
       "      <td> periapse</td>\n",
       "      <td> orbit00111</td>\n",
       "      <td> mode0001</td>\n",
       "      <td> muv</td>\n",
       "      <td>2014-10-19 01:21:49</td>\n",
       "      <td> l1a</td>\n",
       "      <td> v00</td>\n",
       "      <td> r00</td>\n",
       "      <td> mvn_iuv_l1a_periapse-orbit00111-mode0001-muv_2...</td>\n",
       "    </tr>\n",
       "  </tbody>\n",
       "</table>\n",
       "</div>"
      ],
      "text/plain": [
       "      phase cycle_orbit      mode channel                time level version  \\\n",
       "0      IPH2  cycle00095   mode040     fuv 2014-05-24 23:45:52   l1a     v00   \n",
       "1  periapse  orbit00425       N/A     fuv 2014-12-18 04:51:21   l1a     v00   \n",
       "2   apoapse  orbit00352       N/A     muv 2014-12-04 08:43:54   l1a     v00   \n",
       "3      IPH2  cycle00012   mode031     fuv 2014-04-22 16:22:45   l1a     v00   \n",
       "4  periapse  orbit00111  mode0001     muv 2014-10-19 01:21:49   l1a     v00   \n",
       "\n",
       "  revision                                           basename  \n",
       "0      r00  mvn_iuv_l1a_IPH2-cycle00095-mode040-fuv_201405...  \n",
       "1      r00  mvn_iuv_l1a_periapse-orbit00425-fuv_20141218T0...  \n",
       "2      r00  mvn_iuv_l1a_apoapse-orbit00352-muv_20141204T08...  \n",
       "3      r00  mvn_iuv_l1a_IPH2-cycle00012-mode031-fuv_201404...  \n",
       "4      r00  mvn_iuv_l1a_periapse-orbit00111-mode0001-muv_2...  "
      ]
     },
     "execution_count": 35,
     "metadata": {},
     "output_type": "execute_result"
    }
   ],
   "source": [
    "df.head()"
   ]
  },
  {
   "cell_type": "code",
   "execution_count": 14,
   "metadata": {
    "collapsed": false
   },
   "outputs": [
    {
     "data": {
      "text/plain": [
       "fuv        12928\n",
       "muv        12362\n",
       "fuvdark     4966\n",
       "muvdark     4551\n",
       "echdark     1730\n",
       "ech         1087\n",
       "dtype: int64"
      ]
     },
     "execution_count": 14,
     "metadata": {},
     "output_type": "execute_result"
    }
   ],
   "source": [
    "df.channel.value_counts()"
   ]
  },
  {
   "cell_type": "code",
   "execution_count": 20,
   "metadata": {
    "collapsed": false
   },
   "outputs": [],
   "source": [
    "d = {'muv':1, 'muvdark':2, 'fuv':3, 'fuvdark':4, 'ech':5, 'echdark':6}\n",
    "df['channel_int'] = df.channel.map(d)"
   ]
  },
  {
   "cell_type": "code",
   "execution_count": 15,
   "metadata": {
    "collapsed": false
   },
   "outputs": [
    {
     "data": {
      "text/html": [
       "<div style=\"max-height:1000px;max-width:1500px;overflow:auto;\">\n",
       "<table border=\"1\" class=\"dataframe\">\n",
       "  <thead>\n",
       "    <tr style=\"text-align: right;\">\n",
       "      <th></th>\n",
       "      <th>phase</th>\n",
       "      <th>cycle</th>\n",
       "      <th>mode</th>\n",
       "      <th>channel</th>\n",
       "      <th>time</th>\n",
       "      <th>level</th>\n",
       "      <th>version</th>\n",
       "      <th>revision</th>\n",
       "    </tr>\n",
       "  </thead>\n",
       "  <tbody>\n",
       "    <tr>\n",
       "      <th>count</th>\n",
       "      <td> 25487</td>\n",
       "      <td>      25487</td>\n",
       "      <td>   25487</td>\n",
       "      <td> 25487</td>\n",
       "      <td>               25487</td>\n",
       "      <td> 25487</td>\n",
       "      <td> 25487</td>\n",
       "      <td> 25487</td>\n",
       "    </tr>\n",
       "    <tr>\n",
       "      <th>unique</th>\n",
       "      <td>    14</td>\n",
       "      <td>        252</td>\n",
       "      <td>      82</td>\n",
       "      <td>     6</td>\n",
       "      <td>               14476</td>\n",
       "      <td>     1</td>\n",
       "      <td>     1</td>\n",
       "      <td>     1</td>\n",
       "    </tr>\n",
       "    <tr>\n",
       "      <th>top</th>\n",
       "      <td>  IPH2</td>\n",
       "      <td> orbit00002</td>\n",
       "      <td> mode020</td>\n",
       "      <td>   fuv</td>\n",
       "      <td> 2014-06-27 15:27:14</td>\n",
       "      <td>   l1a</td>\n",
       "      <td>   v00</td>\n",
       "      <td>   r00</td>\n",
       "    </tr>\n",
       "    <tr>\n",
       "      <th>freq</th>\n",
       "      <td> 14291</td>\n",
       "      <td>       1177</td>\n",
       "      <td>    5600</td>\n",
       "      <td>  8199</td>\n",
       "      <td>                   2</td>\n",
       "      <td> 25487</td>\n",
       "      <td> 25487</td>\n",
       "      <td> 25487</td>\n",
       "    </tr>\n",
       "    <tr>\n",
       "      <th>first</th>\n",
       "      <td>   NaN</td>\n",
       "      <td>        NaN</td>\n",
       "      <td>     NaN</td>\n",
       "      <td>   NaN</td>\n",
       "      <td> 2013-12-11 21:02:18</td>\n",
       "      <td>   NaN</td>\n",
       "      <td>   NaN</td>\n",
       "      <td>   NaN</td>\n",
       "    </tr>\n",
       "    <tr>\n",
       "      <th>last</th>\n",
       "      <td>   NaN</td>\n",
       "      <td>        NaN</td>\n",
       "      <td>     NaN</td>\n",
       "      <td>   NaN</td>\n",
       "      <td> 2014-11-16 05:26:28</td>\n",
       "      <td>   NaN</td>\n",
       "      <td>   NaN</td>\n",
       "      <td>   NaN</td>\n",
       "    </tr>\n",
       "  </tbody>\n",
       "</table>\n",
       "</div>"
      ],
      "text/plain": [
       "        phase       cycle     mode channel                 time  level  \\\n",
       "count   25487       25487    25487   25487                25487  25487   \n",
       "unique     14         252       82       6                14476      1   \n",
       "top      IPH2  orbit00002  mode020     fuv  2014-06-27 15:27:14    l1a   \n",
       "freq    14291        1177     5600    8199                    2  25487   \n",
       "first     NaN         NaN      NaN     NaN  2013-12-11 21:02:18    NaN   \n",
       "last      NaN         NaN      NaN     NaN  2014-11-16 05:26:28    NaN   \n",
       "\n",
       "       version revision  \n",
       "count    25487    25487  \n",
       "unique       1        1  \n",
       "top        v00      r00  \n",
       "freq     25487    25487  \n",
       "first      NaN      NaN  \n",
       "last       NaN      NaN  "
      ]
     },
     "execution_count": 15,
     "metadata": {},
     "output_type": "execute_result"
    }
   ],
   "source": [
    "df.describe()"
   ]
  },
  {
   "cell_type": "code",
   "execution_count": 15,
   "metadata": {
    "collapsed": false
   },
   "outputs": [
    {
     "data": {
      "text/plain": [
       "IPH2          14291\n",
       "apoapse        7552\n",
       "periapse       3968\n",
       "IPH1           3023\n",
       "early          2861\n",
       "outbound       1862\n",
       "IPH3           1000\n",
       "ISON2           691\n",
       "APP2            576\n",
       "ISON1           520\n",
       "inbound         342\n",
       "APP1            257\n",
       "cruisecal2      236\n",
       "cruisecal1      134\n",
       "APP1A           112\n",
       "checkout         76\n",
       "centroid         67\n",
       "comet            56\n",
       "dtype: int64"
      ]
     },
     "execution_count": 15,
     "metadata": {},
     "output_type": "execute_result"
    }
   ],
   "source": [
    "df.phase.value_counts()"
   ]
  },
  {
   "cell_type": "code",
   "execution_count": 16,
   "metadata": {
    "collapsed": false
   },
   "outputs": [],
   "source": [
    "df.set_index('time', inplace=True)\n",
    "df.sort_index(inplace=True)"
   ]
  },
  {
   "cell_type": "code",
   "execution_count": 17,
   "metadata": {
    "collapsed": false
   },
   "outputs": [
    {
     "data": {
      "text/html": [
       "<div style=\"max-height:1000px;max-width:1500px;overflow:auto;\">\n",
       "<table border=\"1\" class=\"dataframe\">\n",
       "  <thead>\n",
       "    <tr style=\"text-align: right;\">\n",
       "      <th></th>\n",
       "      <th>phase</th>\n",
       "      <th>cycle_orbit</th>\n",
       "      <th>mode</th>\n",
       "      <th>channel</th>\n",
       "      <th>level</th>\n",
       "      <th>version</th>\n",
       "      <th>revision</th>\n",
       "    </tr>\n",
       "    <tr>\n",
       "      <th>time</th>\n",
       "      <th></th>\n",
       "      <th></th>\n",
       "      <th></th>\n",
       "      <th></th>\n",
       "      <th></th>\n",
       "      <th></th>\n",
       "      <th></th>\n",
       "    </tr>\n",
       "  </thead>\n",
       "  <tbody>\n",
       "    <tr>\n",
       "      <th>2013-12-04 19:02:17</th>\n",
       "      <td> checkout</td>\n",
       "      <td> N/A</td>\n",
       "      <td> N/A</td>\n",
       "      <td> muvdark</td>\n",
       "      <td> l1a</td>\n",
       "      <td> v00</td>\n",
       "      <td> r00</td>\n",
       "    </tr>\n",
       "    <tr>\n",
       "      <th>2013-12-04 19:02:17</th>\n",
       "      <td> checkout</td>\n",
       "      <td> N/A</td>\n",
       "      <td> N/A</td>\n",
       "      <td> fuvdark</td>\n",
       "      <td> l1a</td>\n",
       "      <td> v00</td>\n",
       "      <td> r00</td>\n",
       "    </tr>\n",
       "    <tr>\n",
       "      <th>2013-12-04 19:03:04</th>\n",
       "      <td> checkout</td>\n",
       "      <td> N/A</td>\n",
       "      <td> N/A</td>\n",
       "      <td> muvdark</td>\n",
       "      <td> l1a</td>\n",
       "      <td> v00</td>\n",
       "      <td> r00</td>\n",
       "    </tr>\n",
       "    <tr>\n",
       "      <th>2013-12-04 19:03:04</th>\n",
       "      <td> checkout</td>\n",
       "      <td> N/A</td>\n",
       "      <td> N/A</td>\n",
       "      <td> fuvdark</td>\n",
       "      <td> l1a</td>\n",
       "      <td> v00</td>\n",
       "      <td> r00</td>\n",
       "    </tr>\n",
       "    <tr>\n",
       "      <th>2013-12-04 19:03:42</th>\n",
       "      <td> checkout</td>\n",
       "      <td> N/A</td>\n",
       "      <td> N/A</td>\n",
       "      <td>     muv</td>\n",
       "      <td> l1a</td>\n",
       "      <td> v00</td>\n",
       "      <td> r00</td>\n",
       "    </tr>\n",
       "  </tbody>\n",
       "</table>\n",
       "</div>"
      ],
      "text/plain": [
       "                        phase cycle_orbit mode  channel level version revision\n",
       "time                                                                          \n",
       "2013-12-04 19:02:17  checkout         N/A  N/A  muvdark   l1a     v00      r00\n",
       "2013-12-04 19:02:17  checkout         N/A  N/A  fuvdark   l1a     v00      r00\n",
       "2013-12-04 19:03:04  checkout         N/A  N/A  muvdark   l1a     v00      r00\n",
       "2013-12-04 19:03:04  checkout         N/A  N/A  fuvdark   l1a     v00      r00\n",
       "2013-12-04 19:03:42  checkout         N/A  N/A      muv   l1a     v00      r00"
      ]
     },
     "execution_count": 17,
     "metadata": {},
     "output_type": "execute_result"
    }
   ],
   "source": [
    "df.head()"
   ]
  },
  {
   "cell_type": "code",
   "execution_count": 19,
   "metadata": {
    "collapsed": false
   },
   "outputs": [
    {
     "data": {
      "text/html": [
       "<div style=\"max-height:1000px;max-width:1500px;overflow:auto;\">\n",
       "<table border=\"1\" class=\"dataframe\">\n",
       "  <thead>\n",
       "    <tr style=\"text-align: right;\">\n",
       "      <th></th>\n",
       "      <th>phase</th>\n",
       "      <th>cycle_orbit</th>\n",
       "      <th>mode</th>\n",
       "      <th>channel</th>\n",
       "      <th>level</th>\n",
       "      <th>version</th>\n",
       "      <th>revision</th>\n",
       "    </tr>\n",
       "    <tr>\n",
       "      <th>time</th>\n",
       "      <th></th>\n",
       "      <th></th>\n",
       "      <th></th>\n",
       "      <th></th>\n",
       "      <th></th>\n",
       "      <th></th>\n",
       "      <th></th>\n",
       "    </tr>\n",
       "  </thead>\n",
       "  <tbody>\n",
       "    <tr>\n",
       "      <th>2015-01-09 14:27:01</th>\n",
       "      <td> apoapse</td>\n",
       "      <td> orbit00542</td>\n",
       "      <td> N/A</td>\n",
       "      <td> fuv</td>\n",
       "      <td> l1a</td>\n",
       "      <td> v00</td>\n",
       "      <td> r00</td>\n",
       "    </tr>\n",
       "    <tr>\n",
       "      <th>2015-01-09 14:32:21</th>\n",
       "      <td> apoapse</td>\n",
       "      <td> orbit00542</td>\n",
       "      <td> N/A</td>\n",
       "      <td> fuv</td>\n",
       "      <td> l1a</td>\n",
       "      <td> v00</td>\n",
       "      <td> r00</td>\n",
       "    </tr>\n",
       "    <tr>\n",
       "      <th>2015-01-09 14:37:43</th>\n",
       "      <td> apoapse</td>\n",
       "      <td> orbit00542</td>\n",
       "      <td> N/A</td>\n",
       "      <td> fuv</td>\n",
       "      <td> l1a</td>\n",
       "      <td> v00</td>\n",
       "      <td> r00</td>\n",
       "    </tr>\n",
       "    <tr>\n",
       "      <th>2015-01-09 14:43:03</th>\n",
       "      <td> apoapse</td>\n",
       "      <td> orbit00542</td>\n",
       "      <td> N/A</td>\n",
       "      <td> fuv</td>\n",
       "      <td> l1a</td>\n",
       "      <td> v00</td>\n",
       "      <td> r00</td>\n",
       "    </tr>\n",
       "    <tr>\n",
       "      <th>2015-01-09 14:48:23</th>\n",
       "      <td> apoapse</td>\n",
       "      <td> orbit00542</td>\n",
       "      <td> N/A</td>\n",
       "      <td> fuv</td>\n",
       "      <td> l1a</td>\n",
       "      <td> v00</td>\n",
       "      <td> r00</td>\n",
       "    </tr>\n",
       "  </tbody>\n",
       "</table>\n",
       "</div>"
      ],
      "text/plain": [
       "                       phase cycle_orbit mode channel level version revision\n",
       "time                                                                        \n",
       "2015-01-09 14:27:01  apoapse  orbit00542  N/A     fuv   l1a     v00      r00\n",
       "2015-01-09 14:32:21  apoapse  orbit00542  N/A     fuv   l1a     v00      r00\n",
       "2015-01-09 14:37:43  apoapse  orbit00542  N/A     fuv   l1a     v00      r00\n",
       "2015-01-09 14:43:03  apoapse  orbit00542  N/A     fuv   l1a     v00      r00\n",
       "2015-01-09 14:48:23  apoapse  orbit00542  N/A     fuv   l1a     v00      r00"
      ]
     },
     "execution_count": 19,
     "metadata": {},
     "output_type": "execute_result"
    }
   ],
   "source": [
    "df.tail()"
   ]
  },
  {
   "cell_type": "code",
   "execution_count": 21,
   "metadata": {
    "collapsed": false
   },
   "outputs": [
    {
     "data": {
      "text/plain": [
       "Index(['phase', 'cycle_orbit', 'mode', 'channel', 'level', 'version', 'revision'], dtype='object')"
      ]
     },
     "execution_count": 21,
     "metadata": {},
     "output_type": "execute_result"
    }
   ],
   "source": []
  },
  {
   "cell_type": "code",
   "execution_count": 118,
   "metadata": {
    "collapsed": false
   },
   "outputs": [],
   "source": [
    "all_headers = open('all_headers.txt', 'w')\n",
    "for i, hdu in enumerate(ds.hdulist):\n",
    "    all_headers.write('----HDU: {0} \\n\\r'.format(i))\n",
    "    all_headers.write(repr(hdu.header))\n",
    "    all_headers.write('\\n\\r')\n",
    "all_headers.close()"
   ]
  },
  {
   "cell_type": "code",
   "execution_count": 20,
   "metadata": {
    "collapsed": false
   },
   "outputs": [
    {
     "ename": "NameError",
     "evalue": "name 'ds' is not defined",
     "output_type": "error",
     "traceback": [
      "\u001b[1;31m---------------------------------------------------------------------------\u001b[0m",
      "\u001b[1;31mNameError\u001b[0m                                 Traceback (most recent call last)",
      "\u001b[1;32m<ipython-input-20-5c509f8d2e1a>\u001b[0m in \u001b[0;36m<module>\u001b[1;34m()\u001b[0m\n\u001b[1;32m----> 1\u001b[1;33m \u001b[0mds\u001b[0m\u001b[1;33m.\u001b[0m\u001b[0mimg_header\u001b[0m\u001b[1;33m[\u001b[0m\u001b[1;34m'MIR_DEG'\u001b[0m\u001b[1;33m]\u001b[0m\u001b[1;33m\u001b[0m\u001b[0m\n\u001b[0m",
      "\u001b[1;31mNameError\u001b[0m: name 'ds' is not defined"
     ]
    }
   ],
   "source": [
    "ds.img_header['MIR_DEG']"
   ]
  },
  {
   "cell_type": "code",
   "execution_count": 120,
   "metadata": {
    "collapsed": false
   },
   "outputs": [
    {
     "data": {
      "text/html": [
       "<div style=\"max-height:1000px;max-width:1500px;overflow:auto;\">\n",
       "<table border=\"1\" class=\"dataframe\">\n",
       "  <thead>\n",
       "    <tr style=\"text-align: right;\">\n",
       "      <th></th>\n",
       "      <th>0</th>\n",
       "    </tr>\n",
       "  </thead>\n",
       "  <tbody>\n",
       "    <tr>\n",
       "      <th>TIMESTAMP</th>\n",
       "      <td>                      4.571548e+08</td>\n",
       "    </tr>\n",
       "    <tr>\n",
       "      <th>ET</th>\n",
       "      <td>                      4.571549e+08</td>\n",
       "    </tr>\n",
       "    <tr>\n",
       "      <th>UTC</th>\n",
       "      <td> 2014/178 Jun 27 15:27:14.55413UTC</td>\n",
       "    </tr>\n",
       "    <tr>\n",
       "      <th>MIRROR_DN</th>\n",
       "      <td>                             29322</td>\n",
       "    </tr>\n",
       "    <tr>\n",
       "      <th>MIRROR_DEG</th>\n",
       "      <td>                          44.99725</td>\n",
       "    </tr>\n",
       "    <tr>\n",
       "      <th>FOV_DEG</th>\n",
       "      <td>                          89.99451</td>\n",
       "    </tr>\n",
       "    <tr>\n",
       "      <th>LYA_CENTROID</th>\n",
       "      <td>                             65535</td>\n",
       "    </tr>\n",
       "  </tbody>\n",
       "</table>\n",
       "</div>"
      ],
      "text/plain": [
       "                                              0\n",
       "TIMESTAMP                          4.571548e+08\n",
       "ET                                 4.571549e+08\n",
       "UTC           2014/178 Jun 27 15:27:14.55413UTC\n",
       "MIRROR_DN                                 29322\n",
       "MIRROR_DEG                             44.99725\n",
       "FOV_DEG                                89.99451\n",
       "LYA_CENTROID                              65535"
      ]
     },
     "execution_count": 120,
     "metadata": {},
     "output_type": "execute_result"
    }
   ],
   "source": [
    "ds.integration.data"
   ]
  },
  {
   "cell_type": "code",
   "execution_count": 126,
   "metadata": {
    "collapsed": false
   },
   "outputs": [],
   "source": [
    "import glob\n",
    "fnames = glob.glob(root+'/*.fits.gz')"
   ]
  },
  {
   "cell_type": "code",
   "execution_count": 132,
   "metadata": {
    "collapsed": false
   },
   "outputs": [],
   "source": [
    "from IPython import parallel\n",
    "rc = parallel.Client()"
   ]
  },
  {
   "cell_type": "code",
   "execution_count": 133,
   "metadata": {
    "collapsed": false
   },
   "outputs": [],
   "source": [
    "dview = rc.direct_view()"
   ]
  },
  {
   "cell_type": "code",
   "execution_count": 134,
   "metadata": {
    "collapsed": false
   },
   "outputs": [],
   "source": [
    "lview = rc.load_balanced_view()"
   ]
  },
  {
   "cell_type": "code",
   "execution_count": 140,
   "metadata": {
    "collapsed": false
   },
   "outputs": [],
   "source": [
    "%%px \n",
    "key_errors=[]\n",
    "results = []"
   ]
  },
  {
   "cell_type": "code",
   "execution_count": 188,
   "metadata": {
    "collapsed": false
   },
   "outputs": [],
   "source": [
    "def find_big_deltas(fname):\n",
    "    fitsdata = IUVSReader(fname)\n",
    "    mir_deg1 = fitsdata.img_header['MIR_DEG']\n",
    "    mir_deg2 = fitsdata.integration.data.get_value('MIRROR_DEG', 0)\n",
    "    return mir_deg1/mir_deg2"
   ]
  },
  {
   "cell_type": "code",
   "execution_count": 189,
   "metadata": {
    "collapsed": false
   },
   "outputs": [
    {
     "name": "stdout",
     "output_type": "stream",
     "text": [
      "0.0\n",
      "0.01\n",
      "0.02\n",
      "0.03\n",
      "0.04\n",
      "0.05\n",
      "0.06\n",
      "0.07\n",
      "0.08\n",
      "0.09\n",
      "0.1\n",
      "0.11\n",
      "0.12\n",
      "0.13\n",
      "0.14\n",
      "0.15\n",
      "0.16\n",
      "0.17\n",
      "0.18\n",
      "0.19\n",
      "0.2\n",
      "0.21\n",
      "0.22\n",
      "0.23\n",
      "0.24\n",
      "0.25\n",
      "0.26\n",
      "0.27\n",
      "0.28\n",
      "0.29\n",
      "0.3\n",
      "0.31\n",
      "0.32\n",
      "0.33\n",
      "0.34\n",
      "0.35\n",
      "0.36\n",
      "0.37\n",
      "0.38\n",
      "0.39\n",
      "0.4\n",
      "0.41\n",
      "0.42\n",
      "0.43\n",
      "0.44\n",
      "0.45\n",
      "0.46\n",
      "0.47\n",
      "0.48\n",
      "0.49\n",
      "0.5\n",
      "0.51\n",
      "0.52\n",
      "0.53\n",
      "0.54\n",
      "0.55\n",
      "0.56\n",
      "0.57\n",
      "0.58\n",
      "0.59\n",
      "0.6\n",
      "0.61\n",
      "/maven_iuvs/stage/products/level1a/mvn_iuv_l1a_IPH1-cycle00023-mode060-fuv_20140410T141518_v00_r00.fits.gz\n",
      "0.62\n",
      "/maven_iuvs/stage/products/level1a/mvn_iuv_l1a_IPH2-cycle00203-mode060-muv_20140630T035343_v00_r00.fits.gz\n",
      "0.63\n",
      "0.64\n",
      "0.65\n",
      "0.66\n",
      "0.67\n",
      "0.68\n",
      "0.69\n",
      "0.7\n",
      "0.71\n",
      "0.72\n",
      "0.73\n",
      "0.74\n",
      "0.75\n",
      "0.76\n",
      "0.77\n",
      "0.78\n",
      "0.79\n",
      "0.8\n",
      "0.81\n",
      "0.82\n",
      "0.83\n",
      "0.84\n",
      "0.85\n",
      "0.86\n",
      "0.87\n",
      "0.88\n",
      "0.89\n",
      "0.9\n",
      "0.91\n",
      "0.92\n",
      "0.93\n",
      "0.94\n",
      "0.95\n",
      "0.96\n",
      "0.97\n",
      "0.98\n",
      "0.99\n"
     ]
    }
   ],
   "source": [
    "ratios = []\n",
    "n = 100\n",
    "for i,fname in enumerate(fnames[:n]):\n",
    "    print(i/n)\n",
    "    ratio = find_big_deltas(fname)\n",
    "    if abs(ratio) > 2:\n",
    "        print(fname)\n",
    "    ratios.append(ratio)"
   ]
  },
  {
   "cell_type": "code",
   "execution_count": 184,
   "metadata": {
    "collapsed": false
   },
   "outputs": [
    {
     "data": {
      "text/plain": [
       "count    100.000000\n",
       "mean       0.798660\n",
       "std        1.421604\n",
       "min       -9.102222\n",
       "25%        1.000058\n",
       "50%        1.000071\n",
       "75%        1.002890\n",
       "max        1.011358\n",
       "dtype: float64"
      ]
     },
     "execution_count": 184,
     "metadata": {},
     "output_type": "execute_result"
    }
   ],
   "source": []
  },
  {
   "cell_type": "code",
   "execution_count": 190,
   "metadata": {
    "collapsed": false
   },
   "outputs": [],
   "source": [
    "ds = IUVSReader('/maven_iuvs/stage/products/level1a/mvn_iuv_l1a_IPH1-cycle00023-mode060-fuv_20140410T141518_v00_r00.fits.gz')"
   ]
  },
  {
   "cell_type": "code",
   "execution_count": 196,
   "metadata": {
    "collapsed": false
   },
   "outputs": [
    {
     "data": {
      "text/plain": [
       "-0.025"
      ]
     },
     "execution_count": 196,
     "metadata": {},
     "output_type": "execute_result"
    }
   ],
   "source": [
    "ds.img_header['MIR_DEG']"
   ]
  },
  {
   "cell_type": "code",
   "execution_count": 193,
   "metadata": {
    "collapsed": false
   },
   "outputs": [],
   "source": [
    "df = ds.integration.data"
   ]
  },
  {
   "cell_type": "code",
   "execution_count": 194,
   "metadata": {
    "collapsed": false
   },
   "outputs": [
    {
     "data": {
      "text/plain": [
       "0.00274658203125"
      ]
     },
     "execution_count": 194,
     "metadata": {},
     "output_type": "execute_result"
    }
   ],
   "source": [
    "df.get_value('MIRROR_DEG', 0)"
   ]
  },
  {
   "cell_type": "code",
   "execution_count": 195,
   "metadata": {
    "collapsed": false
   },
   "outputs": [
    {
     "data": {
      "text/plain": [
       "[1.011358024691358,\n",
       " 1.0000610388817677,\n",
       " 0.9954787585092881,\n",
       " 1.0000741804419213,\n",
       " 1.0000610388817677,\n",
       " 1.011358024691358,\n",
       " 1.0000610388817677,\n",
       " 1.011358024691358,\n",
       " 1.011358024691358,\n",
       " 1.0000956122562226,\n",
       " 1.0000610388817677,\n",
       " 0.9102222222222223,\n",
       " 1.0004109076109076,\n",
       " 1.011358024691358,\n",
       " 1.0000426922721817,\n",
       " 1.0000426922721817,\n",
       " 1.0000610388817677,\n",
       " 1.0057704112952732,\n",
       " 1.0000610388817677,\n",
       " 1.0000610388817677,\n",
       " 1.0000737973674572,\n",
       " 0.9102222222222223,\n",
       " 1.011358024691358,\n",
       " 1.011358024691358,\n",
       " 1.000043535246735,\n",
       " 1.0000426922721817,\n",
       " 1.0000610388817677,\n",
       " 0.9996287972144013,\n",
       " 1.0000592110319881,\n",
       " 1.011358024691358,\n",
       " 1.0000610388817677,\n",
       " 1.0002442002442002,\n",
       " 1.0002442002442002,\n",
       " 1.000454473374049,\n",
       " 1.0000610388817677,\n",
       " 1.0000610388817677,\n",
       " 1.0000610388817677,\n",
       " 1.0000411445128576,\n",
       " 1.0008275487701441,\n",
       " 1.011358024691358,\n",
       " 0.99544339497682,\n",
       " 0.9996287972144013,\n",
       " 0.9996287972144013,\n",
       " 1.0000610388817677,\n",
       " 1.0000610388817677,\n",
       " 1.000092264416315,\n",
       " 1.000454473374049,\n",
       " 1.011358024691358,\n",
       " 1.000043535246735,\n",
       " 1.011358024691358,\n",
       " 1.000092264416315,\n",
       " 1.011358024691358,\n",
       " 1.0000610388817677,\n",
       " 1.011358024691358,\n",
       " 1.011358024691358,\n",
       " 1.0005406643757158,\n",
       " 1.0000610388817677,\n",
       " 1.011358024691358,\n",
       " 0.99544339497682,\n",
       " 0.9991679126788259,\n",
       " 1.011358024691358,\n",
       " -9.102222222222222,\n",
       " -9.102222222222222,\n",
       " 1.0000516802366892,\n",
       " 1.0000737973674572,\n",
       " 1.0000956122562226,\n",
       " 1.011358024691358,\n",
       " 1.0024463223787168,\n",
       " 1.000593928287826,\n",
       " 1.0000737973674572,\n",
       " 1.0000610388817677,\n",
       " 1.000052647159285,\n",
       " 1.0057704112952732,\n",
       " 1.0000741804419213,\n",
       " 1.0039033214324353,\n",
       " 1.0000741804419213,\n",
       " 1.0000674622750414,\n",
       " 1.0000737973674572,\n",
       " 1.011358024691358,\n",
       " 1.0000426922721817,\n",
       " 1.0000610388817677,\n",
       " 1.000043535246735,\n",
       " 1.0000610388817677,\n",
       " 1.0057704112952732,\n",
       " 0.9989009268795056,\n",
       " 1.0000610388817677,\n",
       " 1.0000674622750414,\n",
       " 1.0000741804419213,\n",
       " 1.0000610388817677,\n",
       " 1.0057704112952732,\n",
       " 1.000043535246735,\n",
       " 1.0000610388817677,\n",
       " 1.000052647159285,\n",
       " 1.0000956122562226,\n",
       " 1.011358024691358,\n",
       " 1.011358024691358,\n",
       " 1.0000426922721817,\n",
       " 1.0000741804419213,\n",
       " 1.002552419840335,\n",
       " 1.000454473374049]"
      ]
     },
     "execution_count": 195,
     "metadata": {},
     "output_type": "execute_result"
    }
   ],
   "source": [
    "ratios"
   ]
  },
  {
   "cell_type": "code",
   "execution_count": 202,
   "metadata": {
    "collapsed": false
   },
   "outputs": [
    {
     "data": {
      "text/plain": [
       "count    100.000000\n",
       "mean       0.798660\n",
       "std        1.421604\n",
       "min       -9.102222\n",
       "25%        1.000058\n",
       "50%        1.000071\n",
       "75%        1.002890\n",
       "max        1.011358\n",
       "dtype: float64"
      ]
     },
     "execution_count": 202,
     "metadata": {},
     "output_type": "execute_result"
    }
   ],
   "source": [
    "pd.Series(ratios).describe()"
   ]
  },
  {
   "cell_type": "code",
   "execution_count": 203,
   "metadata": {
    "collapsed": false
   },
   "outputs": [
    {
     "data": {
      "text/plain": [
       "1.0000706298212494"
      ]
     },
     "execution_count": 203,
     "metadata": {},
     "output_type": "execute_result"
    }
   ],
   "source": [
    "pd.Series(ratios).median()"
   ]
  }
 ],
 "metadata": {
  "kernelspec": {
   "display_name": "Python 3",
   "name": "python3"
  },
  "language_info": {
   "codemirror_mode": {
    "name": "ipython",
    "version": 3
   },
   "file_extension": ".py",
   "mimetype": "text/x-python",
   "name": "python",
   "nbconvert_exporter": "python",
   "pygments_lexer": "ipython3",
   "version": "3.4.2"
  }
 },
 "nbformat": 4,
 "nbformat_minor": 0
}