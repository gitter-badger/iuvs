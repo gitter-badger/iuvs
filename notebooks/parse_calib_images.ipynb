{
 "cells": [
  {
   "cell_type": "code",
   "execution_count": 1,
   "metadata": {
    "collapsed": true
   },
   "outputs": [],
   "source": [
    "fname = '/Users/maye/Dropbox/DDocuments/IUVS/IUVS_Calibrationdb.txt'"
   ]
  },
  {
   "cell_type": "code",
   "execution_count": 2,
   "metadata": {
    "collapsed": true
   },
   "outputs": [],
   "source": [
    "import pandas as pd"
   ]
  },
  {
   "cell_type": "code",
   "execution_count": 3,
   "metadata": {
    "collapsed": false
   },
   "outputs": [],
   "source": [
    "df = pd.read_csv(fname)"
   ]
  },
  {
   "cell_type": "code",
   "execution_count": 4,
   "metadata": {
    "collapsed": false
   },
   "outputs": [],
   "source": [
    "df.columns = [i.strip() for i in df.columns]"
   ]
  },
  {
   "cell_type": "code",
   "execution_count": 5,
   "metadata": {
    "collapsed": false
   },
   "outputs": [
    {
     "data": {
      "text/plain": [
       "RelativeRadiometricCal_20121012    13865\n",
       "FuV_Calibration_PPol_20120828       3928\n",
       "RelativeRadiometricCal_20120924     3242\n",
       "FUV_Calibration_SPol_20120910       2222\n",
       "MUV_Calibration_SPol_20120917        557\n",
       "MUV_Calibration_PPol_20120920        542\n",
       "MUV_Calibration_PPol_20121003        363\n",
       "FuV_Calibration_PPol_20121007        239\n",
       "dtype: int64"
      ]
     },
     "execution_count": 5,
     "metadata": {},
     "output_type": "execute_result"
    }
   ],
   "source": [
    "import os\n",
    "def splitup(s):\n",
    "    return s.split(\"\\\\\")[7]\n",
    "                   \n",
    "df.Directory.map(splitup).value_counts()"
   ]
  },
  {
   "cell_type": "code",
   "execution_count": 6,
   "metadata": {
    "collapsed": false
   },
   "outputs": [
    {
     "name": "stdout",
     "output_type": "stream",
     "text": [
      "<class 'pandas.core.frame.DataFrame'>\n",
      "Int64Index: 24958 entries, 0 to 24957\n",
      "Data columns (total 13 columns):\n",
      "FileName               24958 non-null object\n",
      "Directory              24958 non-null object\n",
      "Channel                24958 non-null object\n",
      "TimeStamp              24958 non-null object\n",
      "MCPSetVoltage(V)       24958 non-null int64\n",
      "Integration(ms)        24958 non-null int64\n",
      "ImageNumber            24958 non-null int64\n",
      "MCPReadVoltage(kV)     24958 non-null float64\n",
      "PhosphorVoltage(kV)    24958 non-null float64\n",
      "IITemp(C)              24958 non-null float64\n",
      "DetTemp(C)             24958 non-null float64\n",
      "CMOSTemp(C)            24958 non-null float64\n",
      "BlackOffset(V)         24958 non-null float64\n",
      "dtypes: float64(6), int64(3), object(4)\n",
      "memory usage: 2.7+ MB\n"
     ]
    }
   ],
   "source": [
    "df.info()"
   ]
  },
  {
   "cell_type": "code",
   "execution_count": 7,
   "metadata": {
    "collapsed": false
   },
   "outputs": [
    {
     "data": {
      "text/plain": [
       "Index(['FileName', 'Directory', 'Channel', 'TimeStamp', 'MCPSetVoltage(V)', 'Integration(ms)', 'ImageNumber', 'MCPReadVoltage(kV)', 'PhosphorVoltage(kV)', 'IITemp(C)', 'DetTemp(C)', 'CMOSTemp(C)', 'BlackOffset(V)'], dtype='object')"
      ]
     },
     "execution_count": 7,
     "metadata": {},
     "output_type": "execute_result"
    }
   ],
   "source": [
    "df.columns"
   ]
  },
  {
   "cell_type": "code",
   "execution_count": 8,
   "metadata": {
    "collapsed": false
   },
   "outputs": [
    {
     "name": "stdout",
     "output_type": "stream",
     "text": [
      "Populating the interactive namespace from numpy and matplotlib\n"
     ]
    }
   ],
   "source": [
    "%pylab qt"
   ]
  },
  {
   "cell_type": "code",
   "execution_count": 9,
   "metadata": {
    "collapsed": false
   },
   "outputs": [
    {
     "data": {
      "text/plain": [
       "<matplotlib.axes._subplots.AxesSubplot at 0x114135f60>"
      ]
     },
     "execution_count": 9,
     "metadata": {},
     "output_type": "execute_result"
    }
   ],
   "source": [
    "df['MCPSetVoltage(V)'].plot(kind='pie')"
   ]
  },
  {
   "cell_type": "code",
   "execution_count": 11,
   "metadata": {
    "collapsed": false
   },
   "outputs": [
    {
     "name": "stdout",
     "output_type": "stream",
     "text": [
      "Object `cut` not found.\n"
     ]
    }
   ],
   "source": [
    "df['MCPSetVoltage(V)'].cut?"
   ]
  },
  {
   "cell_type": "code",
   "execution_count": 14,
   "metadata": {
    "collapsed": true
   },
   "outputs": [],
   "source": [
    "setvolts = df['MCPSetVoltage(V)']"
   ]
  },
  {
   "cell_type": "code",
   "execution_count": 18,
   "metadata": {
    "collapsed": false
   },
   "outputs": [
    {
     "data": {
      "text/plain": [
       "0     (658, 742]\n",
       "1     (658, 742]\n",
       "2     (658, 742]\n",
       "3     (658, 742]\n",
       "4     (658, 742]\n",
       "5     (658, 742]\n",
       "6     (826, 910]\n",
       "7     (826, 910]\n",
       "8     (826, 910]\n",
       "9     (826, 910]\n",
       "10    (826, 910]\n",
       "11    (826, 910]\n",
       "12    (826, 910]\n",
       "13    (826, 910]\n",
       "14    (826, 910]\n",
       "...\n",
       "24943    (69.16, 154]\n",
       "24944    (69.16, 154]\n",
       "24945    (69.16, 154]\n",
       "24946    (69.16, 154]\n",
       "24947    (69.16, 154]\n",
       "24948    (69.16, 154]\n",
       "24949    (69.16, 154]\n",
       "24950    (69.16, 154]\n",
       "24951      (826, 910]\n",
       "24952      (826, 910]\n",
       "24953      (826, 910]\n",
       "24954      (826, 910]\n",
       "24955      (826, 910]\n",
       "24956      (826, 910]\n",
       "24957      (826, 910]\n",
       "Name: MCPSetVoltage(V), Length: 24958, dtype: category\n",
       "Categories (10, object): [(69.16, 154] < (154, 238] < (238, 322] < (322, 406] ... (574, 658] < (658, 742] < (742, 826] < (826, 910]]"
      ]
     },
     "execution_count": 18,
     "metadata": {},
     "output_type": "execute_result"
    }
   ],
   "source": [
    "pd.cut(setvolts, 10)"
   ]
  },
  {
   "cell_type": "code",
   "execution_count": null,
   "metadata": {
    "collapsed": true
   },
   "outputs": [],
   "source": []
  }
 ],
 "metadata": {
  "kernelspec": {
   "display_name": "Python 3",
   "language": "python",
   "name": "python3"
  },
  "language_info": {
   "codemirror_mode": {
    "name": "ipython",
    "version": 3
   },
   "file_extension": ".py",
   "mimetype": "text/x-python",
   "name": "python",
   "nbconvert_exporter": "python",
   "pygments_lexer": "ipython3",
   "version": "3.4.2"
  }
 },
 "nbformat": 4,
 "nbformat_minor": 0
}
