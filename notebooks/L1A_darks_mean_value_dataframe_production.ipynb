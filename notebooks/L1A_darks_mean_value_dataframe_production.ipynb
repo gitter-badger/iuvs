{
 "cells": [
  {
   "cell_type": "code",
   "execution_count": 1,
   "metadata": {
    "collapsed": false
   },
   "outputs": [],
   "source": [
    "%load_ext autoreload\n",
    "%autoreload 2"
   ]
  },
  {
   "cell_type": "code",
   "execution_count": 1,
   "metadata": {
    "collapsed": true
   },
   "outputs": [],
   "source": [
    "from iuvs import io"
   ]
  },
  {
   "cell_type": "code",
   "execution_count": 57,
   "metadata": {
    "collapsed": true
   },
   "outputs": [],
   "source": [
    "darks = io.l1a_filenames('-?uvdark')"
   ]
  },
  {
   "cell_type": "code",
   "execution_count": 3,
   "metadata": {
    "collapsed": true
   },
   "outputs": [],
   "source": [
    "from IPython.parallel import Client\n",
    "c = Client()"
   ]
  },
  {
   "cell_type": "code",
   "execution_count": 4,
   "metadata": {
    "collapsed": true
   },
   "outputs": [],
   "source": [
    "dview = c.direct_view()\n",
    "lview = c.load_balanced_view()"
   ]
  },
  {
   "cell_type": "code",
   "execution_count": 12,
   "metadata": {
    "collapsed": false
   },
   "outputs": [],
   "source": [
    "%%px\n",
    "from iuvs import io\n",
    "import pandas as pd"
   ]
  },
  {
   "cell_type": "code",
   "execution_count": 30,
   "metadata": {
    "collapsed": true
   },
   "outputs": [],
   "source": [
    "def process_fname(fname):\n",
    "    import pandas as pd\n",
    "    from iuvs import io\n",
    "    import numpy as np\n",
    "    l1a = io.L1AReader(fname)\n",
    "    header_df = io.get_header_df(l1a.hdulist[0]).T.convert_objects()\n",
    "    if not hasattr(header_df, 'NAXIS3'):\n",
    "        header_df['NAXIS3'] = np.nan\n",
    "    header_df.drop(['XUV', 'OBS_ID', 'INT_TIME'], axis=1, inplace=True)\n",
    "    df = pd.concat([header_df,\n",
    "                    l1a.Engineering.T.convert_objects(),],\n",
    "                   axis=1)\n",
    "    df['dark_mean'] = l1a.img.mean()\n",
    "    if df.size != 61:\n",
    "        return (df, False)\n",
    "    else:\n",
    "        savepath = io.save_to_hdf(df, fname, 'l1a_dark_scans')\n",
    "        return (df, True)"
   ]
  },
  {
   "cell_type": "code",
   "execution_count": 42,
   "metadata": {
    "collapsed": false
   },
   "outputs": [],
   "source": [
    "results = lview.map_async(process_fname, darks)"
   ]
  },
  {
   "cell_type": "code",
   "execution_count": 44,
   "metadata": {
    "collapsed": false
   },
   "outputs": [
    {
     "name": "stdout",
     "output_type": "stream",
     "text": [
      "91.94331197825665\n",
      "93.57406328868181\n",
      "95.5154338963308\n",
      "97.25296059017667\n",
      "98.67016113376043\n",
      "99.6990875558144\n"
     ]
    }
   ],
   "source": [
    "import time\n",
    "while not results.ready():\n",
    "    print(100*results.progress/len(darks))\n",
    "    time.sleep(10)"
   ]
  },
  {
   "cell_type": "code",
   "execution_count": 1,
   "metadata": {
    "collapsed": true
   },
   "outputs": [],
   "source": [
    "import pandas as pd"
   ]
  },
  {
   "cell_type": "code",
   "execution_count": 2,
   "metadata": {
    "collapsed": true
   },
   "outputs": [],
   "source": [
    "import glob\n",
    "h5fnames = glob.glob(\"/home/klay6683/output/l1a_dark_scans/*.h5\")"
   ]
  },
  {
   "cell_type": "code",
   "execution_count": 3,
   "metadata": {
    "collapsed": false
   },
   "outputs": [
    {
     "data": {
      "text/plain": [
       "9769"
      ]
     },
     "execution_count": 3,
     "metadata": {},
     "output_type": "execute_result"
    }
   ],
   "source": [
    "len(h5fnames)"
   ]
  },
  {
   "cell_type": "code",
   "execution_count": 18,
   "metadata": {
    "collapsed": true
   },
   "outputs": [],
   "source": [
    "def chunker(seq, size):\n",
    "    return (seq[pos:pos + size] for pos in range(0, len(seq), size))"
   ]
  },
  {
   "cell_type": "code",
   "execution_count": 36,
   "metadata": {
    "collapsed": false
   },
   "outputs": [
    {
     "name": "stdout",
     "output_type": "stream",
     "text": [
      "Chunk 0\n",
      "Chunk 1\n",
      "Chunk 2\n",
      "Chunk 3\n",
      "Chunk 4\n",
      "Chunk 5\n",
      "Chunk 6\n",
      "Chunk 7\n",
      "Chunk 8\n",
      "Chunk 9\n",
      "Chunk 10\n",
      "Chunk 11\n",
      "Chunk 12\n",
      "Chunk 13\n",
      "Chunk 14\n",
      "Chunk 15\n",
      "Chunk 16\n",
      "Chunk 17\n",
      "Chunk 18\n",
      "Chunk 19\n",
      "Chunk 20\n",
      "Chunk 21\n",
      "Chunk 22\n",
      "Chunk 23\n",
      "Chunk 24\n",
      "Chunk 25\n",
      "Chunk 26\n",
      "Chunk 27\n",
      "Chunk 28\n",
      "Chunk 29\n",
      "Chunk 30\n",
      "Chunk 31\n",
      "Chunk 32\n",
      "Chunk 33\n",
      "Chunk 34\n",
      "Chunk 35\n",
      "Chunk 36\n",
      "Chunk 37\n",
      "Chunk 38\n",
      "Chunk 39\n",
      "Chunk 40\n",
      "Chunk 41\n",
      "Chunk 42\n",
      "Chunk 43\n",
      "Chunk 44\n",
      "Chunk 45\n",
      "Chunk 46\n",
      "Chunk 47\n",
      "Chunk 48\n"
     ]
    }
   ],
   "source": [
    "dfs = []\n",
    "for i,chunk in enumerate(chunker(h5fnames, 200)):\n",
    "    print(\"Chunk {}\".format(i))\n",
    "    frames = []\n",
    "    for fname in chunk:\n",
    "        frames.append(pd.read_hdf(fname, 'df'))\n",
    "    dfs.append(pd.concat(frames, ignore_index=True))"
   ]
  },
  {
   "cell_type": "code",
   "execution_count": 37,
   "metadata": {
    "collapsed": false
   },
   "outputs": [],
   "source": [
    "superdf = pd.concat(dfs, ignore_index=True)"
   ]
  },
  {
   "cell_type": "code",
   "execution_count": 38,
   "metadata": {
    "collapsed": false
   },
   "outputs": [
    {
     "name": "stdout",
     "output_type": "stream",
     "text": [
      "<class 'pandas.core.frame.DataFrame'>\n",
      "Int64Index: 9769 entries, 0 to 9768\n",
      "Data columns (total 61 columns):\n",
      "AVERAGE               9769 non-null float64\n",
      "BIN_SHIFT             9769 non-null int64\n",
      "BIN_SHIFT_DIR         9769 non-null int64\n",
      "BIN_TBL               9769 non-null object\n",
      "BIN_TYPE              9769 non-null object\n",
      "BIN_X_ROW             9769 non-null int64\n",
      "BIN_Y_ROW             9769 non-null int64\n",
      "BITPIX                9769 non-null int64\n",
      "BLANK                 9769 non-null int64\n",
      "CADENCE               9769 non-null float64\n",
      "CAPTURE               9769 non-null object\n",
      "CASE_TEMP             9769 non-null float64\n",
      "CHECKSUM              9769 non-null float64\n",
      "DATA_COMPRESSION      9769 non-null int64\n",
      "DET_TEMP              9769 non-null float64\n",
      "EXTEND                9769 non-null bool\n",
      "FILENAME              9769 non-null object\n",
      "FUV_BAD_PIXEL_MASK    9769 non-null int64\n",
      "IMAGE_NUMBER          9769 non-null float64\n",
      "INT_TIME              9769 non-null float64\n",
      "LENGTH                9769 non-null float64\n",
      "MCP_GAIN              9769 non-null float64\n",
      "MCP_VOLT              9769 non-null float64\n",
      "MIRROR_POS            9769 non-null float64\n",
      "MIR_DEG               9769 non-null float64\n",
      "MODE                  9769 non-null object\n",
      "MUV_BAD_PIXEL_MASK    9769 non-null int64\n",
      "NAXIS                 9769 non-null int64\n",
      "NAXIS1                9769 non-null int64\n",
      "NAXIS2                9769 non-null int64\n",
      "NAXIS3                2432 non-null float64\n",
      "NUMBER                9769 non-null float64\n",
      "N_FILL                9769 non-null int64\n",
      "OBS_ID                9769 non-null float64\n",
      "ON_CHIP_WINDOWING     9769 non-null int64\n",
      "PROCESS               9769 non-null object\n",
      "SCAN_MODE             9769 non-null object\n",
      "SCI_ERR_FLAGS         9769 non-null int64\n",
      "SCI_PKT_CKSUM         9769 non-null int64\n",
      "SCI_SEG_LENGTH        9769 non-null float64\n",
      "SCI_SEG_NUM           9769 non-null float64\n",
      "SCI_SEG_TOTAL         9769 non-null float64\n",
      "SET_TOTAL             9769 non-null float64\n",
      "SHUTTER_NUM           9769 non-null int64\n",
      "SHUTTER_OFF           9769 non-null float64\n",
      "SHUTTER_ON            9769 non-null float64\n",
      "SIMPLE                9769 non-null bool\n",
      "SPA_OFS               9769 non-null int64\n",
      "SPA_SIZE              9769 non-null int64\n",
      "SPE_OFS               9769 non-null int64\n",
      "SPE_SIZE              9769 non-null int64\n",
      "START_TIME            9769 non-null float64\n",
      "START_TIME__SUB       9769 non-null float64\n",
      "STEP_INT              9769 non-null int64\n",
      "STEP_NUM              9769 non-null float64\n",
      "STEP_SIZE             9769 non-null int64\n",
      "SW_VER                9769 non-null object\n",
      "TEST_PATTERN          9769 non-null int64\n",
      "TIME_FLAG             9769 non-null object\n",
      "XUV                   9769 non-null object\n",
      "dark_mean             9730 non-null float64\n",
      "dtypes: bool(2), float64(25), int64(24), object(10)\n",
      "memory usage: 4.5+ MB\n"
     ]
    }
   ],
   "source": [
    "superdf.info()"
   ]
  },
  {
   "cell_type": "code",
   "execution_count": 39,
   "metadata": {
    "collapsed": true
   },
   "outputs": [],
   "source": [
    "superdf.to_hdf('/home/klay6683/output/l1a_dark_stats.h5','df')"
   ]
  },
  {
   "cell_type": "code",
   "execution_count": null,
   "metadata": {
    "collapsed": true
   },
   "outputs": [],
   "source": []
  }
 ],
 "metadata": {
  "kernelspec": {
   "display_name": "Python 3",
   "language": "python",
   "name": "python3"
  },
  "language_info": {
   "codemirror_mode": {
    "name": "ipython",
    "version": 3
   },
   "file_extension": ".py",
   "mimetype": "text/x-python",
   "name": "python",
   "nbconvert_exporter": "python",
   "pygments_lexer": "ipython3",
   "version": "3.4.2"
  }
 },
 "nbformat": 4,
 "nbformat_minor": 0
}
