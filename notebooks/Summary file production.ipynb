{
 "cells": [
  {
   "cell_type": "code",
   "execution_count": 1,
   "metadata": {
    "collapsed": false
   },
   "outputs": [],
   "source": [
    "from iuvs import io"
   ]
  },
  {
   "cell_type": "code",
   "execution_count": 2,
   "metadata": {
    "collapsed": false
   },
   "outputs": [
    {
     "ename": "TypeError",
     "evalue": "l1a_filenames() missing 1 required positional argument: 'pattern'",
     "output_type": "error",
     "traceback": [
      "\u001b[1;31m---------------------------------------------------------------------------\u001b[0m",
      "\u001b[1;31mTypeError\u001b[0m                                 Traceback (most recent call last)",
      "\u001b[1;32m<ipython-input-2-579f7e4cd999>\u001b[0m in \u001b[0;36m<module>\u001b[1;34m()\u001b[0m\n\u001b[0;32m      1\u001b[0m \u001b[0miuvs_fnames\u001b[0m \u001b[1;33m=\u001b[0m \u001b[1;33m[\u001b[0m\u001b[1;33m]\u001b[0m\u001b[1;33m\u001b[0m\u001b[0m\n\u001b[1;32m----> 2\u001b[1;33m \u001b[1;32mfor\u001b[0m \u001b[0mfname\u001b[0m \u001b[1;32min\u001b[0m \u001b[0mio\u001b[0m\u001b[1;33m.\u001b[0m\u001b[0ml1a_filenames\u001b[0m\u001b[1;33m(\u001b[0m\u001b[1;33m)\u001b[0m\u001b[1;33m:\u001b[0m\u001b[1;33m\u001b[0m\u001b[0m\n\u001b[0m\u001b[0;32m      3\u001b[0m     \u001b[0miuvs_fnames\u001b[0m\u001b[1;33m.\u001b[0m\u001b[0mappend\u001b[0m\u001b[1;33m(\u001b[0m\u001b[0mio\u001b[0m\u001b[1;33m.\u001b[0m\u001b[0mFilename\u001b[0m\u001b[1;33m(\u001b[0m\u001b[0mfname\u001b[0m\u001b[1;33m)\u001b[0m\u001b[1;33m)\u001b[0m\u001b[1;33m\u001b[0m\u001b[0m\n",
      "\u001b[1;31mTypeError\u001b[0m: l1a_filenames() missing 1 required positional argument: 'pattern'"
     ]
    }
   ],
   "source": [
    "iuvs_fnames = []\n",
    "for fname in io.l1a_filenames():\n",
    "    iuvs_fnames.append(io.Filename(fname))"
   ]
  },
  {
   "cell_type": "code",
   "execution_count": 3,
   "metadata": {
    "collapsed": false
   },
   "outputs": [],
   "source": [
    "import pandas as pd"
   ]
  },
  {
   "cell_type": "code",
   "execution_count": 4,
   "metadata": {
    "collapsed": true
   },
   "outputs": [],
   "source": [
    "s = pd.Series(iuvs_fnames)"
   ]
  },
  {
   "cell_type": "code",
   "execution_count": 5,
   "metadata": {
    "collapsed": false
   },
   "outputs": [],
   "source": [
    "df = pd.DataFrame()"
   ]
  },
  {
   "cell_type": "code",
   "execution_count": 6,
   "metadata": {
    "collapsed": false
   },
   "outputs": [],
   "source": [
    "for item in ['basename','phase', 'cycle_orbit', 'mode', 'channel', 'time', 'level', 'version', 'revision']:\n",
    "    df[item] = s.map(lambda x: getattr(x, item))"
   ]
  },
  {
   "cell_type": "code",
   "execution_count": 7,
   "metadata": {
    "collapsed": false
   },
   "outputs": [],
   "source": [
    "df['channel']=df.channel.astype('category')"
   ]
  },
  {
   "cell_type": "code",
   "execution_count": 8,
   "metadata": {
    "collapsed": false
   },
   "outputs": [
    {
     "data": {
      "text/plain": [
       "basename         object\n",
       "phase            object\n",
       "cycle_orbit      object\n",
       "mode             object\n",
       "channel        category\n",
       "time             object\n",
       "level            object\n",
       "version          object\n",
       "revision         object\n",
       "dtype: object"
      ]
     },
     "execution_count": 8,
     "metadata": {},
     "output_type": "execute_result"
    }
   ],
   "source": [
    "df.dtypes"
   ]
  },
  {
   "cell_type": "code",
   "execution_count": 9,
   "metadata": {
    "collapsed": false
   },
   "outputs": [
    {
     "data": {
      "text/html": [
       "<div style=\"max-height:1000px;max-width:1500px;overflow:auto;\">\n",
       "<table border=\"1\" class=\"dataframe\">\n",
       "  <thead>\n",
       "    <tr style=\"text-align: right;\">\n",
       "      <th></th>\n",
       "      <th>basename</th>\n",
       "      <th>phase</th>\n",
       "      <th>cycle_orbit</th>\n",
       "      <th>mode</th>\n",
       "      <th>channel</th>\n",
       "      <th>time</th>\n",
       "      <th>level</th>\n",
       "      <th>version</th>\n",
       "      <th>revision</th>\n",
       "    </tr>\n",
       "  </thead>\n",
       "  <tbody>\n",
       "  </tbody>\n",
       "</table>\n",
       "</div>"
      ],
      "text/plain": [
       "Empty DataFrame\n",
       "Columns: [basename, phase, cycle_orbit, mode, channel, time, level, version, revision]\n",
       "Index: []"
      ]
     },
     "execution_count": 9,
     "metadata": {},
     "output_type": "execute_result"
    }
   ],
   "source": [
    "df.head()"
   ]
  },
  {
   "cell_type": "code",
   "execution_count": 14,
   "metadata": {
    "collapsed": false
   },
   "outputs": [
    {
     "data": {
      "text/plain": [
       "fuv        12928\n",
       "muv        12362\n",
       "fuvdark     4966\n",
       "muvdark     4551\n",
       "echdark     1730\n",
       "ech         1087\n",
       "dtype: int64"
      ]
     },
     "execution_count": 14,
     "metadata": {},
     "output_type": "execute_result"
    }
   ],
   "source": [
    "df.channel.value_counts()"
   ]
  },
  {
   "cell_type": "code",
   "execution_count": 11,
   "metadata": {
    "collapsed": false
   },
   "outputs": [],
   "source": [
    "df.set_index('time', inplace=True)\n",
    "df.sort_index(inplace=True)"
   ]
  },
  {
   "cell_type": "code",
   "execution_count": 12,
   "metadata": {
    "collapsed": false
   },
   "outputs": [
    {
     "data": {
      "text/html": [
       "<div style=\"max-height:1000px;max-width:1500px;overflow:auto;\">\n",
       "<table border=\"1\" class=\"dataframe\">\n",
       "  <thead>\n",
       "    <tr style=\"text-align: right;\">\n",
       "      <th></th>\n",
       "      <th>basename</th>\n",
       "      <th>phase</th>\n",
       "      <th>cycle_orbit</th>\n",
       "      <th>mode</th>\n",
       "      <th>channel</th>\n",
       "      <th>level</th>\n",
       "      <th>version</th>\n",
       "      <th>revision</th>\n",
       "    </tr>\n",
       "    <tr>\n",
       "      <th>time</th>\n",
       "      <th></th>\n",
       "      <th></th>\n",
       "      <th></th>\n",
       "      <th></th>\n",
       "      <th></th>\n",
       "      <th></th>\n",
       "      <th></th>\n",
       "      <th></th>\n",
       "    </tr>\n",
       "  </thead>\n",
       "  <tbody>\n",
       "    <tr>\n",
       "      <th>2013-12-04 19:02:17</th>\n",
       "      <td> mvn_iuv_l1a_checkout-muvdark_20131204T190217_v...</td>\n",
       "      <td> checkout</td>\n",
       "      <td> N/A</td>\n",
       "      <td> N/A</td>\n",
       "      <td> muvdark</td>\n",
       "      <td> l1a</td>\n",
       "      <td> v00</td>\n",
       "      <td> r00</td>\n",
       "    </tr>\n",
       "    <tr>\n",
       "      <th>2013-12-04 19:02:17</th>\n",
       "      <td> mvn_iuv_l1a_checkout-fuvdark_20131204T190217_v...</td>\n",
       "      <td> checkout</td>\n",
       "      <td> N/A</td>\n",
       "      <td> N/A</td>\n",
       "      <td> fuvdark</td>\n",
       "      <td> l1a</td>\n",
       "      <td> v00</td>\n",
       "      <td> r00</td>\n",
       "    </tr>\n",
       "    <tr>\n",
       "      <th>2013-12-04 19:03:04</th>\n",
       "      <td> mvn_iuv_l1a_checkout-muvdark_20131204T190304_v...</td>\n",
       "      <td> checkout</td>\n",
       "      <td> N/A</td>\n",
       "      <td> N/A</td>\n",
       "      <td> muvdark</td>\n",
       "      <td> l1a</td>\n",
       "      <td> v00</td>\n",
       "      <td> r00</td>\n",
       "    </tr>\n",
       "    <tr>\n",
       "      <th>2013-12-04 19:03:04</th>\n",
       "      <td> mvn_iuv_l1a_checkout-fuvdark_20131204T190304_v...</td>\n",
       "      <td> checkout</td>\n",
       "      <td> N/A</td>\n",
       "      <td> N/A</td>\n",
       "      <td> fuvdark</td>\n",
       "      <td> l1a</td>\n",
       "      <td> v00</td>\n",
       "      <td> r00</td>\n",
       "    </tr>\n",
       "    <tr>\n",
       "      <th>2013-12-04 19:03:42</th>\n",
       "      <td> mvn_iuv_l1a_checkout-muv_20131204T190342_v00_r...</td>\n",
       "      <td> checkout</td>\n",
       "      <td> N/A</td>\n",
       "      <td> N/A</td>\n",
       "      <td>     muv</td>\n",
       "      <td> l1a</td>\n",
       "      <td> v00</td>\n",
       "      <td> r00</td>\n",
       "    </tr>\n",
       "  </tbody>\n",
       "</table>\n",
       "</div>"
      ],
      "text/plain": [
       "                                                              basename  \\\n",
       "time                                                                     \n",
       "2013-12-04 19:02:17  mvn_iuv_l1a_checkout-muvdark_20131204T190217_v...   \n",
       "2013-12-04 19:02:17  mvn_iuv_l1a_checkout-fuvdark_20131204T190217_v...   \n",
       "2013-12-04 19:03:04  mvn_iuv_l1a_checkout-muvdark_20131204T190304_v...   \n",
       "2013-12-04 19:03:04  mvn_iuv_l1a_checkout-fuvdark_20131204T190304_v...   \n",
       "2013-12-04 19:03:42  mvn_iuv_l1a_checkout-muv_20131204T190342_v00_r...   \n",
       "\n",
       "                        phase cycle_orbit mode  channel level version revision  \n",
       "time                                                                            \n",
       "2013-12-04 19:02:17  checkout         N/A  N/A  muvdark   l1a     v00      r00  \n",
       "2013-12-04 19:02:17  checkout         N/A  N/A  fuvdark   l1a     v00      r00  \n",
       "2013-12-04 19:03:04  checkout         N/A  N/A  muvdark   l1a     v00      r00  \n",
       "2013-12-04 19:03:04  checkout         N/A  N/A  fuvdark   l1a     v00      r00  \n",
       "2013-12-04 19:03:42  checkout         N/A  N/A      muv   l1a     v00      r00  "
      ]
     },
     "execution_count": 12,
     "metadata": {},
     "output_type": "execute_result"
    }
   ],
   "source": [
    "df.head()"
   ]
  },
  {
   "cell_type": "code",
   "execution_count": 13,
   "metadata": {
    "collapsed": false
   },
   "outputs": [
    {
     "data": {
      "text/html": [
       "<div style=\"max-height:1000px;max-width:1500px;overflow:auto;\">\n",
       "<table border=\"1\" class=\"dataframe\">\n",
       "  <thead>\n",
       "    <tr style=\"text-align: right;\">\n",
       "      <th></th>\n",
       "      <th>basename</th>\n",
       "      <th>phase</th>\n",
       "      <th>cycle_orbit</th>\n",
       "      <th>mode</th>\n",
       "      <th>channel</th>\n",
       "      <th>level</th>\n",
       "      <th>version</th>\n",
       "      <th>revision</th>\n",
       "    </tr>\n",
       "    <tr>\n",
       "      <th>time</th>\n",
       "      <th></th>\n",
       "      <th></th>\n",
       "      <th></th>\n",
       "      <th></th>\n",
       "      <th></th>\n",
       "      <th></th>\n",
       "      <th></th>\n",
       "      <th></th>\n",
       "    </tr>\n",
       "  </thead>\n",
       "  <tbody>\n",
       "    <tr>\n",
       "      <th>2015-01-09 14:27:01</th>\n",
       "      <td> mvn_iuv_l1a_apoapse-orbit00542-fuv_20150109T14...</td>\n",
       "      <td> apoapse</td>\n",
       "      <td> orbit00542</td>\n",
       "      <td> N/A</td>\n",
       "      <td> fuv</td>\n",
       "      <td> l1a</td>\n",
       "      <td> v00</td>\n",
       "      <td> r00</td>\n",
       "    </tr>\n",
       "    <tr>\n",
       "      <th>2015-01-09 14:32:21</th>\n",
       "      <td> mvn_iuv_l1a_apoapse-orbit00542-fuv_20150109T14...</td>\n",
       "      <td> apoapse</td>\n",
       "      <td> orbit00542</td>\n",
       "      <td> N/A</td>\n",
       "      <td> fuv</td>\n",
       "      <td> l1a</td>\n",
       "      <td> v00</td>\n",
       "      <td> r00</td>\n",
       "    </tr>\n",
       "    <tr>\n",
       "      <th>2015-01-09 14:37:43</th>\n",
       "      <td> mvn_iuv_l1a_apoapse-orbit00542-fuv_20150109T14...</td>\n",
       "      <td> apoapse</td>\n",
       "      <td> orbit00542</td>\n",
       "      <td> N/A</td>\n",
       "      <td> fuv</td>\n",
       "      <td> l1a</td>\n",
       "      <td> v00</td>\n",
       "      <td> r00</td>\n",
       "    </tr>\n",
       "    <tr>\n",
       "      <th>2015-01-09 14:43:03</th>\n",
       "      <td> mvn_iuv_l1a_apoapse-orbit00542-fuv_20150109T14...</td>\n",
       "      <td> apoapse</td>\n",
       "      <td> orbit00542</td>\n",
       "      <td> N/A</td>\n",
       "      <td> fuv</td>\n",
       "      <td> l1a</td>\n",
       "      <td> v00</td>\n",
       "      <td> r00</td>\n",
       "    </tr>\n",
       "    <tr>\n",
       "      <th>2015-01-09 14:48:23</th>\n",
       "      <td> mvn_iuv_l1a_apoapse-orbit00542-fuv_20150109T14...</td>\n",
       "      <td> apoapse</td>\n",
       "      <td> orbit00542</td>\n",
       "      <td> N/A</td>\n",
       "      <td> fuv</td>\n",
       "      <td> l1a</td>\n",
       "      <td> v00</td>\n",
       "      <td> r00</td>\n",
       "    </tr>\n",
       "  </tbody>\n",
       "</table>\n",
       "</div>"
      ],
      "text/plain": [
       "                                                              basename  \\\n",
       "time                                                                     \n",
       "2015-01-09 14:27:01  mvn_iuv_l1a_apoapse-orbit00542-fuv_20150109T14...   \n",
       "2015-01-09 14:32:21  mvn_iuv_l1a_apoapse-orbit00542-fuv_20150109T14...   \n",
       "2015-01-09 14:37:43  mvn_iuv_l1a_apoapse-orbit00542-fuv_20150109T14...   \n",
       "2015-01-09 14:43:03  mvn_iuv_l1a_apoapse-orbit00542-fuv_20150109T14...   \n",
       "2015-01-09 14:48:23  mvn_iuv_l1a_apoapse-orbit00542-fuv_20150109T14...   \n",
       "\n",
       "                       phase cycle_orbit mode channel level version revision  \n",
       "time                                                                          \n",
       "2015-01-09 14:27:01  apoapse  orbit00542  N/A     fuv   l1a     v00      r00  \n",
       "2015-01-09 14:32:21  apoapse  orbit00542  N/A     fuv   l1a     v00      r00  \n",
       "2015-01-09 14:37:43  apoapse  orbit00542  N/A     fuv   l1a     v00      r00  \n",
       "2015-01-09 14:43:03  apoapse  orbit00542  N/A     fuv   l1a     v00      r00  \n",
       "2015-01-09 14:48:23  apoapse  orbit00542  N/A     fuv   l1a     v00      r00  "
      ]
     },
     "execution_count": 13,
     "metadata": {},
     "output_type": "execute_result"
    }
   ],
   "source": [
    "df.tail()"
   ]
  },
  {
   "cell_type": "code",
   "execution_count": 18,
   "metadata": {
    "collapsed": false
   },
   "outputs": [],
   "source": [
    "ds  =io.L1AReader(str(io.level1apath) + '/' + df.basename[df.index[-1]])"
   ]
  },
  {
   "cell_type": "code",
   "execution_count": 33,
   "metadata": {
    "collapsed": false
   },
   "outputs": [
    {
     "data": {
      "text/html": [
       "<div style=\"max-height:1000px;max-width:1500px;overflow:auto;\">\n",
       "<table border=\"1\" class=\"dataframe\">\n",
       "  <thead>\n",
       "    <tr style=\"text-align: right;\">\n",
       "      <th></th>\n",
       "      <th>0</th>\n",
       "      <th>1</th>\n",
       "      <th>2</th>\n",
       "      <th>3</th>\n",
       "      <th>4</th>\n",
       "      <th>5</th>\n",
       "      <th>6</th>\n",
       "      <th>7</th>\n",
       "      <th>8</th>\n",
       "      <th>9</th>\n",
       "      <th>...</th>\n",
       "      <th>11</th>\n",
       "      <th>12</th>\n",
       "      <th>13</th>\n",
       "      <th>14</th>\n",
       "      <th>15</th>\n",
       "      <th>16</th>\n",
       "      <th>17</th>\n",
       "      <th>18</th>\n",
       "      <th>19</th>\n",
       "      <th>20</th>\n",
       "    </tr>\n",
       "  </thead>\n",
       "  <tbody>\n",
       "    <tr>\n",
       "      <th>TIMESTAMP</th>\n",
       "      <td>                      4.740869e+08</td>\n",
       "      <td>                      4.740869e+08</td>\n",
       "      <td>                      4.740869e+08</td>\n",
       "      <td>                      4.740869e+08</td>\n",
       "      <td>                      4.740869e+08</td>\n",
       "      <td>                       4.74087e+08</td>\n",
       "      <td>                       4.74087e+08</td>\n",
       "      <td>                       4.74087e+08</td>\n",
       "      <td>                       4.74087e+08</td>\n",
       "      <td>                       4.74087e+08</td>\n",
       "      <td>...</td>\n",
       "      <td>                       4.74087e+08</td>\n",
       "      <td>                      4.740871e+08</td>\n",
       "      <td>                      4.740871e+08</td>\n",
       "      <td>                      4.740871e+08</td>\n",
       "      <td>                      4.740871e+08</td>\n",
       "      <td>                      4.740871e+08</td>\n",
       "      <td>                      4.740871e+08</td>\n",
       "      <td>                      4.740872e+08</td>\n",
       "      <td>                      4.740872e+08</td>\n",
       "      <td>                      4.740872e+08</td>\n",
       "    </tr>\n",
       "    <tr>\n",
       "      <th>ET</th>\n",
       "      <td>                       4.74087e+08</td>\n",
       "      <td>                       4.74087e+08</td>\n",
       "      <td>                       4.74087e+08</td>\n",
       "      <td>                       4.74087e+08</td>\n",
       "      <td>                       4.74087e+08</td>\n",
       "      <td>                       4.74087e+08</td>\n",
       "      <td>                      4.740871e+08</td>\n",
       "      <td>                      4.740871e+08</td>\n",
       "      <td>                      4.740871e+08</td>\n",
       "      <td>                      4.740871e+08</td>\n",
       "      <td>...</td>\n",
       "      <td>                      4.740871e+08</td>\n",
       "      <td>                      4.740872e+08</td>\n",
       "      <td>                      4.740872e+08</td>\n",
       "      <td>                      4.740872e+08</td>\n",
       "      <td>                      4.740872e+08</td>\n",
       "      <td>                      4.740872e+08</td>\n",
       "      <td>                      4.740872e+08</td>\n",
       "      <td>                      4.740872e+08</td>\n",
       "      <td>                      4.740873e+08</td>\n",
       "      <td>                      4.740873e+08</td>\n",
       "    </tr>\n",
       "    <tr>\n",
       "      <th>UTC</th>\n",
       "      <td> 2015/009 Jan 09 14:48:23.76188UTC</td>\n",
       "      <td> 2015/009 Jan 09 14:48:38.76189UTC</td>\n",
       "      <td> 2015/009 Jan 09 14:48:53.76190UTC</td>\n",
       "      <td> 2015/009 Jan 09 14:49:08.76190UTC</td>\n",
       "      <td> 2015/009 Jan 09 14:49:23.76191UTC</td>\n",
       "      <td> 2015/009 Jan 09 14:49:38.76192UTC</td>\n",
       "      <td> 2015/009 Jan 09 14:49:53.76193UTC</td>\n",
       "      <td> 2015/009 Jan 09 14:50:08.76194UTC</td>\n",
       "      <td> 2015/009 Jan 09 14:50:23.76194UTC</td>\n",
       "      <td> 2015/009 Jan 09 14:50:38.76195UTC</td>\n",
       "      <td>...</td>\n",
       "      <td> 2015/009 Jan 09 14:51:08.76197UTC</td>\n",
       "      <td> 2015/009 Jan 09 14:51:23.76197UTC</td>\n",
       "      <td> 2015/009 Jan 09 14:51:38.76198UTC</td>\n",
       "      <td> 2015/009 Jan 09 14:51:53.76199UTC</td>\n",
       "      <td> 2015/009 Jan 09 14:52:08.76200UTC</td>\n",
       "      <td> 2015/009 Jan 09 14:52:23.76201UTC</td>\n",
       "      <td> 2015/009 Jan 09 14:52:38.76201UTC</td>\n",
       "      <td> 2015/009 Jan 09 14:52:53.76202UTC</td>\n",
       "      <td> 2015/009 Jan 09 14:53:08.76203UTC</td>\n",
       "      <td> 2015/009 Jan 09 14:53:23.76204UTC</td>\n",
       "    </tr>\n",
       "    <tr>\n",
       "      <th>MIRROR_DN</th>\n",
       "      <td>                             29342</td>\n",
       "      <td>                             29552</td>\n",
       "      <td>                             29762</td>\n",
       "      <td>                             29972</td>\n",
       "      <td>                             30182</td>\n",
       "      <td>                             30392</td>\n",
       "      <td>                             30602</td>\n",
       "      <td>                             30812</td>\n",
       "      <td>                             31022</td>\n",
       "      <td>                             31232</td>\n",
       "      <td>...</td>\n",
       "      <td>                             31652</td>\n",
       "      <td>                             31862</td>\n",
       "      <td>                             32072</td>\n",
       "      <td>                             32282</td>\n",
       "      <td>                             32492</td>\n",
       "      <td>                             32702</td>\n",
       "      <td>                             32912</td>\n",
       "      <td>                             33122</td>\n",
       "      <td>                             33332</td>\n",
       "      <td>                             33542</td>\n",
       "    </tr>\n",
       "    <tr>\n",
       "      <th>MIRROR_DEG</th>\n",
       "      <td>                          45.05219</td>\n",
       "      <td>                          45.62897</td>\n",
       "      <td>                          46.20575</td>\n",
       "      <td>                          46.78253</td>\n",
       "      <td>                          47.35931</td>\n",
       "      <td>                           47.9361</td>\n",
       "      <td>                          48.51288</td>\n",
       "      <td>                          49.08966</td>\n",
       "      <td>                          49.66644</td>\n",
       "      <td>                          50.24323</td>\n",
       "      <td>...</td>\n",
       "      <td>                          51.39679</td>\n",
       "      <td>                          51.97357</td>\n",
       "      <td>                          52.55035</td>\n",
       "      <td>                          53.12714</td>\n",
       "      <td>                          53.70392</td>\n",
       "      <td>                           54.2807</td>\n",
       "      <td>                          54.85748</td>\n",
       "      <td>                          55.43427</td>\n",
       "      <td>                          56.01105</td>\n",
       "      <td>                          56.58783</td>\n",
       "    </tr>\n",
       "    <tr>\n",
       "      <th>FOV_DEG</th>\n",
       "      <td>                          90.10437</td>\n",
       "      <td>                          91.25793</td>\n",
       "      <td>                           92.4115</td>\n",
       "      <td>                          93.56506</td>\n",
       "      <td>                          94.71863</td>\n",
       "      <td>                          95.87219</td>\n",
       "      <td>                          97.02576</td>\n",
       "      <td>                          98.17932</td>\n",
       "      <td>                          99.33289</td>\n",
       "      <td>                          100.4865</td>\n",
       "      <td>...</td>\n",
       "      <td>                          102.7936</td>\n",
       "      <td>                          103.9471</td>\n",
       "      <td>                          105.1007</td>\n",
       "      <td>                          106.2543</td>\n",
       "      <td>                          107.4078</td>\n",
       "      <td>                          108.5614</td>\n",
       "      <td>                           109.715</td>\n",
       "      <td>                          110.8685</td>\n",
       "      <td>                          112.0221</td>\n",
       "      <td>                          113.1757</td>\n",
       "    </tr>\n",
       "    <tr>\n",
       "      <th>LYA_CENTROID</th>\n",
       "      <td>                                 1</td>\n",
       "      <td>                                 1</td>\n",
       "      <td>                                 1</td>\n",
       "      <td>                                 1</td>\n",
       "      <td>                                 1</td>\n",
       "      <td>                                 1</td>\n",
       "      <td>                                 1</td>\n",
       "      <td>                                 1</td>\n",
       "      <td>                                 1</td>\n",
       "      <td>                                 1</td>\n",
       "      <td>...</td>\n",
       "      <td>                                 1</td>\n",
       "      <td>                                 1</td>\n",
       "      <td>                                 1</td>\n",
       "      <td>                                 1</td>\n",
       "      <td>                                 1</td>\n",
       "      <td>                                 1</td>\n",
       "      <td>                                 1</td>\n",
       "      <td>                                 1</td>\n",
       "      <td>                                 1</td>\n",
       "      <td>                                 1</td>\n",
       "    </tr>\n",
       "  </tbody>\n",
       "</table>\n",
       "<p>7 rows × 21 columns</p>\n",
       "</div>"
      ],
      "text/plain": [
       "                                             0   \\\n",
       "TIMESTAMP                          4.740869e+08   \n",
       "ET                                  4.74087e+08   \n",
       "UTC           2015/009 Jan 09 14:48:23.76188UTC   \n",
       "MIRROR_DN                                 29342   \n",
       "MIRROR_DEG                             45.05219   \n",
       "FOV_DEG                                90.10437   \n",
       "LYA_CENTROID                                  1   \n",
       "\n",
       "                                             1   \\\n",
       "TIMESTAMP                          4.740869e+08   \n",
       "ET                                  4.74087e+08   \n",
       "UTC           2015/009 Jan 09 14:48:38.76189UTC   \n",
       "MIRROR_DN                                 29552   \n",
       "MIRROR_DEG                             45.62897   \n",
       "FOV_DEG                                91.25793   \n",
       "LYA_CENTROID                                  1   \n",
       "\n",
       "                                             2   \\\n",
       "TIMESTAMP                          4.740869e+08   \n",
       "ET                                  4.74087e+08   \n",
       "UTC           2015/009 Jan 09 14:48:53.76190UTC   \n",
       "MIRROR_DN                                 29762   \n",
       "MIRROR_DEG                             46.20575   \n",
       "FOV_DEG                                 92.4115   \n",
       "LYA_CENTROID                                  1   \n",
       "\n",
       "                                             3   \\\n",
       "TIMESTAMP                          4.740869e+08   \n",
       "ET                                  4.74087e+08   \n",
       "UTC           2015/009 Jan 09 14:49:08.76190UTC   \n",
       "MIRROR_DN                                 29972   \n",
       "MIRROR_DEG                             46.78253   \n",
       "FOV_DEG                                93.56506   \n",
       "LYA_CENTROID                                  1   \n",
       "\n",
       "                                             4   \\\n",
       "TIMESTAMP                          4.740869e+08   \n",
       "ET                                  4.74087e+08   \n",
       "UTC           2015/009 Jan 09 14:49:23.76191UTC   \n",
       "MIRROR_DN                                 30182   \n",
       "MIRROR_DEG                             47.35931   \n",
       "FOV_DEG                                94.71863   \n",
       "LYA_CENTROID                                  1   \n",
       "\n",
       "                                             5   \\\n",
       "TIMESTAMP                           4.74087e+08   \n",
       "ET                                  4.74087e+08   \n",
       "UTC           2015/009 Jan 09 14:49:38.76192UTC   \n",
       "MIRROR_DN                                 30392   \n",
       "MIRROR_DEG                              47.9361   \n",
       "FOV_DEG                                95.87219   \n",
       "LYA_CENTROID                                  1   \n",
       "\n",
       "                                             6   \\\n",
       "TIMESTAMP                           4.74087e+08   \n",
       "ET                                 4.740871e+08   \n",
       "UTC           2015/009 Jan 09 14:49:53.76193UTC   \n",
       "MIRROR_DN                                 30602   \n",
       "MIRROR_DEG                             48.51288   \n",
       "FOV_DEG                                97.02576   \n",
       "LYA_CENTROID                                  1   \n",
       "\n",
       "                                             7   \\\n",
       "TIMESTAMP                           4.74087e+08   \n",
       "ET                                 4.740871e+08   \n",
       "UTC           2015/009 Jan 09 14:50:08.76194UTC   \n",
       "MIRROR_DN                                 30812   \n",
       "MIRROR_DEG                             49.08966   \n",
       "FOV_DEG                                98.17932   \n",
       "LYA_CENTROID                                  1   \n",
       "\n",
       "                                             8   \\\n",
       "TIMESTAMP                           4.74087e+08   \n",
       "ET                                 4.740871e+08   \n",
       "UTC           2015/009 Jan 09 14:50:23.76194UTC   \n",
       "MIRROR_DN                                 31022   \n",
       "MIRROR_DEG                             49.66644   \n",
       "FOV_DEG                                99.33289   \n",
       "LYA_CENTROID                                  1   \n",
       "\n",
       "                                             9   \\\n",
       "TIMESTAMP                           4.74087e+08   \n",
       "ET                                 4.740871e+08   \n",
       "UTC           2015/009 Jan 09 14:50:38.76195UTC   \n",
       "MIRROR_DN                                 31232   \n",
       "MIRROR_DEG                             50.24323   \n",
       "FOV_DEG                                100.4865   \n",
       "LYA_CENTROID                                  1   \n",
       "\n",
       "                            ...                  \\\n",
       "TIMESTAMP                   ...                   \n",
       "ET                          ...                   \n",
       "UTC                         ...                   \n",
       "MIRROR_DN                   ...                   \n",
       "MIRROR_DEG                  ...                   \n",
       "FOV_DEG                     ...                   \n",
       "LYA_CENTROID                ...                   \n",
       "\n",
       "                                             11  \\\n",
       "TIMESTAMP                           4.74087e+08   \n",
       "ET                                 4.740871e+08   \n",
       "UTC           2015/009 Jan 09 14:51:08.76197UTC   \n",
       "MIRROR_DN                                 31652   \n",
       "MIRROR_DEG                             51.39679   \n",
       "FOV_DEG                                102.7936   \n",
       "LYA_CENTROID                                  1   \n",
       "\n",
       "                                             12  \\\n",
       "TIMESTAMP                          4.740871e+08   \n",
       "ET                                 4.740872e+08   \n",
       "UTC           2015/009 Jan 09 14:51:23.76197UTC   \n",
       "MIRROR_DN                                 31862   \n",
       "MIRROR_DEG                             51.97357   \n",
       "FOV_DEG                                103.9471   \n",
       "LYA_CENTROID                                  1   \n",
       "\n",
       "                                             13  \\\n",
       "TIMESTAMP                          4.740871e+08   \n",
       "ET                                 4.740872e+08   \n",
       "UTC           2015/009 Jan 09 14:51:38.76198UTC   \n",
       "MIRROR_DN                                 32072   \n",
       "MIRROR_DEG                             52.55035   \n",
       "FOV_DEG                                105.1007   \n",
       "LYA_CENTROID                                  1   \n",
       "\n",
       "                                             14  \\\n",
       "TIMESTAMP                          4.740871e+08   \n",
       "ET                                 4.740872e+08   \n",
       "UTC           2015/009 Jan 09 14:51:53.76199UTC   \n",
       "MIRROR_DN                                 32282   \n",
       "MIRROR_DEG                             53.12714   \n",
       "FOV_DEG                                106.2543   \n",
       "LYA_CENTROID                                  1   \n",
       "\n",
       "                                             15  \\\n",
       "TIMESTAMP                          4.740871e+08   \n",
       "ET                                 4.740872e+08   \n",
       "UTC           2015/009 Jan 09 14:52:08.76200UTC   \n",
       "MIRROR_DN                                 32492   \n",
       "MIRROR_DEG                             53.70392   \n",
       "FOV_DEG                                107.4078   \n",
       "LYA_CENTROID                                  1   \n",
       "\n",
       "                                             16  \\\n",
       "TIMESTAMP                          4.740871e+08   \n",
       "ET                                 4.740872e+08   \n",
       "UTC           2015/009 Jan 09 14:52:23.76201UTC   \n",
       "MIRROR_DN                                 32702   \n",
       "MIRROR_DEG                              54.2807   \n",
       "FOV_DEG                                108.5614   \n",
       "LYA_CENTROID                                  1   \n",
       "\n",
       "                                             17  \\\n",
       "TIMESTAMP                          4.740871e+08   \n",
       "ET                                 4.740872e+08   \n",
       "UTC           2015/009 Jan 09 14:52:38.76201UTC   \n",
       "MIRROR_DN                                 32912   \n",
       "MIRROR_DEG                             54.85748   \n",
       "FOV_DEG                                 109.715   \n",
       "LYA_CENTROID                                  1   \n",
       "\n",
       "                                             18  \\\n",
       "TIMESTAMP                          4.740872e+08   \n",
       "ET                                 4.740872e+08   \n",
       "UTC           2015/009 Jan 09 14:52:53.76202UTC   \n",
       "MIRROR_DN                                 33122   \n",
       "MIRROR_DEG                             55.43427   \n",
       "FOV_DEG                                110.8685   \n",
       "LYA_CENTROID                                  1   \n",
       "\n",
       "                                             19  \\\n",
       "TIMESTAMP                          4.740872e+08   \n",
       "ET                                 4.740873e+08   \n",
       "UTC           2015/009 Jan 09 14:53:08.76203UTC   \n",
       "MIRROR_DN                                 33332   \n",
       "MIRROR_DEG                             56.01105   \n",
       "FOV_DEG                                112.0221   \n",
       "LYA_CENTROID                                  1   \n",
       "\n",
       "                                             20  \n",
       "TIMESTAMP                          4.740872e+08  \n",
       "ET                                 4.740873e+08  \n",
       "UTC           2015/009 Jan 09 14:53:23.76204UTC  \n",
       "MIRROR_DN                                 33542  \n",
       "MIRROR_DEG                             56.58783  \n",
       "FOV_DEG                                113.1757  \n",
       "LYA_CENTROID                                  1  \n",
       "\n",
       "[7 rows x 21 columns]"
      ]
     },
     "execution_count": 33,
     "metadata": {},
     "output_type": "execute_result"
    }
   ],
   "source": [
    "ds.integration.data"
   ]
  },
  {
   "cell_type": "code",
   "execution_count": 36,
   "metadata": {
    "collapsed": false
   },
   "outputs": [
    {
     "data": {
      "text/plain": [
       "XTENSION= 'BINTABLE'           /Binary table written by MWRFITS v1.11           \n",
       "BITPIX  =                    8 /Required value                                  \n",
       "NAXIS   =                    2 /Required value                                  \n",
       "NAXIS1  =                 2147 /Number of bytes per row                         \n",
       "NAXIS2  =                    1 /Number of rows                                  \n",
       "PCOUNT  =                    0 /Normally 0 (no varying arrays)                  \n",
       "GCOUNT  =                    1 /Required value                                  \n",
       "TFIELDS =                    9 /Number of columns in table                      \n",
       "COMMENT                                                                         \n",
       "COMMENT  *** End of mandatory fields ***                                        \n",
       "COMMENT                                                                         \n",
       "EXTNAME = 'Binning'                                                             \n",
       "COMMENT                                                                         \n",
       "COMMENT  *** Column names ***                                                   \n",
       "COMMENT                                                                         \n",
       "TTYPE1  = 'SPABINWIDTH'        /                                                \n",
       "TTYPE2  = 'SPABINTRANSMIT'     /                                                \n",
       "TTYPE3  = 'SPEBINWIDTH'        /                                                \n",
       "TTYPE4  = 'SPEBINTRANSMIT'     /                                                \n",
       "TTYPE5  = 'SPAPIXLO'           /                                                \n",
       "TTYPE6  = 'SPAPIXHI'           /                                                \n",
       "TTYPE7  = 'SPEPIXLO'           /                                                \n",
       "TTYPE8  = 'SPEPIXHI'           /                                                \n",
       "TTYPE9  = 'BINTABLENAME'       /                                                \n",
       "COMMENT                                                                         \n",
       "COMMENT  *** Column formats ***                                                 \n",
       "COMMENT                                                                         \n",
       "TFORM1  = '12I     '           /                                                \n",
       "TFORM2  = '12I     '           /                                                \n",
       "TFORM3  = '256I    '           /                                                \n",
       "TFORM4  = '256I    '           /                                                \n",
       "TFORM5  = '10I     '           /                                                \n",
       "TFORM6  = '10I     '           /                                                \n",
       "TFORM7  = '256I    '           /                                                \n",
       "TFORM8  = '256I    '           /                                                \n",
       "TFORM9  = '11A     '           /                                                \n",
       "COMMENT SPABINWIDTH: \"Width of each spatial bin in pixels, one entry for each   \n",
       "COMMENT   bin, transmitted or not\"                                              \n",
       "COMMENT SPABINTRANSMIT: \"1 if bin is transmitted, 0 if not. Total number of 1   \n",
       "COMMENT   entries set equals the number of spatial bins in the file\"            \n",
       "COMMENT SPEBINWIDTH: \"Width of each spectral bin in pixels, one entry for each  \n",
       "COMMENT   bin, transmitted or not\"                                              \n",
       "COMMENT SPEBINTRANSMIT: \"1 if bin is transmitted, 0 if not. Total number of 1   \n",
       "COMMENT   entries set equals the number of spatial bins in the file\"            \n",
       "COMMENT SPAPIXLO: Lowest numbered pixel in each transmitted spatial bin         \n",
       "COMMENT SPAPIXHI: Highest numbered pixel in each transmitted spatial bin        \n",
       "COMMENT SPEPIXLO: Lowest numbered pixel in each transmitted spectral bin        \n",
       "COMMENT SPEPIXHI: Highest numbered pixel in each transmitted spectral bin       "
      ]
     },
     "execution_count": 36,
     "metadata": {},
     "output_type": "execute_result"
    }
   ],
   "source": [
    "ds.binning.header"
   ]
  },
  {
   "cell_type": "code",
   "execution_count": 126,
   "metadata": {
    "collapsed": false
   },
   "outputs": [],
   "source": [
    "import glob\n",
    "fnames = glob.glob(root+'/*.fits.gz')"
   ]
  },
  {
   "cell_type": "code",
   "execution_count": 132,
   "metadata": {
    "collapsed": false
   },
   "outputs": [],
   "source": [
    "from IPython import parallel\n",
    "rc = parallel.Client()"
   ]
  },
  {
   "cell_type": "code",
   "execution_count": 133,
   "metadata": {
    "collapsed": false
   },
   "outputs": [],
   "source": [
    "dview = rc.direct_view()"
   ]
  },
  {
   "cell_type": "code",
   "execution_count": 134,
   "metadata": {
    "collapsed": false
   },
   "outputs": [],
   "source": [
    "lview = rc.load_balanced_view()"
   ]
  },
  {
   "cell_type": "code",
   "execution_count": 140,
   "metadata": {
    "collapsed": false
   },
   "outputs": [],
   "source": [
    "%%px \n",
    "key_errors=[]\n",
    "results = []"
   ]
  },
  {
   "cell_type": "code",
   "execution_count": 188,
   "metadata": {
    "collapsed": false
   },
   "outputs": [],
   "source": [
    "def find_big_deltas(fname):\n",
    "    fitsdata = IUVSReader(fname)\n",
    "    mir_deg1 = fitsdata.img_header['MIR_DEG']\n",
    "    mir_deg2 = fitsdata.integration.data.get_value('MIRROR_DEG', 0)\n",
    "    return mir_deg1/mir_deg2"
   ]
  },
  {
   "cell_type": "code",
   "execution_count": 189,
   "metadata": {
    "collapsed": false
   },
   "outputs": [
    {
     "name": "stdout",
     "output_type": "stream",
     "text": [
      "0.0\n",
      "0.01\n",
      "0.02\n",
      "0.03\n",
      "0.04\n",
      "0.05\n",
      "0.06\n",
      "0.07\n",
      "0.08\n",
      "0.09\n",
      "0.1\n",
      "0.11\n",
      "0.12\n",
      "0.13\n",
      "0.14\n",
      "0.15\n",
      "0.16\n",
      "0.17\n",
      "0.18\n",
      "0.19\n",
      "0.2\n",
      "0.21\n",
      "0.22\n",
      "0.23\n",
      "0.24\n",
      "0.25\n",
      "0.26\n",
      "0.27\n",
      "0.28\n",
      "0.29\n",
      "0.3\n",
      "0.31\n",
      "0.32\n",
      "0.33\n",
      "0.34\n",
      "0.35\n",
      "0.36\n",
      "0.37\n",
      "0.38\n",
      "0.39\n",
      "0.4\n",
      "0.41\n",
      "0.42\n",
      "0.43\n",
      "0.44\n",
      "0.45\n",
      "0.46\n",
      "0.47\n",
      "0.48\n",
      "0.49\n",
      "0.5\n",
      "0.51\n",
      "0.52\n",
      "0.53\n",
      "0.54\n",
      "0.55\n",
      "0.56\n",
      "0.57\n",
      "0.58\n",
      "0.59\n",
      "0.6\n",
      "0.61\n",
      "/maven_iuvs/stage/products/level1a/mvn_iuv_l1a_IPH1-cycle00023-mode060-fuv_20140410T141518_v00_r00.fits.gz\n",
      "0.62\n",
      "/maven_iuvs/stage/products/level1a/mvn_iuv_l1a_IPH2-cycle00203-mode060-muv_20140630T035343_v00_r00.fits.gz\n",
      "0.63\n",
      "0.64\n",
      "0.65\n",
      "0.66\n",
      "0.67\n",
      "0.68\n",
      "0.69\n",
      "0.7\n",
      "0.71\n",
      "0.72\n",
      "0.73\n",
      "0.74\n",
      "0.75\n",
      "0.76\n",
      "0.77\n",
      "0.78\n",
      "0.79\n",
      "0.8\n",
      "0.81\n",
      "0.82\n",
      "0.83\n",
      "0.84\n",
      "0.85\n",
      "0.86\n",
      "0.87\n",
      "0.88\n",
      "0.89\n",
      "0.9\n",
      "0.91\n",
      "0.92\n",
      "0.93\n",
      "0.94\n",
      "0.95\n",
      "0.96\n",
      "0.97\n",
      "0.98\n",
      "0.99\n"
     ]
    }
   ],
   "source": [
    "ratios = []\n",
    "n = 100\n",
    "for i,fname in enumerate(fnames[:n]):\n",
    "    print(i/n)\n",
    "    ratio = find_big_deltas(fname)\n",
    "    if abs(ratio) > 2:\n",
    "        print(fname)\n",
    "    ratios.append(ratio)"
   ]
  },
  {
   "cell_type": "code",
   "execution_count": 184,
   "metadata": {
    "collapsed": false
   },
   "outputs": [
    {
     "data": {
      "text/plain": [
       "count    100.000000\n",
       "mean       0.798660\n",
       "std        1.421604\n",
       "min       -9.102222\n",
       "25%        1.000058\n",
       "50%        1.000071\n",
       "75%        1.002890\n",
       "max        1.011358\n",
       "dtype: float64"
      ]
     },
     "execution_count": 184,
     "metadata": {},
     "output_type": "execute_result"
    }
   ],
   "source": []
  },
  {
   "cell_type": "code",
   "execution_count": 190,
   "metadata": {
    "collapsed": false
   },
   "outputs": [],
   "source": [
    "ds = IUVSReader('/maven_iuvs/stage/products/level1a/mvn_iuv_l1a_IPH1-cycle00023-mode060-fuv_20140410T141518_v00_r00.fits.gz')"
   ]
  },
  {
   "cell_type": "code",
   "execution_count": 196,
   "metadata": {
    "collapsed": false
   },
   "outputs": [
    {
     "data": {
      "text/plain": [
       "-0.025"
      ]
     },
     "execution_count": 196,
     "metadata": {},
     "output_type": "execute_result"
    }
   ],
   "source": [
    "ds.img_header['MIR_DEG']"
   ]
  },
  {
   "cell_type": "code",
   "execution_count": 193,
   "metadata": {
    "collapsed": false
   },
   "outputs": [],
   "source": [
    "df = ds.integration.data"
   ]
  },
  {
   "cell_type": "code",
   "execution_count": 194,
   "metadata": {
    "collapsed": false
   },
   "outputs": [
    {
     "data": {
      "text/plain": [
       "0.00274658203125"
      ]
     },
     "execution_count": 194,
     "metadata": {},
     "output_type": "execute_result"
    }
   ],
   "source": [
    "df.get_value('MIRROR_DEG', 0)"
   ]
  },
  {
   "cell_type": "code",
   "execution_count": 195,
   "metadata": {
    "collapsed": false
   },
   "outputs": [
    {
     "data": {
      "text/plain": [
       "[1.011358024691358,\n",
       " 1.0000610388817677,\n",
       " 0.9954787585092881,\n",
       " 1.0000741804419213,\n",
       " 1.0000610388817677,\n",
       " 1.011358024691358,\n",
       " 1.0000610388817677,\n",
       " 1.011358024691358,\n",
       " 1.011358024691358,\n",
       " 1.0000956122562226,\n",
       " 1.0000610388817677,\n",
       " 0.9102222222222223,\n",
       " 1.0004109076109076,\n",
       " 1.011358024691358,\n",
       " 1.0000426922721817,\n",
       " 1.0000426922721817,\n",
       " 1.0000610388817677,\n",
       " 1.0057704112952732,\n",
       " 1.0000610388817677,\n",
       " 1.0000610388817677,\n",
       " 1.0000737973674572,\n",
       " 0.9102222222222223,\n",
       " 1.011358024691358,\n",
       " 1.011358024691358,\n",
       " 1.000043535246735,\n",
       " 1.0000426922721817,\n",
       " 1.0000610388817677,\n",
       " 0.9996287972144013,\n",
       " 1.0000592110319881,\n",
       " 1.011358024691358,\n",
       " 1.0000610388817677,\n",
       " 1.0002442002442002,\n",
       " 1.0002442002442002,\n",
       " 1.000454473374049,\n",
       " 1.0000610388817677,\n",
       " 1.0000610388817677,\n",
       " 1.0000610388817677,\n",
       " 1.0000411445128576,\n",
       " 1.0008275487701441,\n",
       " 1.011358024691358,\n",
       " 0.99544339497682,\n",
       " 0.9996287972144013,\n",
       " 0.9996287972144013,\n",
       " 1.0000610388817677,\n",
       " 1.0000610388817677,\n",
       " 1.000092264416315,\n",
       " 1.000454473374049,\n",
       " 1.011358024691358,\n",
       " 1.000043535246735,\n",
       " 1.011358024691358,\n",
       " 1.000092264416315,\n",
       " 1.011358024691358,\n",
       " 1.0000610388817677,\n",
       " 1.011358024691358,\n",
       " 1.011358024691358,\n",
       " 1.0005406643757158,\n",
       " 1.0000610388817677,\n",
       " 1.011358024691358,\n",
       " 0.99544339497682,\n",
       " 0.9991679126788259,\n",
       " 1.011358024691358,\n",
       " -9.102222222222222,\n",
       " -9.102222222222222,\n",
       " 1.0000516802366892,\n",
       " 1.0000737973674572,\n",
       " 1.0000956122562226,\n",
       " 1.011358024691358,\n",
       " 1.0024463223787168,\n",
       " 1.000593928287826,\n",
       " 1.0000737973674572,\n",
       " 1.0000610388817677,\n",
       " 1.000052647159285,\n",
       " 1.0057704112952732,\n",
       " 1.0000741804419213,\n",
       " 1.0039033214324353,\n",
       " 1.0000741804419213,\n",
       " 1.0000674622750414,\n",
       " 1.0000737973674572,\n",
       " 1.011358024691358,\n",
       " 1.0000426922721817,\n",
       " 1.0000610388817677,\n",
       " 1.000043535246735,\n",
       " 1.0000610388817677,\n",
       " 1.0057704112952732,\n",
       " 0.9989009268795056,\n",
       " 1.0000610388817677,\n",
       " 1.0000674622750414,\n",
       " 1.0000741804419213,\n",
       " 1.0000610388817677,\n",
       " 1.0057704112952732,\n",
       " 1.000043535246735,\n",
       " 1.0000610388817677,\n",
       " 1.000052647159285,\n",
       " 1.0000956122562226,\n",
       " 1.011358024691358,\n",
       " 1.011358024691358,\n",
       " 1.0000426922721817,\n",
       " 1.0000741804419213,\n",
       " 1.002552419840335,\n",
       " 1.000454473374049]"
      ]
     },
     "execution_count": 195,
     "metadata": {},
     "output_type": "execute_result"
    }
   ],
   "source": [
    "ratios"
   ]
  },
  {
   "cell_type": "code",
   "execution_count": 202,
   "metadata": {
    "collapsed": false
   },
   "outputs": [
    {
     "data": {
      "text/plain": [
       "count    100.000000\n",
       "mean       0.798660\n",
       "std        1.421604\n",
       "min       -9.102222\n",
       "25%        1.000058\n",
       "50%        1.000071\n",
       "75%        1.002890\n",
       "max        1.011358\n",
       "dtype: float64"
      ]
     },
     "execution_count": 202,
     "metadata": {},
     "output_type": "execute_result"
    }
   ],
   "source": [
    "pd.Series(ratios).describe()"
   ]
  },
  {
   "cell_type": "code",
   "execution_count": 203,
   "metadata": {
    "collapsed": false
   },
   "outputs": [
    {
     "data": {
      "text/plain": [
       "1.0000706298212494"
      ]
     },
     "execution_count": 203,
     "metadata": {},
     "output_type": "execute_result"
    }
   ],
   "source": [
    "pd.Series(ratios).median()"
   ]
  }
 ],
 "metadata": {
  "kernelspec": {
   "display_name": "Python 3",
   "language": "python",
   "name": "python3"
  },
  "language_info": {
   "codemirror_mode": {
    "name": "ipython",
    "version": 3
   },
   "file_extension": ".py",
   "mimetype": "text/x-python",
   "name": "python",
   "nbconvert_exporter": "python",
   "pygments_lexer": "ipython3",
   "version": "3.4.2"
  }
 },
 "nbformat": 4,
 "nbformat_minor": 0
}
