{
 "cells": [
  {
   "cell_type": "code",
   "execution_count": 1,
   "metadata": {
    "collapsed": false
   },
   "outputs": [],
   "source": [
    "%load_ext autoreload"
   ]
  },
  {
   "cell_type": "code",
   "execution_count": 2,
   "metadata": {
    "collapsed": false
   },
   "outputs": [],
   "source": [
    "%autoreload 2"
   ]
  },
  {
   "cell_type": "code",
   "execution_count": 3,
   "metadata": {
    "collapsed": false
   },
   "outputs": [],
   "source": [
    "from iuvs import io"
   ]
  },
  {
   "cell_type": "code",
   "execution_count": 4,
   "metadata": {
    "collapsed": false
   },
   "outputs": [
    {
     "name": "stdout",
     "output_type": "stream",
     "text": [
      "Searching for *muvdark*.fits.gz\n"
     ]
    }
   ],
   "source": [
    "muvdarks = list(io.get_l1a_darks('muv'))"
   ]
  },
  {
   "cell_type": "code",
   "execution_count": 8,
   "metadata": {
    "collapsed": false
   },
   "outputs": [],
   "source": [
    "from IPython.parallel import Client\n",
    "c = Client()\n",
    "lb = c.load_balanced_view()"
   ]
  },
  {
   "cell_type": "code",
   "execution_count": 18,
   "metadata": {
    "collapsed": false
   },
   "outputs": [],
   "source": [
    "def search_ff_dark(fname):\n",
    "    from iuvs import io\n",
    "    data = io.IUVS1AReader(str(fname))\n",
    "    if data.img_header['NAXIS1'] == 1024:\n",
    "        if data.img_header['NAXIS2'] == 1024:\n",
    "            return fname"
   ]
  },
  {
   "cell_type": "code",
   "execution_count": 23,
   "metadata": {
    "collapsed": false
   },
   "outputs": [],
   "source": [
    "res = lb.map_async(search_ff_dark, muvdarks)"
   ]
  },
  {
   "cell_type": "code",
   "execution_count": 27,
   "metadata": {
    "collapsed": false
   },
   "outputs": [
    {
     "name": "stdout",
     "output_type": "stream",
     "text": [
      "66.80377449794338 %\n",
      "76.74812484877813 %\n",
      "85.6278732155819 %\n",
      "95.33026857004597 %\n",
      "100.0 %\n"
     ]
    }
   ],
   "source": [
    "import time\n",
    "while not res.ready():\n",
    "    time.sleep(20)\n",
    "    print(100*res.progress/len(muvdarks),'%')"
   ]
  },
  {
   "cell_type": "code",
   "execution_count": 30,
   "metadata": {
    "collapsed": false
   },
   "outputs": [],
   "source": [
    "import pandas as pd\n",
    "s = pd.Series(res.result).dropna()"
   ]
  },
  {
   "cell_type": "code",
   "execution_count": 63,
   "metadata": {
    "collapsed": false
   },
   "outputs": [],
   "source": [
    "import datetime as dt\n",
    "import os\n",
    "class IUVS_Filename:\n",
    "    def __init__(self, fname):\n",
    "        tokens = os.path.basename(fname).split('_')\n",
    "        self.mission, self.instrument = tokens[:2]\n",
    "        self.level = tokens[2]\n",
    "        self.phase = tokens[3]\n",
    "        self.timestr, self.version = tokens[4:6]\n",
    "        self.revision = tokens[6].split('.')[0]\n",
    "        phasetokens = self.phase.split('-')\n",
    "        self.tokens = tokens\n",
    "        self.phase, self.cycle, self.mode, self.channel = phasetokens\n",
    "        self.time = dt.datetime.strptime(self.timestr,\n",
    "                                         '%Y%m%dT%H%M%S')"
   ]
  },
  {
   "cell_type": "code",
   "execution_count": 64,
   "metadata": {
    "collapsed": false
   },
   "outputs": [],
   "source": [
    "f = IUVS_Filename(str(s.tolist()[0]))"
   ]
  },
  {
   "cell_type": "code",
   "execution_count": 65,
   "metadata": {
    "collapsed": false
   },
   "outputs": [
    {
     "data": {
      "text/plain": [
       "['mvn',\n",
       " 'iuv',\n",
       " 'l1a',\n",
       " 'IPH2-cycle00103-mode040-muvdark',\n",
       " '20140527T154453',\n",
       " 'v00',\n",
       " 'r00.fits.gz']"
      ]
     },
     "execution_count": 65,
     "metadata": {},
     "output_type": "execute_result"
    }
   ],
   "source": [
    "f.tokens"
   ]
  },
  {
   "cell_type": "code",
   "execution_count": 74,
   "metadata": {
    "collapsed": false
   },
   "outputs": [],
   "source": [
    "s = s.map(lambda x: os.path.basename(str(x)))"
   ]
  },
  {
   "cell_type": "code",
   "execution_count": 75,
   "metadata": {
    "collapsed": true
   },
   "outputs": [],
   "source": [
    "s.sort()"
   ]
  },
  {
   "cell_type": "code",
   "execution_count": 77,
   "metadata": {
    "collapsed": false
   },
   "outputs": [],
   "source": [
    "df = pd.DataFrame(s)"
   ]
  },
  {
   "cell_type": "code",
   "execution_count": 80,
   "metadata": {
    "collapsed": false
   },
   "outputs": [],
   "source": [
    "df.columns = ['basename']"
   ]
  },
  {
   "cell_type": "code",
   "execution_count": 83,
   "metadata": {
    "collapsed": true
   },
   "outputs": [],
   "source": [
    "df['cycle'] = df.basename.map(lambda x: IUVS_Filename(x).cycle[:5])"
   ]
  },
  {
   "cell_type": "code",
   "execution_count": 84,
   "metadata": {
    "collapsed": false
   },
   "outputs": [
    {
     "data": {
      "text/plain": [
       "cycle    513\n",
       "orbit      2\n",
       "dtype: int64"
      ]
     },
     "execution_count": 84,
     "metadata": {},
     "output_type": "execute_result"
    }
   ],
   "source": [
    "df.cycle.value_counts()"
   ]
  },
  {
   "cell_type": "code",
   "execution_count": 24,
   "metadata": {
    "collapsed": false
   },
   "outputs": [],
   "source": [
    "data = io.IUVS1AReader(str(ff_muvdarks[0]))"
   ]
  },
  {
   "cell_type": "code",
   "execution_count": 25,
   "metadata": {
    "collapsed": false
   },
   "outputs": [],
   "source": [
    "header = data.img_header"
   ]
  },
  {
   "cell_type": "code",
   "execution_count": 27,
   "metadata": {
    "collapsed": false
   },
   "outputs": [
    {
     "data": {
      "text/plain": [
       "'mvn_iuv_l1a_IPH2-cycle00103-mode040-muvdark_20140527T154453_v00_r00.fits.gz'"
      ]
     },
     "execution_count": 27,
     "metadata": {},
     "output_type": "execute_result"
    }
   ],
   "source": [
    "data.fname"
   ]
  },
  {
   "cell_type": "code",
   "execution_count": 26,
   "metadata": {
    "collapsed": false
   },
   "outputs": [
    {
     "data": {
      "text/plain": [
       "SIMPLE  =                    T /Primary Header created by MWRFITS v1.11         \n",
       "BITPIX  =                   32 /                                                \n",
       "NAXIS   =                    2 /                                                \n",
       "NAXIS1  =                 1024 /                                                \n",
       "NAXIS2  =                 1024 /                                                \n",
       "EXTEND  =                    T /Extensions may be present                       \n",
       "COMMENT MAVEN IUVS Level 1A Data Product                                        \n",
       "COMMENT IUVS Principal Investigator N. Schneider                                \n",
       "COMMENT Laboratory for Atmospheric and Space Physics                            \n",
       "COMMENT University of Colorado Boulder                                          \n",
       "COMMENT 1234 Innovation Drive, Boulder CO 80303                                 \n",
       "COMMENT MAVEN Mission scientific and model results are open to all.             \n",
       "COMMENT Users should contact the PI or designated IUVS team member early in an  \n",
       "COMMENT analysis project to discuss appropriate use of instrument data results. \n",
       "COMMENT Appropriate acknowledgement to institutions, personnel, and funding     \n",
       "COMMENT agencies should be given. Version numbers should also be specified.     \n",
       "BLANK   = -1 /fill value for data in integer format                             \n",
       "FILENAME= '''mvn_iuv_l1a_IPH2-cycle00103-mode040-muvdark_20140527T154453_v00_r&'\n",
       "CONTINUE  '00.f&'                                                               \n",
       "CAPTURE = '2014/147 May 27 15:44:53.23092UTC' /Start of integration SCET        \n",
       "PROCESS = '2014/265 Sep 22 23:59:18.00000UTC' /File processing time             \n",
       "SW_VER  = '-1' /SVN revision of processing code                                 \n",
       "XUV     = 'MUV'                                                                 \n",
       "OBS_ID  =                   40                                                  \n",
       "INT_TIME=   60.000 /Integration time in seconds                                 \n",
       "MCP_VOLT=   -1.830 /MCP voltage in volts                                        \n",
       "MIR_DEG =    0.250 /Mirror position in deg                                      \n",
       "N_FILL  =            0 //Number of absent bins in observation                   \n",
       "BIN_TBL = 'LINEAR 11,11 RidealongIPH2'                                          \n",
       "SPA_OFS =        0 //Spatial linear bin offset                                  \n",
       "SPA_SIZE=        1 //Number of pixels per spatial bin                           \n",
       "SPE_OFS =        0 //Spectral linear bin offset                                 \n",
       "SPE_SIZE=        1 //Number of pixels per spectral bin                          \n",
       "KERNEL  = 'naif0010.tls'                                                        \n",
       "KERNEL  = 'maven_v04_draft2.tf'                                                 \n",
       "KERNEL  = 'maven_iuvs_v01.ti'                                                   \n",
       "KERNEL  = 'MVN_SCLKSCET.00004.tsc'                                              \n",
       "KERNEL  = 'mvn_app_stow_131118_141009_v01.bc'                                   \n",
       "KERNEL  = 'trj_c_od015a_140215-141012_moiprelim_v1.bsp'                         \n",
       "KERNEL  = 'mvn_sc_rec_140526_140529_v03.bc'                                     \n",
       "KERNEL  = 'mvn_iuv_all_l0_20140527_v002.bc'                                     \n",
       "COMMENT Raw data for this observation                                           "
      ]
     },
     "execution_count": 26,
     "metadata": {},
     "output_type": "execute_result"
    }
   ],
   "source": [
    "header"
   ]
  },
  {
   "cell_type": "code",
   "execution_count": 4,
   "metadata": {
    "collapsed": false
   },
   "outputs": [],
   "source": [
    "%matplotlib qt"
   ]
  },
  {
   "cell_type": "code",
   "execution_count": 21,
   "metadata": {
    "collapsed": false
   },
   "outputs": [],
   "source": [
    "from matplotlib import rcParams\n",
    "rcParams['image.interpolation'] = 'None'"
   ]
  },
  {
   "cell_type": "code",
   "execution_count": 22,
   "metadata": {
    "collapsed": false
   },
   "outputs": [
    {
     "data": {
      "text/plain": [
       "<matplotlib.axes._subplots.AxesSubplot at 0x7f0e2466c4a8>"
      ]
     },
     "execution_count": 22,
     "metadata": {},
     "output_type": "execute_result"
    }
   ],
   "source": [
    "data.plot_img_data()"
   ]
  },
  {
   "cell_type": "code",
   "execution_count": 29,
   "metadata": {
    "collapsed": false
   },
   "outputs": [],
   "source": [
    "s = pd.Series(ff_muvdarks)"
   ]
  },
  {
   "cell_type": "code",
   "execution_count": 32,
   "metadata": {
    "collapsed": false
   },
   "outputs": [],
   "source": [
    "s.to_pickle('ff_muvdarks.pickle')"
   ]
  },
  {
   "cell_type": "code",
   "execution_count": 5,
   "metadata": {
    "collapsed": false
   },
   "outputs": [],
   "source": [
    "s = pd.io.pickle.read_pickle('ff_muvdarks.pickle')"
   ]
  },
  {
   "cell_type": "code",
   "execution_count": 6,
   "metadata": {
    "collapsed": false
   },
   "outputs": [],
   "source": [
    "data = io.IUVS1AReader(str(s[0]))"
   ]
  },
  {
   "cell_type": "code",
   "execution_count": 7,
   "metadata": {
    "collapsed": false
   },
   "outputs": [
    {
     "data": {
      "text/plain": [
       "<matplotlib.axes._subplots.AxesSubplot at 0x7eff71bd96a0>"
      ]
     },
     "execution_count": 7,
     "metadata": {},
     "output_type": "execute_result"
    }
   ],
   "source": [
    "data.plot_img_data()"
   ]
  },
  {
   "cell_type": "code",
   "execution_count": 7,
   "metadata": {
    "collapsed": false
   },
   "outputs": [
    {
     "name": "stderr",
     "output_type": "stream",
     "text": [
      "WARNING: VerifyWarning: Verification reported errors: [astropy.io.fits.verify]\n",
      "WARNING:astropy:VerifyWarning: Verification reported errors:\n",
      "WARNING: VerifyWarning: Card 'FILENAME' is not FITS standard (invalid value string: \"'mvn_iuv_l1a_IPH2-cycle00103-mode040-muvdark_20140527T154453_v00_r00.f\").  Fixed 'FILENAME' card to meet the FITS standard. [astropy.io.fits.verify]\n",
      "WARNING:astropy:VerifyWarning: Card 'FILENAME' is not FITS standard (invalid value string: \"'mvn_iuv_l1a_IPH2-cycle00103-mode040-muvdark_20140527T154453_v00_r00.f\").  Fixed 'FILENAME' card to meet the FITS standard.\n",
      "WARNING: VerifyWarning: Note: PyFITS uses zero-based indexing.\n",
      " [astropy.io.fits.verify]\n",
      "WARNING:astropy:VerifyWarning: Note: PyFITS uses zero-based indexing.\n",
      "\n"
     ]
    },
    {
     "data": {
      "text/plain": [
       "SIMPLE  =                    T /Primary Header created by MWRFITS v1.11         \n",
       "BITPIX  =                   32 /                                                \n",
       "NAXIS   =                    2 /                                                \n",
       "NAXIS1  =                 1024 /                                                \n",
       "NAXIS2  =                 1024 /                                                \n",
       "EXTEND  =                    T /Extensions may be present                       \n",
       "COMMENT MAVEN IUVS Level 1A Data Product                                        \n",
       "COMMENT IUVS Principal Investigator N. Schneider                                \n",
       "COMMENT Laboratory for Atmospheric and Space Physics                            \n",
       "COMMENT University of Colorado Boulder                                          \n",
       "COMMENT 1234 Innovation Drive, Boulder CO 80303                                 \n",
       "COMMENT MAVEN Mission scientific and model results are open to all.             \n",
       "COMMENT Users should contact the PI or designated IUVS team member early in an  \n",
       "COMMENT analysis project to discuss appropriate use of instrument data results. \n",
       "COMMENT Appropriate acknowledgement to institutions, personnel, and funding     \n",
       "COMMENT agencies should be given. Version numbers should also be specified.     \n",
       "BLANK   = -1 /fill value for data in integer format                             \n",
       "FILENAME= '''mvn_iuv_l1a_IPH2-cycle00103-mode040-muvdark_20140527T154453_v00_r&'\n",
       "CONTINUE  '00.f&'                                                               \n",
       "CAPTURE = '2014/147 May 27 15:44:53.23092UTC' /Start of integration SCET        \n",
       "PROCESS = '2014/265 Sep 22 23:59:18.00000UTC' /File processing time             \n",
       "SW_VER  = '-1' /SVN revision of processing code                                 \n",
       "XUV     = 'MUV'                                                                 \n",
       "OBS_ID  =                   40                                                  \n",
       "INT_TIME=   60.000 /Integration time in seconds                                 \n",
       "MCP_VOLT=   -1.830 /MCP voltage in volts                                        \n",
       "MIR_DEG =    0.250 /Mirror position in deg                                      \n",
       "N_FILL  =            0 //Number of absent bins in observation                   \n",
       "BIN_TBL = 'LINEAR 11,11 RidealongIPH2'                                          \n",
       "SPA_OFS =        0 //Spatial linear bin offset                                  \n",
       "SPA_SIZE=        1 //Number of pixels per spatial bin                           \n",
       "SPE_OFS =        0 //Spectral linear bin offset                                 \n",
       "SPE_SIZE=        1 //Number of pixels per spectral bin                          \n",
       "KERNEL  = 'naif0010.tls'                                                        \n",
       "KERNEL  = 'maven_v04_draft2.tf'                                                 \n",
       "KERNEL  = 'maven_iuvs_v01.ti'                                                   \n",
       "KERNEL  = 'MVN_SCLKSCET.00004.tsc'                                              \n",
       "KERNEL  = 'mvn_app_stow_131118_141009_v01.bc'                                   \n",
       "KERNEL  = 'trj_c_od015a_140215-141012_moiprelim_v1.bsp'                         \n",
       "KERNEL  = 'mvn_sc_rec_140526_140529_v03.bc'                                     \n",
       "KERNEL  = 'mvn_iuv_all_l0_20140527_v002.bc'                                     \n",
       "COMMENT Raw data for this observation                                           "
      ]
     },
     "execution_count": 7,
     "metadata": {},
     "output_type": "execute_result"
    }
   ],
   "source": [
    "data.img_header"
   ]
  },
  {
   "cell_type": "code",
   "execution_count": 8,
   "metadata": {
    "collapsed": false
   },
   "outputs": [],
   "source": [
    "from skimage.exposure import equalize_hist"
   ]
  },
  {
   "cell_type": "code",
   "execution_count": 9,
   "metadata": {
    "collapsed": false
   },
   "outputs": [],
   "source": [
    "equal = equalize_hist(data.img)"
   ]
  },
  {
   "cell_type": "code",
   "execution_count": 11,
   "metadata": {
    "collapsed": false
   },
   "outputs": [
    {
     "data": {
      "text/plain": [
       "<matplotlib.image.AxesImage at 0x7eff5c91b9b0>"
      ]
     },
     "execution_count": 11,
     "metadata": {},
     "output_type": "execute_result"
    }
   ],
   "source": [
    "plt.imshow(equal)"
   ]
  },
  {
   "cell_type": "code",
   "execution_count": 15,
   "metadata": {
    "collapsed": false
   },
   "outputs": [],
   "source": [
    "from IPython.parallel import Client"
   ]
  },
  {
   "cell_type": "code",
   "execution_count": 16,
   "metadata": {
    "collapsed": false
   },
   "outputs": [],
   "source": [
    "c = Client()"
   ]
  },
  {
   "cell_type": "code",
   "execution_count": 54,
   "metadata": {
    "collapsed": false
   },
   "outputs": [],
   "source": [
    "dview = c[:]\n",
    "lb = c.load_balanced_view()"
   ]
  },
  {
   "cell_type": "code",
   "execution_count": 59,
   "metadata": {
    "collapsed": false
   },
   "outputs": [],
   "source": [
    "%%px\n",
    "from iuvs import io\n",
    "import numpy as np"
   ]
  },
  {
   "cell_type": "code",
   "execution_count": 90,
   "metadata": {
    "collapsed": false
   },
   "outputs": [],
   "source": [
    "int_times = []\n",
    "errors = []\n",
    "def get_int_times(fpath):\n",
    "    try:\n",
    "        int_time = io.IUVS1AReader(str(fpath)).img_header['INT_TIME']\n",
    "    except ValueError:\n",
    "        return\n",
    "    return fpath,int_time"
   ]
  },
  {
   "cell_type": "code",
   "execution_count": 91,
   "metadata": {
    "collapsed": false
   },
   "outputs": [],
   "source": [
    "result = lb.map_async(get_int_times, s.tolist())"
   ]
  },
  {
   "cell_type": "code",
   "execution_count": 92,
   "metadata": {
    "collapsed": false
   },
   "outputs": [
    {
     "data": {
      "text/plain": [
       "<AsyncMapResult: get_int_times>"
      ]
     },
     "execution_count": 92,
     "metadata": {},
     "output_type": "execute_result"
    }
   ],
   "source": [
    "result"
   ]
  },
  {
   "cell_type": "code",
   "execution_count": 93,
   "metadata": {
    "collapsed": false
   },
   "outputs": [],
   "source": [
    "results = result.get()"
   ]
  },
  {
   "cell_type": "code",
   "execution_count": 95,
   "metadata": {
    "collapsed": false
   },
   "outputs": [],
   "source": [
    "cleaned = []\n",
    "for item in results:\n",
    "    if item:\n",
    "        cleaned.append(item)"
   ]
  },
  {
   "cell_type": "code",
   "execution_count": 100,
   "metadata": {
    "collapsed": false
   },
   "outputs": [],
   "source": [
    "import os\n",
    "index = [str(i) for i,j in cleaned]\n",
    "times = [j for i,j in cleaned]"
   ]
  },
  {
   "cell_type": "code",
   "execution_count": 102,
   "metadata": {
    "collapsed": false
   },
   "outputs": [],
   "source": [
    "s = pd.Series(times, index=index)"
   ]
  },
  {
   "cell_type": "code",
   "execution_count": 103,
   "metadata": {
    "collapsed": false
   },
   "outputs": [
    {
     "data": {
      "text/plain": [
       "60.0    226\n",
       "10.2    219\n",
       "6.0     214\n",
       "14.4     15\n",
       "dtype: int64"
      ]
     },
     "execution_count": 103,
     "metadata": {},
     "output_type": "execute_result"
    }
   ],
   "source": [
    "s.value_counts()"
   ]
  },
  {
   "cell_type": "code",
   "execution_count": 109,
   "metadata": {
    "collapsed": false
   },
   "outputs": [],
   "source": [
    "t6 = s[s < 10].index[0]"
   ]
  },
  {
   "cell_type": "code",
   "execution_count": 112,
   "metadata": {
    "collapsed": false
   },
   "outputs": [],
   "source": [
    "t10 = s[(s>10) & (s<14)].index[0]"
   ]
  },
  {
   "cell_type": "code",
   "execution_count": 113,
   "metadata": {
    "collapsed": false
   },
   "outputs": [],
   "source": [
    "t14 = s[(s>14) & (s<20)].index[0]"
   ]
  },
  {
   "cell_type": "code",
   "execution_count": 115,
   "metadata": {
    "collapsed": false
   },
   "outputs": [],
   "source": [
    "t60 = s[s>59].index[0]"
   ]
  },
  {
   "cell_type": "code",
   "execution_count": 116,
   "metadata": {
    "collapsed": false
   },
   "outputs": [
    {
     "data": {
      "text/plain": [
       "'/maven_iuvs/stage/products/level1a/mvn_iuv_l1a_IPH2-cycle00103-mode040-muvdark_20140527T154453_v00_r00.fits.gz'"
      ]
     },
     "execution_count": 116,
     "metadata": {},
     "output_type": "execute_result"
    }
   ],
   "source": [
    "t60"
   ]
  },
  {
   "cell_type": "code",
   "execution_count": null,
   "metadata": {
    "collapsed": false
   },
   "outputs": [],
   "source": [
    "def plot_img_data(img,ax):\n",
    "    ax.imshow(img)\n",
    "    ax.set_title(\"{}, {}, {}\".format())"
   ]
  },
  {
   "cell_type": "code",
   "execution_count": 120,
   "metadata": {
    "collapsed": false
   },
   "outputs": [
    {
     "name": "stdout",
     "output_type": "stream",
     "text": [
      "/maven_iuvs/stage/products/level1a/mvn_iuv_l1a_IPH2-cycle00022-mode050-muvdark_20140426T023038_v00_r00.fits.gz\n",
      "/maven_iuvs/stage/products/level1a/mvn_iuv_l1a_early-orbit00003-mode003-muvdark_20140925T202812_v00_r00.fits.gz\n"
     ]
    },
    {
     "ename": "TypeError",
     "evalue": "Invalid dimensions for image data",
     "output_type": "error",
     "traceback": [
      "\u001b[1;31m---------------------------------------------------------------------------\u001b[0m\n\u001b[1;31mTypeError\u001b[0m                                 Traceback (most recent call last)",
      "\u001b[1;32m<ipython-input-120-078389ec0bc3>\u001b[0m in \u001b[0;36m<module>\u001b[1;34m()\u001b[0m\n\u001b[0;32m      5\u001b[0m     \u001b[0mprint\u001b[0m\u001b[1;33m(\u001b[0m\u001b[0mfname\u001b[0m\u001b[1;33m)\u001b[0m\u001b[1;33m\u001b[0m\u001b[0m\n\u001b[0;32m      6\u001b[0m     \u001b[0mdata\u001b[0m \u001b[1;33m=\u001b[0m \u001b[0mio\u001b[0m\u001b[1;33m.\u001b[0m\u001b[0mIUVS1AReader\u001b[0m\u001b[1;33m(\u001b[0m\u001b[0mfname\u001b[0m\u001b[1;33m)\u001b[0m\u001b[1;33m\u001b[0m\u001b[0m\n\u001b[1;32m----> 7\u001b[1;33m     \u001b[0max\u001b[0m\u001b[1;33m.\u001b[0m\u001b[0mimshow\u001b[0m\u001b[1;33m(\u001b[0m\u001b[0mdata\u001b[0m\u001b[1;33m.\u001b[0m\u001b[0mimg\u001b[0m\u001b[1;33m)\u001b[0m\u001b[1;33m\u001b[0m\u001b[0m\n\u001b[0m\u001b[0;32m      8\u001b[0m     ax.set_title(\"{}, {}, {}\".format(data.fname.channel,\n\u001b[0;32m      9\u001b[0m                                        \u001b[0mdata\u001b[0m\u001b[1;33m.\u001b[0m\u001b[0mfname\u001b[0m\u001b[1;33m.\u001b[0m\u001b[0mphase\u001b[0m\u001b[1;33m,\u001b[0m\u001b[1;33m\u001b[0m\u001b[0m\n",
      "\u001b[1;32m/usr/local/python3/miniconda/lib/python3.4/site-packages/matplotlib/axes/_axes.py\u001b[0m in \u001b[0;36mimshow\u001b[1;34m(self, X, cmap, norm, aspect, interpolation, alpha, vmin, vmax, origin, extent, shape, filternorm, filterrad, imlim, resample, url, **kwargs)\u001b[0m\n\u001b[0;32m   4643\u001b[0m                        filterrad=filterrad, resample=resample, **kwargs)\n\u001b[0;32m   4644\u001b[0m \u001b[1;33m\u001b[0m\u001b[0m\n\u001b[1;32m-> 4645\u001b[1;33m         \u001b[0mim\u001b[0m\u001b[1;33m.\u001b[0m\u001b[0mset_data\u001b[0m\u001b[1;33m(\u001b[0m\u001b[0mX\u001b[0m\u001b[1;33m)\u001b[0m\u001b[1;33m\u001b[0m\u001b[0m\n\u001b[0m\u001b[0;32m   4646\u001b[0m         \u001b[0mim\u001b[0m\u001b[1;33m.\u001b[0m\u001b[0mset_alpha\u001b[0m\u001b[1;33m(\u001b[0m\u001b[0malpha\u001b[0m\u001b[1;33m)\u001b[0m\u001b[1;33m\u001b[0m\u001b[0m\n\u001b[0;32m   4647\u001b[0m         \u001b[1;32mif\u001b[0m \u001b[0mim\u001b[0m\u001b[1;33m.\u001b[0m\u001b[0mget_clip_path\u001b[0m\u001b[1;33m(\u001b[0m\u001b[1;33m)\u001b[0m \u001b[1;32mis\u001b[0m \u001b[1;32mNone\u001b[0m\u001b[1;33m:\u001b[0m\u001b[1;33m\u001b[0m\u001b[0m\n",
      "\u001b[1;32m/usr/local/python3/miniconda/lib/python3.4/site-packages/matplotlib/image.py\u001b[0m in \u001b[0;36mset_data\u001b[1;34m(self, A)\u001b[0m\n\u001b[0;32m    436\u001b[0m         if (self._A.ndim not in (2, 3) or\n\u001b[0;32m    437\u001b[0m             (self._A.ndim == 3 and self._A.shape[-1] not in (3, 4))):\n\u001b[1;32m--> 438\u001b[1;33m             \u001b[1;32mraise\u001b[0m \u001b[0mTypeError\u001b[0m\u001b[1;33m(\u001b[0m\u001b[1;34m\"Invalid dimensions for image data\"\u001b[0m\u001b[1;33m)\u001b[0m\u001b[1;33m\u001b[0m\u001b[0m\n\u001b[0m\u001b[0;32m    439\u001b[0m \u001b[1;33m\u001b[0m\u001b[0m\n\u001b[0;32m    440\u001b[0m         \u001b[0mself\u001b[0m\u001b[1;33m.\u001b[0m\u001b[0m_imcache\u001b[0m \u001b[1;33m=\u001b[0m \u001b[1;32mNone\u001b[0m\u001b[1;33m\u001b[0m\u001b[0m\n",
      "\u001b[1;31mTypeError\u001b[0m: Invalid dimensions for image data"
     ]
    }
   ],
   "source": [
    "equalled = []\n",
    "fig, axes = plt.subplots(2,2)\n",
    "axes = axes.flatten()\n",
    "for ax,fname in zip(axes, [t6,t10,t14,t60]):\n",
    "    print(fname)\n",
    "    data = io.IUVS1AReader(fname)\n",
    "    ax.imshow(data.img)\n",
    "    ax.set_title(\"{}, {}, {}\".format(data.fname.channel,\n",
    "                                       data.fname.phase,\n",
    "                                       data.img_header['INT_TIME']))"
   ]
  },
  {
   "cell_type": "code",
   "execution_count": 121,
   "metadata": {
    "collapsed": false
   },
   "outputs": [],
   "source": [
    "data = io.IUVS1AReader(t10)"
   ]
  },
  {
   "cell_type": "code",
   "execution_count": 122,
   "metadata": {
    "collapsed": false
   },
   "outputs": [
    {
     "name": "stderr",
     "output_type": "stream",
     "text": [
      "WARNING: VerifyWarning: Verification reported errors: [astropy.io.fits.verify]\n",
      "WARNING:astropy:VerifyWarning: Verification reported errors:\n",
      "WARNING: VerifyWarning: Card 'FILENAME' is not FITS standard (invalid value string: \"'mvn_iuv_l1a_early-orbit00003-mode003-muvdark_20140925T202812_v00_r00.\").  Fixed 'FILENAME' card to meet the FITS standard. [astropy.io.fits.verify]\n",
      "WARNING:astropy:VerifyWarning: Card 'FILENAME' is not FITS standard (invalid value string: \"'mvn_iuv_l1a_early-orbit00003-mode003-muvdark_20140925T202812_v00_r00.\").  Fixed 'FILENAME' card to meet the FITS standard.\n",
      "WARNING: VerifyWarning: Note: PyFITS uses zero-based indexing.\n",
      " [astropy.io.fits.verify]\n",
      "WARNING:astropy:VerifyWarning: Note: PyFITS uses zero-based indexing.\n",
      "\n"
     ]
    },
    {
     "data": {
      "text/plain": [
       "SIMPLE  =                    T /Primary Header created by MWRFITS v1.11         \n",
       "BITPIX  =                   32 /                                                \n",
       "NAXIS   =                    3 /                                                \n",
       "NAXIS1  =                 1024 /                                                \n",
       "NAXIS2  =                   36 /                                                \n",
       "NAXIS3  =                    2 /                                                \n",
       "EXTEND  =                    T /Extensions may be present                       \n",
       "COMMENT MAVEN IUVS Level 1A Data Product                                        \n",
       "COMMENT IUVS Principal Investigator N. Schneider                                \n",
       "COMMENT Laboratory for Atmospheric and Space Physics                            \n",
       "COMMENT University of Colorado Boulder                                          \n",
       "COMMENT 1234 Innovation Drive, Boulder CO 80303                                 \n",
       "COMMENT MAVEN Mission scientific and model results are open to all.             \n",
       "COMMENT Users should contact the PI or designated IUVS team member early in an  \n",
       "COMMENT analysis project to discuss appropriate use of instrument data results. \n",
       "COMMENT Appropriate acknowledgement to institutions, personnel, and funding     \n",
       "COMMENT agencies should be given. Version numbers should also be specified.     \n",
       "BLANK   = -1 /fill value for data in integer format                             \n",
       "FILENAME= '''mvn_iuv_l1a_early-orbit00003-mode003-muvdark_20140925T202812_v00_&'\n",
       "CONTINUE  'r00.&'                                                               \n",
       "CAPTURE = '2014/268 Sep 25 20:28:12.76735UTC' /Start of integration SCET        \n",
       "PROCESS = '2014/344 Dec 10 01:33:23.00000UTC' /File processing time             \n",
       "SW_VER  = '-1' /SVN revision of processing code                                 \n",
       "XUV     = 'MUV'                                                                 \n",
       "OBS_ID  =                    3                                                  \n",
       "INT_TIME=   10.200 /Integration time in seconds                                 \n",
       "MCP_VOLT=   -1.830 /MCP voltage in volts                                        \n",
       "MIR_DEG =   30.251 /Mirror position in deg                                      \n",
       "N_FILL  =            0 //Number of absent bins in observation                   \n",
       "BIN_TBL = 'LINEAR 0,0 orbit35h'                                                 \n",
       "SPA_OFS =       89 //Spatial linear bin offset                                  \n",
       "SPA_SIZE=       23 //Number of pixels per spatial bin                           \n",
       "SPE_OFS =        0 //Spectral linear bin offset                                 \n",
       "SPE_SIZE=        1 //Number of pixels per spectral bin                          \n",
       "KERNEL  = 'naif0010.tls'                                                        \n",
       "KERNEL  = 'maven_v05_draft4.tf'                                                 \n",
       "KERNEL  = 'maven_iuvs_v01.ti'                                                   \n",
       "KERNEL  = 'mvn_app_stow_131118_141009_v01.bc'                                   \n",
       "KERNEL  = 'mvn_sc_rec_140925_140926_v03.bc'                                     \n",
       "KERNEL  = 'mvn_iuv_all_l0_20140925_v002.bc'                                     \n",
       "KERNEL  = 'trj_orb_00001-00083_rec_v1.bsp'                                      \n",
       "KERNEL  = 'MVN_SCLKSCET.00013.tsc'                                              \n",
       "COMMENT Raw data for this observation                                           "
      ]
     },
     "execution_count": 122,
     "metadata": {},
     "output_type": "execute_result"
    }
   ],
   "source": [
    "data.img_header"
   ]
  },
  {
   "cell_type": "code",
   "execution_count": 123,
   "metadata": {
    "collapsed": false
   },
   "outputs": [
    {
     "data": {
      "text/plain": [
       "(2, 36, 1024)"
      ]
     },
     "execution_count": 123,
     "metadata": {},
     "output_type": "execute_result"
    }
   ],
   "source": [
    "data.img.shape"
   ]
  },
  {
   "cell_type": "code",
   "execution_count": 124,
   "metadata": {
    "collapsed": false
   },
   "outputs": [
    {
     "data": {
      "text/plain": [
       "<matplotlib.image.AxesImage at 0x7eff5f933550>"
      ]
     },
     "execution_count": 124,
     "metadata": {},
     "output_type": "execute_result"
    }
   ],
   "source": [
    "plt.figure()\n",
    "plt.imshow(data.img[0])"
   ]
  },
  {
   "cell_type": "code",
   "execution_count": null,
   "metadata": {
    "collapsed": false
   },
   "outputs": [],
   "source": [
    "pd.read_tab"
   ]
  },
  {
   "cell_type": "code",
   "execution_count": 19,
   "metadata": {
    "collapsed": false
   },
   "outputs": [],
   "source": [
    "l1a_metadata = pd.read_table(\"/maven_iuvs/stage/products/level1a/IUVS_L1A_index_summary.txt\",\n",
    "              skiprows=26, skipinitialspace=True, sep=' ',index_col=0)"
   ]
  },
  {
   "cell_type": "code",
   "execution_count": 57,
   "metadata": {
    "collapsed": false
   },
   "outputs": [],
   "source": [
    "ff = l1a_metadata[(l1a_metadata.NX == 1024) & (l1a_metadata.NY == 1024)]"
   ]
  },
  {
   "cell_type": "code",
   "execution_count": 56,
   "metadata": {
    "collapsed": false
   },
   "outputs": [],
   "source": [
    "l1a_metadata['is_dark'] = l1a_metadata.filename.map(lambda x: 'dark' in x)"
   ]
  },
  {
   "cell_type": "code",
   "execution_count": 89,
   "metadata": {
    "collapsed": false
   },
   "outputs": [
    {
     "data": {
      "text/html": [
       "<div style=\"max-height:1000px;max-width:1500px;overflow:auto;\">\n",
       "<table border=\"1\" class=\"dataframe\">\n",
       "  <thead>\n",
       "    <tr style=\"text-align: right;\">\n",
       "      <th></th>\n",
       "      <th>INT_TIME</th>\n",
       "      <th>MCP_HV</th>\n",
       "    </tr>\n",
       "    <tr>\n",
       "      <th>filenum</th>\n",
       "      <th></th>\n",
       "      <th></th>\n",
       "    </tr>\n",
       "  </thead>\n",
       "  <tbody>\n",
       "    <tr>\n",
       "      <th>6610</th>\n",
       "      <td> 60000</td>\n",
       "      <td> 0</td>\n",
       "    </tr>\n",
       "    <tr>\n",
       "      <th>6625</th>\n",
       "      <td> 14400</td>\n",
       "      <td> 0</td>\n",
       "    </tr>\n",
       "    <tr>\n",
       "      <th>6626</th>\n",
       "      <td> 14400</td>\n",
       "      <td> 0</td>\n",
       "    </tr>\n",
       "    <tr>\n",
       "      <th>6627</th>\n",
       "      <td> 14400</td>\n",
       "      <td> 0</td>\n",
       "    </tr>\n",
       "    <tr>\n",
       "      <th>6628</th>\n",
       "      <td> 14400</td>\n",
       "      <td> 0</td>\n",
       "    </tr>\n",
       "  </tbody>\n",
       "</table>\n",
       "</div>"
      ],
      "text/plain": [
       "         INT_TIME MCP_HV\n",
       "filenum                 \n",
       "6610        60000      0\n",
       "6625        14400      0\n",
       "6626        14400      0\n",
       "6627        14400      0\n",
       "6628        14400      0"
      ]
     },
     "execution_count": 89,
     "metadata": {},
     "output_type": "execute_result"
    }
   ],
   "source": [
    "ff[ff.is_dark][['INT_TIME','MCP_HV']]"
   ]
  },
  {
   "cell_type": "code",
   "execution_count": 62,
   "metadata": {
    "collapsed": false
   },
   "outputs": [],
   "source": [
    "ff.index = ff.index.astype('int')"
   ]
  },
  {
   "cell_type": "code",
   "execution_count": 76,
   "metadata": {
    "collapsed": false
   },
   "outputs": [],
   "source": [
    "from matplotlib import rcParams\n",
    "rcParams['image.interpolation'] = None"
   ]
  },
  {
   "cell_type": "code",
   "execution_count": 80,
   "metadata": {
    "collapsed": false
   },
   "outputs": [],
   "source": [
    "roi_indexes = [6610, 6627]"
   ]
  },
  {
   "cell_type": "code",
   "execution_count": 83,
   "metadata": {
    "collapsed": false
   },
   "outputs": [],
   "source": [
    "plt.colorbar?"
   ]
  },
  {
   "cell_type": "code",
   "execution_count": 99,
   "metadata": {
    "collapsed": false
   },
   "outputs": [],
   "source": [
    "fig, axes = plt.subplots(ncols=2, nrows=2)\n",
    "for ax, ind in zip(axes.flatten()[:2], roi_indexes):\n",
    "    fname_tokens = io.IUVS_Filename(ff.loc[ind].filename)\n",
    "    fname = io.level1apath / ff.loc[ind].filename\n",
    "    data = io.IUVS1AReader(str(fname))\n",
    "    img = data.img #/ data.img_header['INT_TIME']\n",
    "    im = ax.imshow(img)\n",
    "    ax.set_title('{}, {}'.format(fname_tokens.channel, data.img_header['INT_TIME']))\n",
    "    plt.colorbar(im, ax=ax)\n",
    "for ax, ind in zip(axes.flatten()[2:], roi_indexes):\n",
    "    fname_tokens = io.IUVS_Filename(ff.loc[ind].filename)\n",
    "    fname = io.level1apath / ff.loc[ind].filename\n",
    "    data = io.IUVS1AReader(str(fname))\n",
    "    img = data.img / data.img_header['INT_TIME']\n",
    "    im = ax.imshow(img)\n",
    "    ax.set_title('{}, {}'.format(fname_tokens.channel, data.img_header['INT_TIME']))\n",
    "    plt.colorbar(im, ax=ax)\n",
    "fig.suptitle('Original darks, then scaled by integration time. (to DN/s)')\n",
    "plt.savefig('Original_darks.png', dpi=150)"
   ]
  },
  {
   "cell_type": "code",
   "execution_count": 91,
   "metadata": {
    "collapsed": false
   },
   "outputs": [],
   "source": [
    "from skimage.exposure import rescale_intensity"
   ]
  },
  {
   "cell_type": "code",
   "execution_count": 100,
   "metadata": {
    "collapsed": false
   },
   "outputs": [],
   "source": [
    "fig, axes = plt.subplots(ncols=2, nrows=2)\n",
    "for ax, ind in zip(axes.flatten()[:2], roi_indexes):\n",
    "    fname_tokens = io.IUVS_Filename(ff.loc[ind].filename)\n",
    "    fname = io.level1apath / ff.loc[ind].filename\n",
    "    data = io.IUVS1AReader(str(fname))\n",
    "    img = data.img / data.img_header['INT_TIME']\n",
    "    flimg = rescale_intensity(1.0 * img)\n",
    "    im = ax.imshow(flimg)\n",
    "    ax.set_title('{}, {}'.format(fname_tokens.channel, data.img_header['INT_TIME']))\n",
    "    plt.colorbar(im, ax=ax)\n",
    "for ax, ind in zip(axes.flatten()[2:], roi_indexes):\n",
    "    fname_tokens = io.IUVS_Filename(ff.loc[ind].filename)\n",
    "    fname = io.level1apath / ff.loc[ind].filename\n",
    "    data = io.IUVS1AReader(str(fname))\n",
    "    img = data.img / data.img_header['INT_TIME']\n",
    "    flimg = rescale_intensity(1.0 * img)\n",
    "    im = ax.imshow(equalize_hist(flimg))\n",
    "    ax.set_title('{}, {}'.format(fname_tokens.channel, data.img_header['INT_TIME']))\n",
    "    plt.colorbar(im, ax=ax)\n",
    "fig.suptitle('Stretched between 0 and 1. And then equalized_histogram.')\n",
    "plt.savefig('Stretched_both_ways.png', dpi=150)"
   ]
  },
  {
   "cell_type": "code",
   "execution_count": 101,
   "metadata": {
    "collapsed": false
   },
   "outputs": [
    {
     "data": {
      "text/plain": [
       "'/home/klay6683/src/iuvs/notebooks'"
      ]
     },
     "execution_count": 101,
     "metadata": {},
     "output_type": "execute_result"
    }
   ],
   "source": [
    "pwd"
   ]
  },
  {
   "cell_type": "code",
   "execution_count": 97,
   "metadata": {
    "collapsed": false
   },
   "outputs": [
    {
     "data": {
      "text/plain": [
       "(array([  8.54670000e+05,   0.00000000e+00,   0.00000000e+00,\n",
       "          0.00000000e+00,   0.00000000e+00,   3.16590000e+04,\n",
       "          0.00000000e+00,   0.00000000e+00,   0.00000000e+00,\n",
       "          0.00000000e+00,   2.47800000e+04,   0.00000000e+00,\n",
       "          0.00000000e+00,   0.00000000e+00,   1.76850000e+04,\n",
       "          0.00000000e+00,   0.00000000e+00,   0.00000000e+00,\n",
       "          0.00000000e+00,   1.39610000e+04,   0.00000000e+00,\n",
       "          0.00000000e+00,   0.00000000e+00,   0.00000000e+00,\n",
       "          1.18050000e+04,   0.00000000e+00,   0.00000000e+00,\n",
       "          0.00000000e+00,   0.00000000e+00,   9.77800000e+03,\n",
       "          0.00000000e+00,   0.00000000e+00,   0.00000000e+00,\n",
       "          7.86800000e+03,   0.00000000e+00,   0.00000000e+00,\n",
       "          0.00000000e+00,   0.00000000e+00,   6.80400000e+03,\n",
       "          0.00000000e+00,   0.00000000e+00,   0.00000000e+00,\n",
       "          0.00000000e+00,   6.12400000e+03,   0.00000000e+00,\n",
       "          0.00000000e+00,   0.00000000e+00,   0.00000000e+00,\n",
       "          5.23200000e+03,   0.00000000e+00,   0.00000000e+00,\n",
       "          0.00000000e+00,   4.37500000e+03,   0.00000000e+00,\n",
       "          0.00000000e+00,   0.00000000e+00,   0.00000000e+00,\n",
       "          4.06300000e+03,   0.00000000e+00,   0.00000000e+00,\n",
       "          0.00000000e+00,   0.00000000e+00,   3.80800000e+03,\n",
       "          0.00000000e+00,   0.00000000e+00,   0.00000000e+00,\n",
       "          3.26400000e+03,   2.85200000e+03,   2.66000000e+03,\n",
       "          2.48600000e+03,   0.00000000e+00,   2.23600000e+03,\n",
       "          1.84300000e+03,   1.70800000e+03,   1.72000000e+03,\n",
       "          0.00000000e+00,   1.47300000e+03,   1.37300000e+03,\n",
       "          1.29500000e+03,   1.20300000e+03,   0.00000000e+00,\n",
       "          1.06600000e+03,   1.02500000e+03,   1.81100000e+03,\n",
       "          1.52900000e+03,   1.96200000e+03,   1.06200000e+03,\n",
       "          1.02300000e+03,   8.36000000e+02,   1.43900000e+03,\n",
       "          1.14700000e+03,   1.17100000e+03,   1.07400000e+03,\n",
       "          9.60000000e+02,   1.03000000e+03,   1.03700000e+03,\n",
       "          9.91000000e+02,   9.06000000e+02,   9.19000000e+02,\n",
       "          8.63000000e+02]),\n",
       " array([ 0.91966438,  0.92046774,  0.9212711 ,  0.92207445,  0.92287781,\n",
       "         0.92368116,  0.92448452,  0.92528788,  0.92609123,  0.92689459,\n",
       "         0.92769794,  0.9285013 ,  0.92930466,  0.93010801,  0.93091137,\n",
       "         0.93171473,  0.93251808,  0.93332144,  0.93412479,  0.93492815,\n",
       "         0.93573151,  0.93653486,  0.93733822,  0.93814157,  0.93894493,\n",
       "         0.93974829,  0.94055164,  0.941355  ,  0.94215836,  0.94296171,\n",
       "         0.94376507,  0.94456842,  0.94537178,  0.94617514,  0.94697849,\n",
       "         0.94778185,  0.94858521,  0.94938856,  0.95019192,  0.95099527,\n",
       "         0.95179863,  0.95260199,  0.95340534,  0.9542087 ,  0.95501205,\n",
       "         0.95581541,  0.95661877,  0.95742212,  0.95822548,  0.95902884,\n",
       "         0.95983219,  0.96063555,  0.9614389 ,  0.96224226,  0.96304562,\n",
       "         0.96384897,  0.96465233,  0.96545568,  0.96625904,  0.9670624 ,\n",
       "         0.96786575,  0.96866911,  0.96947247,  0.97027582,  0.97107918,\n",
       "         0.97188253,  0.97268589,  0.97348925,  0.9742926 ,  0.97509596,\n",
       "         0.97589931,  0.97670267,  0.97750603,  0.97830938,  0.97911274,\n",
       "         0.9799161 ,  0.98071945,  0.98152281,  0.98232616,  0.98312952,\n",
       "         0.98393288,  0.98473623,  0.98553959,  0.98634295,  0.9871463 ,\n",
       "         0.98794966,  0.98875301,  0.98955637,  0.99035973,  0.99116308,\n",
       "         0.99196644,  0.99276979,  0.99357315,  0.99437651,  0.99517986,\n",
       "         0.99598322,  0.99678658,  0.99758993,  0.99839329,  0.99919664,  1.        ]),\n",
       " <a list of 100 Patch objects>)"
      ]
     },
     "execution_count": 97,
     "metadata": {},
     "output_type": "execute_result"
    }
   ],
   "source": [
    "plt.figure()\n",
    "plt.hist(equalize_hist(flimg).flatten(), bins=100)"
   ]
  },
  {
   "cell_type": "code",
   "execution_count": 98,
   "metadata": {
    "collapsed": false
   },
   "outputs": [],
   "source": [
    "equalize_hist?"
   ]
  },
  {
   "cell_type": "code",
   "execution_count": null,
   "metadata": {
    "collapsed": false
   },
   "outputs": [],
   "source": []
  }
 ],
 "metadata": {
  "kernelspec": {
   "display_name": "IPython (Python 3)",
   "name": "python3"
  },
  "language_info": {
   "codemirror_mode": {
    "name": "ipython",
    "version": 3
   },
   "file_extension": ".py",
   "mimetype": "text/x-python",
   "name": "python",
   "nbconvert_exporter": "python",
   "pygments_lexer": "ipython3",
   "version": "3.4.2"
  },
  "signature": "sha256:60d9aed7a1b17be9b6ec4133dbb271522968a3b86cf18af901e2b4ee923ff6fe"
 },
 "nbformat": 4,
 "nbformat_minor": 0
}