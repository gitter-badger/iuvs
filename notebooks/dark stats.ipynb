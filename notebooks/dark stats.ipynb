{
 "cells": [
  {
   "cell_type": "code",
   "execution_count": 1,
   "metadata": {
    "collapsed": false
   },
   "outputs": [],
   "source": [
    "from iuvs import io"
   ]
  },
  {
   "cell_type": "code",
   "execution_count": 8,
   "metadata": {
    "collapsed": false
   },
   "outputs": [
    {
     "name": "stdout",
     "output_type": "stream",
     "text": [
      "Searching for *muvdark*.fits.gz\n"
     ]
    }
   ],
   "source": [
    "muvdarks = list(io.get_l1a_darks('muv'))"
   ]
  },
  {
   "cell_type": "code",
   "execution_count": 9,
   "metadata": {
    "collapsed": false
   },
   "outputs": [],
   "source": [
    "from IPython.parallel import Client\n",
    "c = Client()\n",
    "lb = c.load_balanced_view()"
   ]
  },
  {
   "cell_type": "code",
   "execution_count": 10,
   "metadata": {
    "collapsed": false
   },
   "outputs": [],
   "source": [
    "def search_ff_dark(fname):\n",
    "    from iuvs import io\n",
    "    data = io.IUVS1AReader(str(fname))\n",
    "    if data.img_header['NAXIS1'] == 1024:\n",
    "        if data.img_header['NAXIS2'] == 1024:\n",
    "            return fname"
   ]
  },
  {
   "cell_type": "code",
   "execution_count": 11,
   "metadata": {
    "collapsed": false
   },
   "outputs": [],
   "source": [
    "res = lb.map_async(search_ff_dark, muvdarks)"
   ]
  },
  {
   "cell_type": "code",
   "execution_count": 12,
   "metadata": {
    "collapsed": false
   },
   "outputs": [
    {
     "name": "stdout",
     "output_type": "stream",
     "text": [
      "13.248166548379466 %\n",
      "22.64017033356991 %\n",
      "32.00851667849539 %\n",
      "41.51880766501065 %\n",
      "49.491365034303286 %\n",
      "57.771469127040454 %\n",
      "66.31180506269222 %\n",
      "74.94677075940383 %\n",
      "84.10220014194464 %\n",
      "93.75443577004968 %\n",
      "100.0 %\n"
     ]
    }
   ],
   "source": [
    "import time\n",
    "while not res.ready():\n",
    "    time.sleep(20)\n",
    "    print(100*res.progress/len(muvdarks),'%')"
   ]
  },
  {
   "cell_type": "code",
   "execution_count": 13,
   "metadata": {
    "collapsed": false
   },
   "outputs": [],
   "source": [
    "import pandas as pd\n",
    "s = pd.Series(res.result).dropna()"
   ]
  },
  {
   "cell_type": "code",
   "execution_count": 95,
   "metadata": {
    "collapsed": false
   },
   "outputs": [],
   "source": [
    "f = io.IUVS_Filename(s.iloc[0])"
   ]
  },
  {
   "cell_type": "code",
   "execution_count": 97,
   "metadata": {
    "collapsed": false
   },
   "outputs": [
    {
     "data": {
      "text/plain": [
       "'APP2'"
      ]
     },
     "execution_count": 97,
     "metadata": {},
     "output_type": "execute_result"
    }
   ],
   "source": [
    "f."
   ]
  },
  {
   "cell_type": "code",
   "execution_count": 64,
   "metadata": {
    "collapsed": false
   },
   "outputs": [],
   "source": [
    "f = IUVS_Filename(str(s.tolist()[0]))"
   ]
  },
  {
   "cell_type": "code",
   "execution_count": 65,
   "metadata": {
    "collapsed": false
   },
   "outputs": [
    {
     "data": {
      "text/plain": [
       "['mvn',\n",
       " 'iuv',\n",
       " 'l1a',\n",
       " 'IPH2-cycle00103-mode040-muvdark',\n",
       " '20140527T154453',\n",
       " 'v00',\n",
       " 'r00.fits.gz']"
      ]
     },
     "execution_count": 65,
     "metadata": {},
     "output_type": "execute_result"
    }
   ],
   "source": [
    "f.tokens"
   ]
  },
  {
   "cell_type": "code",
   "execution_count": 15,
   "metadata": {
    "collapsed": false
   },
   "outputs": [],
   "source": [
    "import os\n",
    "s = s.map(lambda x: os.path.basename(str(x)))"
   ]
  },
  {
   "cell_type": "code",
   "execution_count": 16,
   "metadata": {
    "collapsed": true
   },
   "outputs": [],
   "source": [
    "s.sort()"
   ]
  },
  {
   "cell_type": "code",
   "execution_count": 17,
   "metadata": {
    "collapsed": false
   },
   "outputs": [],
   "source": [
    "df = pd.DataFrame(s)"
   ]
  },
  {
   "cell_type": "code",
   "execution_count": 18,
   "metadata": {
    "collapsed": false
   },
   "outputs": [],
   "source": [
    "df.columns = ['basename']"
   ]
  },
  {
   "cell_type": "code",
   "execution_count": 20,
   "metadata": {
    "collapsed": false
   },
   "outputs": [],
   "source": [
    "from iuvs.io import IUVS_Filename\n",
    "df['op_phase'] = df.basename.map(lambda x: IUVS_Filename(x).cycle[:5])"
   ]
  },
  {
   "cell_type": "code",
   "execution_count": 21,
   "metadata": {
    "collapsed": false
   },
   "outputs": [
    {
     "data": {
      "text/plain": [
       "cycle    513\n",
       "orbit      2\n",
       "dtype: int64"
      ]
     },
     "execution_count": 21,
     "metadata": {},
     "output_type": "execute_result"
    }
   ],
   "source": [
    "df.op_phase.value_counts()"
   ]
  },
  {
   "cell_type": "code",
   "execution_count": 22,
   "metadata": {
    "collapsed": false
   },
   "outputs": [],
   "source": [
    "def get_int_time(fname):\n",
    "    path = io.level1apath / fname\n",
    "    data = io.IUVS1AReader(str(path))\n",
    "    return int(data.img_header['INT_TIME'])"
   ]
  },
  {
   "cell_type": "code",
   "execution_count": 23,
   "metadata": {
    "collapsed": false
   },
   "outputs": [],
   "source": [
    "df['INT_TIME'] = df.basename.map(get_int_time)"
   ]
  },
  {
   "cell_type": "code",
   "execution_count": 24,
   "metadata": {
    "collapsed": false
   },
   "outputs": [
    {
     "data": {
      "text/plain": [
       "60    257\n",
       "6     256\n",
       "14      2\n",
       "dtype: int64"
      ]
     },
     "execution_count": 24,
     "metadata": {},
     "output_type": "execute_result"
    }
   ],
   "source": [
    "df.INT_TIME.value_counts()"
   ]
  },
  {
   "cell_type": "code",
   "execution_count": 25,
   "metadata": {
    "collapsed": true
   },
   "outputs": [],
   "source": [
    "df.to_hdf('full_frame_muvs.h5','df')"
   ]
  },
  {
   "cell_type": "code",
   "execution_count": 26,
   "metadata": {
    "collapsed": false
   },
   "outputs": [],
   "source": [
    "%matplotlib qt"
   ]
  },
  {
   "cell_type": "code",
   "execution_count": 27,
   "metadata": {
    "collapsed": false
   },
   "outputs": [],
   "source": [
    "from matplotlib import rcParams\n",
    "rcParams['image.interpolation'] = 'None'"
   ]
  },
  {
   "cell_type": "code",
   "execution_count": 120,
   "metadata": {
    "collapsed": false
   },
   "outputs": [
    {
     "name": "stdout",
     "output_type": "stream",
     "text": [
      "/maven_iuvs/stage/products/level1a/mvn_iuv_l1a_IPH2-cycle00022-mode050-muvdark_20140426T023038_v00_r00.fits.gz\n",
      "/maven_iuvs/stage/products/level1a/mvn_iuv_l1a_early-orbit00003-mode003-muvdark_20140925T202812_v00_r00.fits.gz\n"
     ]
    },
    {
     "ename": "TypeError",
     "evalue": "Invalid dimensions for image data",
     "output_type": "error",
     "traceback": [
      "\u001b[1;31m---------------------------------------------------------------------------\u001b[0m\n\u001b[1;31mTypeError\u001b[0m                                 Traceback (most recent call last)",
      "\u001b[1;32m<ipython-input-120-078389ec0bc3>\u001b[0m in \u001b[0;36m<module>\u001b[1;34m()\u001b[0m\n\u001b[0;32m      5\u001b[0m     \u001b[0mprint\u001b[0m\u001b[1;33m(\u001b[0m\u001b[0mfname\u001b[0m\u001b[1;33m)\u001b[0m\u001b[1;33m\u001b[0m\u001b[0m\n\u001b[0;32m      6\u001b[0m     \u001b[0mdata\u001b[0m \u001b[1;33m=\u001b[0m \u001b[0mio\u001b[0m\u001b[1;33m.\u001b[0m\u001b[0mIUVS1AReader\u001b[0m\u001b[1;33m(\u001b[0m\u001b[0mfname\u001b[0m\u001b[1;33m)\u001b[0m\u001b[1;33m\u001b[0m\u001b[0m\n\u001b[1;32m----> 7\u001b[1;33m     \u001b[0max\u001b[0m\u001b[1;33m.\u001b[0m\u001b[0mimshow\u001b[0m\u001b[1;33m(\u001b[0m\u001b[0mdata\u001b[0m\u001b[1;33m.\u001b[0m\u001b[0mimg\u001b[0m\u001b[1;33m)\u001b[0m\u001b[1;33m\u001b[0m\u001b[0m\n\u001b[0m\u001b[0;32m      8\u001b[0m     ax.set_title(\"{}, {}, {}\".format(data.fname.channel,\n\u001b[0;32m      9\u001b[0m                                        \u001b[0mdata\u001b[0m\u001b[1;33m.\u001b[0m\u001b[0mfname\u001b[0m\u001b[1;33m.\u001b[0m\u001b[0mphase\u001b[0m\u001b[1;33m,\u001b[0m\u001b[1;33m\u001b[0m\u001b[0m\n",
      "\u001b[1;32m/usr/local/python3/miniconda/lib/python3.4/site-packages/matplotlib/axes/_axes.py\u001b[0m in \u001b[0;36mimshow\u001b[1;34m(self, X, cmap, norm, aspect, interpolation, alpha, vmin, vmax, origin, extent, shape, filternorm, filterrad, imlim, resample, url, **kwargs)\u001b[0m\n\u001b[0;32m   4643\u001b[0m                        filterrad=filterrad, resample=resample, **kwargs)\n\u001b[0;32m   4644\u001b[0m \u001b[1;33m\u001b[0m\u001b[0m\n\u001b[1;32m-> 4645\u001b[1;33m         \u001b[0mim\u001b[0m\u001b[1;33m.\u001b[0m\u001b[0mset_data\u001b[0m\u001b[1;33m(\u001b[0m\u001b[0mX\u001b[0m\u001b[1;33m)\u001b[0m\u001b[1;33m\u001b[0m\u001b[0m\n\u001b[0m\u001b[0;32m   4646\u001b[0m         \u001b[0mim\u001b[0m\u001b[1;33m.\u001b[0m\u001b[0mset_alpha\u001b[0m\u001b[1;33m(\u001b[0m\u001b[0malpha\u001b[0m\u001b[1;33m)\u001b[0m\u001b[1;33m\u001b[0m\u001b[0m\n\u001b[0;32m   4647\u001b[0m         \u001b[1;32mif\u001b[0m \u001b[0mim\u001b[0m\u001b[1;33m.\u001b[0m\u001b[0mget_clip_path\u001b[0m\u001b[1;33m(\u001b[0m\u001b[1;33m)\u001b[0m \u001b[1;32mis\u001b[0m \u001b[1;32mNone\u001b[0m\u001b[1;33m:\u001b[0m\u001b[1;33m\u001b[0m\u001b[0m\n",
      "\u001b[1;32m/usr/local/python3/miniconda/lib/python3.4/site-packages/matplotlib/image.py\u001b[0m in \u001b[0;36mset_data\u001b[1;34m(self, A)\u001b[0m\n\u001b[0;32m    436\u001b[0m         if (self._A.ndim not in (2, 3) or\n\u001b[0;32m    437\u001b[0m             (self._A.ndim == 3 and self._A.shape[-1] not in (3, 4))):\n\u001b[1;32m--> 438\u001b[1;33m             \u001b[1;32mraise\u001b[0m \u001b[0mTypeError\u001b[0m\u001b[1;33m(\u001b[0m\u001b[1;34m\"Invalid dimensions for image data\"\u001b[0m\u001b[1;33m)\u001b[0m\u001b[1;33m\u001b[0m\u001b[0m\n\u001b[0m\u001b[0;32m    439\u001b[0m \u001b[1;33m\u001b[0m\u001b[0m\n\u001b[0;32m    440\u001b[0m         \u001b[0mself\u001b[0m\u001b[1;33m.\u001b[0m\u001b[0m_imcache\u001b[0m \u001b[1;33m=\u001b[0m \u001b[1;32mNone\u001b[0m\u001b[1;33m\u001b[0m\u001b[0m\n",
      "\u001b[1;31mTypeError\u001b[0m: Invalid dimensions for image data"
     ]
    }
   ],
   "source": [
    "equalled = []\n",
    "fig, axes = plt.subplots(2,2)\n",
    "axes = axes.flatten()\n",
    "for ax,fname in zip(axes, [t6,t10,t14,t60]):\n",
    "    print(fname)\n",
    "    data = io.IUVS1AReader(fname)\n",
    "    ax.imshow(data.img)\n",
    "    ax.set_title(\"{}, {}, {}\".format(data.fname.channel,\n",
    "                                       data.fname.phase,\n",
    "                                       data.img_header['INT_TIME']))"
   ]
  },
  {
   "cell_type": "code",
   "execution_count": 19,
   "metadata": {
    "collapsed": false
   },
   "outputs": [],
   "source": [
    "l1a_metadata = pd.read_table(\"/maven_iuvs/stage/products/level1a/IUVS_L1A_index_summary.txt\",\n",
    "              y)"
   ]
  },
  {
   "cell_type": "code",
   "execution_count": 57,
   "metadata": {
    "collapsed": false
   },
   "outputs": [],
   "source": [
    "ff = l1a_metadata[(l1a_metadata.NX == 1024) & (l1a_metadata.NY == 1024)]"
   ]
  },
  {
   "cell_type": "code",
   "execution_count": 56,
   "metadata": {
    "collapsed": false
   },
   "outputs": [],
   "source": [
    "l1a_metadata['is_dark'] = l1a_metadata.filename.map(lambda x: 'dark' in x)"
   ]
  },
  {
   "cell_type": "code",
   "execution_count": 89,
   "metadata": {
    "collapsed": false
   },
   "outputs": [
    {
     "data": {
      "text/html": [
       "<div style=\"max-height:1000px;max-width:1500px;overflow:auto;\">\n",
       "<table border=\"1\" class=\"dataframe\">\n",
       "  <thead>\n",
       "    <tr style=\"text-align: right;\">\n",
       "      <th></th>\n",
       "      <th>INT_TIME</th>\n",
       "      <th>MCP_HV</th>\n",
       "    </tr>\n",
       "    <tr>\n",
       "      <th>filenum</th>\n",
       "      <th></th>\n",
       "      <th></th>\n",
       "    </tr>\n",
       "  </thead>\n",
       "  <tbody>\n",
       "    <tr>\n",
       "      <th>6610</th>\n",
       "      <td> 60000</td>\n",
       "      <td> 0</td>\n",
       "    </tr>\n",
       "    <tr>\n",
       "      <th>6625</th>\n",
       "      <td> 14400</td>\n",
       "      <td> 0</td>\n",
       "    </tr>\n",
       "    <tr>\n",
       "      <th>6626</th>\n",
       "      <td> 14400</td>\n",
       "      <td> 0</td>\n",
       "    </tr>\n",
       "    <tr>\n",
       "      <th>6627</th>\n",
       "      <td> 14400</td>\n",
       "      <td> 0</td>\n",
       "    </tr>\n",
       "    <tr>\n",
       "      <th>6628</th>\n",
       "      <td> 14400</td>\n",
       "      <td> 0</td>\n",
       "    </tr>\n",
       "  </tbody>\n",
       "</table>\n",
       "</div>"
      ],
      "text/plain": [
       "         INT_TIME MCP_HV\n",
       "filenum                 \n",
       "6610        60000      0\n",
       "6625        14400      0\n",
       "6626        14400      0\n",
       "6627        14400      0\n",
       "6628        14400      0"
      ]
     },
     "execution_count": 89,
     "metadata": {},
     "output_type": "execute_result"
    }
   ],
   "source": [
    "ff[ff.is_dark][['INT_TIME','MCP_HV']]"
   ]
  },
  {
   "cell_type": "code",
   "execution_count": 62,
   "metadata": {
    "collapsed": false
   },
   "outputs": [],
   "source": [
    "ff.index = ff.index.astype('int')"
   ]
  },
  {
   "cell_type": "code",
   "execution_count": 76,
   "metadata": {
    "collapsed": false
   },
   "outputs": [],
   "source": [
    "from matplotlib import rcParams\n",
    "rcParams['image.interpolation'] = None"
   ]
  },
  {
   "cell_type": "code",
   "execution_count": 80,
   "metadata": {
    "collapsed": false
   },
   "outputs": [],
   "source": [
    "roi_indexes = [6610, 6627]"
   ]
  },
  {
   "cell_type": "code",
   "execution_count": 83,
   "metadata": {
    "collapsed": false
   },
   "outputs": [],
   "source": [
    "plt.colorbar?"
   ]
  },
  {
   "cell_type": "code",
   "execution_count": 99,
   "metadata": {
    "collapsed": false
   },
   "outputs": [],
   "source": [
    "fig, axes = plt.subplots(ncols=2, nrows=2)\n",
    "for ax, ind in zip(axes.flatten()[:2], roi_indexes):\n",
    "    fname_tokens = io.IUVS_Filename(ff.loc[ind].filename)\n",
    "    fname = io.level1apath / ff.loc[ind].filename\n",
    "    data = io.IUVS1AReader(str(fname))\n",
    "    img = data.img #/ data.img_header['INT_TIME']\n",
    "    im = ax.imshow(img)\n",
    "    ax.set_title('{}, {}'.format(fname_tokens.channel, data.img_header['INT_TIME']))\n",
    "    plt.colorbar(im, ax=ax)\n",
    "for ax, ind in zip(axes.flatten()[2:], roi_indexes):\n",
    "    fname_tokens = io.IUVS_Filename(ff.loc[ind].filename)\n",
    "    fname = io.level1apath / ff.loc[ind].filename\n",
    "    data = io.IUVS1AReader(str(fname))\n",
    "    img = data.img / data.img_header['INT_TIME']\n",
    "    im = ax.imshow(img)\n",
    "    ax.set_title('{}, {}'.format(fname_tokens.channel, data.img_header['INT_TIME']))\n",
    "    plt.colorbar(im, ax=ax)\n",
    "fig.suptitle('Original darks, then scaled by integration time. (to DN/s)')\n",
    "plt.savefig('Original_darks.png', dpi=150)"
   ]
  },
  {
   "cell_type": "code",
   "execution_count": 91,
   "metadata": {
    "collapsed": false
   },
   "outputs": [],
   "source": [
    "from skimage.exposure import rescale_intensity"
   ]
  },
  {
   "cell_type": "code",
   "execution_count": 100,
   "metadata": {
    "collapsed": false
   },
   "outputs": [],
   "source": [
    "fig, axes = plt.subplots(ncols=2, nrows=2)\n",
    "for ax, ind in zip(axes.flatten()[:2], roi_indexes):\n",
    "    fname_tokens = io.IUVS_Filename(ff.loc[ind].filename)\n",
    "    fname = io.level1apath / ff.loc[ind].filename\n",
    "    data = io.IUVS1AReader(str(fname))\n",
    "    img = data.img / data.img_header['INT_TIME']\n",
    "    flimg = rescale_intensity(1.0 * img)\n",
    "    im = ax.imshow(flimg)\n",
    "    ax.set_title('{}, {}'.format(fname_tokens.channel, data.img_header['INT_TIME']))\n",
    "    plt.colorbar(im, ax=ax)\n",
    "for ax, ind in zip(axes.flatten()[2:], roi_indexes):\n",
    "    fname_tokens = io.IUVS_Filename(ff.loc[ind].filename)\n",
    "    fname = io.level1apath / ff.loc[ind].filename\n",
    "    data = io.IUVS1AReader(str(fname))\n",
    "    img = data.img / data.img_header['INT_TIME']\n",
    "    flimg = rescale_intensity(1.0 * img)\n",
    "    im = ax.imshow(equalize_hist(flimg))\n",
    "    ax.set_title('{}, {}'.format(fname_tokens.channel, data.img_header['INT_TIME']))\n",
    "    plt.colorbar(im, ax=ax)\n",
    "fig.suptitle('Stretched between 0 and 1. And then equalized_histogram.')\n",
    "plt.savefig('Stretched_both_ways.png', dpi=150)"
   ]
  },
  {
   "cell_type": "code",
   "execution_count": 101,
   "metadata": {
    "collapsed": false
   },
   "outputs": [
    {
     "data": {
      "text/plain": [
       "'/home/klay6683/src/iuvs/notebooks'"
      ]
     },
     "execution_count": 101,
     "metadata": {},
     "output_type": "execute_result"
    }
   ],
   "source": [
    "pwd"
   ]
  },
  {
   "cell_type": "code",
   "execution_count": 64,
   "metadata": {
    "collapsed": false
   },
   "outputs": [],
   "source": [
    "fnames = df[df.INT_TIME == 60].head(10).basename"
   ]
  },
  {
   "cell_type": "code",
   "execution_count": 2,
   "metadata": {
    "collapsed": true
   },
   "outputs": [],
   "source": [
    "%matplotlib qt"
   ]
  },
  {
   "cell_type": "code",
   "execution_count": 55,
   "metadata": {
    "collapsed": true
   },
   "outputs": [],
   "source": [
    "import matplotlib\n",
    "matplotlib.style.use('ggplot')"
   ]
  },
  {
   "cell_type": "code",
   "execution_count": 80,
   "metadata": {
    "collapsed": false
   },
   "outputs": [],
   "source": [
    "import numpy as np\n",
    "from skimage.exposure import (rescale_intensity, \n",
    "                              equalize_adapthist, \n",
    "                              equalize_hist)\n",
    "import matplotlib.pyplot as plt\n",
    "import skimage\n",
    "\n",
    "def plot_stretched(fname, savename_prefix):\n",
    "    fig, axes = plt.subplots(2,2)\n",
    "    axes = axes.flatten()\n",
    "    path = io.level1apath / fname\n",
    "    data = io.IUVS1AReader(str(path))\n",
    "    img = data.img\n",
    "    im = axes[0].imshow(img)\n",
    "    axes[0].set_title('Raw image, {} s'.format(data.img_header['INT_TIME']))\n",
    "    plt.colorbar(im, ax=axes[0])\n",
    "    p2, p98 = np.percentile(img, (2,98))\n",
    "    img_rescale = rescale_intensity(img, in_range=(p2, p98))\n",
    "    img_eq = equalize_hist(img)\n",
    "#     img_ad_eq = equalize_adapthist(img, clip_limit=0.03)\n",
    "    im = axes[1].imshow(img_rescale)\n",
    "    axes[1].set_title('Normal rescale')\n",
    "    plt.colorbar(im, ax=axes[1])\n",
    "    im = axes[2].imshow(img_eq)\n",
    "    axes[2].set_title('Hist equalized')\n",
    "    plt.colorbar(im, ax=axes[2])\n",
    "#     axes[3].imshow(img_ad_eq)\n",
    "    fig.suptitle(os.path.basename(fname))\n",
    "    plt.savefig(savename_prefix+'.png', dpi=150)\n",
    "#     plt.close(fig)"
   ]
  },
  {
   "cell_type": "code",
   "execution_count": 82,
   "metadata": {
    "collapsed": false
   },
   "outputs": [],
   "source": [
    "for i,fname in enumerate(df[df.INT_TIME == 60].basename[:1]):\n",
    "    plot_stretched(fname, 'dark_60s_{}'.format(str(i).zfill(2)))"
   ]
  },
  {
   "cell_type": "code",
   "execution_count": 79,
   "metadata": {
    "collapsed": false
   },
   "outputs": [],
   "source": [
    "for i,fname in enumerate(df[df.INT_TIME == 6].basename[:20]):\n",
    "    plot_stretched(fname, 'dark_6s_{}'.format(str(i).zfill(2)))"
   ]
  },
  {
   "cell_type": "code",
   "execution_count": 84,
   "metadata": {
    "collapsed": false
   },
   "outputs": [
    {
     "data": {
      "text/plain": [
       "4227"
      ]
     },
     "execution_count": 84,
     "metadata": {},
     "output_type": "execute_result"
    }
   ],
   "source": [
    "len(muvdarks)"
   ]
  },
  {
   "cell_type": "code",
   "execution_count": 88,
   "metadata": {
    "collapsed": false
   },
   "outputs": [],
   "source": [
    "ff = pd.read_hdf('full_frame_muvs.h5', 'df')"
   ]
  },
  {
   "cell_type": "code",
   "execution_count": 90,
   "metadata": {
    "collapsed": false
   },
   "outputs": [
    {
     "name": "stdout",
     "output_type": "stream",
     "text": [
      "<class 'pandas.core.frame.DataFrame'>\n",
      "Int64Index: 515 entries, 467 to 1274\n",
      "Data columns (total 3 columns):\n",
      "basename    515 non-null object\n",
      "op_phase    515 non-null object\n",
      "INT_TIME    515 non-null int64\n",
      "dtypes: int64(1), object(2)\n",
      "memory usage: 16.1+ KB\n"
     ]
    }
   ],
   "source": [
    "ff.info()"
   ]
  },
  {
   "cell_type": "code",
   "execution_count": 104,
   "metadata": {
    "collapsed": false
   },
   "outputs": [],
   "source": [
    "def add_timestamp(fname):\n",
    "    path = io.level1apath / fname\n",
    "    iuvsfname = io.IUVS_Filename(str(path))\n",
    "    return iuvsfname.time"
   ]
  },
  {
   "cell_type": "code",
   "execution_count": 94,
   "metadata": {
    "collapsed": false
   },
   "outputs": [
    {
     "data": {
      "text/plain": [
       "Index(['basename', 'op_phase', 'INT_TIME'], dtype='object')"
      ]
     },
     "execution_count": 94,
     "metadata": {},
     "output_type": "execute_result"
    }
   ],
   "source": [
    "ff.columns"
   ]
  },
  {
   "cell_type": "code",
   "execution_count": 105,
   "metadata": {
    "collapsed": false
   },
   "outputs": [],
   "source": [
    "ff['time'] = ff.basename.map(add_timestamp)"
   ]
  },
  {
   "cell_type": "code",
   "execution_count": 107,
   "metadata": {
    "collapsed": false
   },
   "outputs": [],
   "source": [
    "ff.set_index('time', inplace=True)"
   ]
  },
  {
   "cell_type": "code",
   "execution_count": 109,
   "metadata": {
    "collapsed": false
   },
   "outputs": [],
   "source": [
    "ff.sort_index(inplace=True)"
   ]
  },
  {
   "cell_type": "code",
   "execution_count": 112,
   "metadata": {
    "collapsed": false
   },
   "outputs": [],
   "source": [
    "ff['fake'] = 1"
   ]
  },
  {
   "cell_type": "code",
   "execution_count": 123,
   "metadata": {
    "collapsed": true
   },
   "outputs": [],
   "source": [
    "%matplotlib qt"
   ]
  },
  {
   "cell_type": "code",
   "execution_count": 129,
   "metadata": {
    "collapsed": false
   },
   "outputs": [],
   "source": [
    "ff['has_cycle00116'] = ff.basename.str.contains('cycle00116')"
   ]
  },
  {
   "cell_type": "code",
   "execution_count": 132,
   "metadata": {
    "collapsed": false
   },
   "outputs": [
    {
     "data": {
      "text/plain": [
       "'mvn_iuv_l1a_IPH2-cycle00116-mode040-muvdark_20140531T234520_v00_r00.fits.gz'"
      ]
     },
     "execution_count": 132,
     "metadata": {},
     "output_type": "execute_result"
    }
   ],
   "source": [
    "ff[ff.has_cycle00116].basename.iloc[0]"
   ]
  },
  {
   "cell_type": "code",
   "execution_count": 134,
   "metadata": {
    "collapsed": false
   },
   "outputs": [
    {
     "name": "stdout",
     "output_type": "stream",
     "text": [
      "/maven_iuvs/stage/products/level1a\n"
     ]
    }
   ],
   "source": [
    "cd /maven_iuvs/stage/products/level1a/"
   ]
  },
  {
   "cell_type": "code",
   "execution_count": 137,
   "metadata": {
    "collapsed": true
   },
   "outputs": [],
   "source": [
    "fnames = !ls *IPH2-cycle00116*muv*.fits.gz*"
   ]
  },
  {
   "cell_type": "code",
   "execution_count": 143,
   "metadata": {
    "collapsed": false
   },
   "outputs": [
    {
     "data": {
      "text/plain": [
       "'mvn_iuv_l1a_IPH2-cycle00001-mode040-muvdark_20140419T004311_v00_r00.fits.gz'"
      ]
     },
     "execution_count": 143,
     "metadata": {},
     "output_type": "execute_result"
    }
   ],
   "source": [
    "ff[ff.basename.str.contains('IPH2')].basename.iloc[0]"
   ]
  },
  {
   "cell_type": "code",
   "execution_count": 144,
   "metadata": {
    "collapsed": false
   },
   "outputs": [
    {
     "name": "stdout",
     "output_type": "stream",
     "text": [
      "mvn_iuv_l1a_IPH2-cycle00001-mode040-muv_20140419T004426_v00_r00.fits.gz\r\n",
      "mvn_iuv_l1a_IPH2-cycle00001-mode040-muvdark_20140419T004311_v00_r00.fits.gz\r\n"
     ]
    }
   ],
   "source": [
    "!ls *IPH2-cycle00001-mode040-muv*"
   ]
  },
  {
   "cell_type": "code",
   "execution_count": 147,
   "metadata": {
    "collapsed": false
   },
   "outputs": [],
   "source": [
    "ff['mode'] = ff.basename.map(lambda x: io.IUVS_Filename(x).mode)"
   ]
  },
  {
   "cell_type": "code",
   "execution_count": 149,
   "metadata": {
    "collapsed": false
   },
   "outputs": [
    {
     "data": {
      "text/plain": [
       "mode\n",
       "mode040     257\n",
       "mode050     256\n",
       "mode2002      2\n",
       "dtype: int64"
      ]
     },
     "execution_count": 149,
     "metadata": {},
     "output_type": "execute_result"
    }
   ],
   "source": [
    "ff.groupby('mode').size()"
   ]
  },
  {
   "cell_type": "code",
   "execution_count": null,
   "metadata": {
    "collapsed": true
   },
   "outputs": [],
   "source": []
  }
 ],
 "metadata": {
  "kernelspec": {
   "display_name": "Python 3",
   "language": "python",
   "name": "python3"
  },
  "language_info": {
   "codemirror_mode": {
    "name": "ipython",
    "version": 3
   },
   "file_extension": ".py",
   "mimetype": "text/x-python",
   "name": "python",
   "nbconvert_exporter": "python",
   "pygments_lexer": "ipython3",
   "version": "3.4.2"
  }
 },
 "nbformat": 4,
 "nbformat_minor": 0
}
