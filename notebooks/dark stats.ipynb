{
 "metadata": {
  "name": "",
  "signature": "sha256:61927d7af04eb898a7bc9e8598b874f625b3c77b1a62ae50364a1e85e500bf55"
 },
 "nbformat": 3,
 "nbformat_minor": 0,
 "worksheets": [
  {
   "cells": [
    {
     "cell_type": "code",
     "collapsed": false,
     "input": [
      "root = '/maven_iuvs/stage/products/level1a'"
     ],
     "language": "python",
     "metadata": {},
     "outputs": []
    }
   ],
   "metadata": {}
  }
 ]
}